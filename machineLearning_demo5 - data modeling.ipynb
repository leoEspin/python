{
 "cells": [
  {
   "cell_type": "markdown",
   "metadata": {},
   "source": [
    "## Predict housing prices from data patterns\n",
    "in a *Kaggle* database with information from houses in Ames, Iowa containing:\n",
    "* 80 descriptive variables\n",
    "    * 37 numerical variables\n",
    "    * 43 categorical variables\n",
    "    \n",
    "**Objective:** reduce prediction errors as much as possible using **XGBoost** models (Gradient Boosted Decision Trees)\n",
    "\n",
    "**Author:** Leonardo Espin.\n",
    "\n",
    "Licensing: This code is distributed under the Mozilla Public License Version 2.0. Date: 09/28/2018"
   ]
  },
  {
   "cell_type": "code",
   "execution_count": 2,
   "metadata": {},
   "outputs": [],
   "source": [
    "# Loading libraries\n",
    "import numpy as np\n",
    "import pandas as pd\n",
    "pd.set_option('display.max_columns', 100)\n",
    "import xgboost as xgb\n",
    "from xgboost.sklearn import XGBRegressor\n",
    "from sklearn.model_selection import cross_val_score,GridSearchCV\n",
    "from sklearn import metrics"
   ]
  },
  {
   "cell_type": "code",
   "execution_count": 10,
   "metadata": {},
   "outputs": [],
   "source": [
    "import matplotlib.pylab as plt\n",
    "#set matplotlib options\n",
    "from matplotlib.pylab import rcParams\n",
    "rcParams['figure.figsize'] = 15, 4"
   ]
  },
  {
   "cell_type": "markdown",
   "metadata": {},
   "source": [
    "1. Load data"
   ]
  },
  {
   "cell_type": "code",
   "execution_count": 6,
   "metadata": {},
   "outputs": [
    {
     "name": "stdout",
     "output_type": "stream",
     "text": [
      "(1460, 237)\n"
     ]
    },
    {
     "data": {
      "text/html": [
       "<div>\n",
       "<style scoped>\n",
       "    .dataframe tbody tr th:only-of-type {\n",
       "        vertical-align: middle;\n",
       "    }\n",
       "\n",
       "    .dataframe tbody tr th {\n",
       "        vertical-align: top;\n",
       "    }\n",
       "\n",
       "    .dataframe thead th {\n",
       "        text-align: right;\n",
       "    }\n",
       "</style>\n",
       "<table border=\"1\" class=\"dataframe\">\n",
       "  <thead>\n",
       "    <tr style=\"text-align: right;\">\n",
       "      <th></th>\n",
       "      <th>MSSubClass</th>\n",
       "      <th>LotFrontage</th>\n",
       "      <th>LotArea</th>\n",
       "      <th>Street</th>\n",
       "      <th>LotShape</th>\n",
       "      <th>Utilities</th>\n",
       "      <th>LandSlope</th>\n",
       "      <th>BldgType</th>\n",
       "      <th>OverallQual</th>\n",
       "      <th>OverallCond</th>\n",
       "      <th>YearBuilt</th>\n",
       "      <th>YearRemodAdd</th>\n",
       "      <th>MasVnrArea</th>\n",
       "      <th>BsmtFinSF1</th>\n",
       "      <th>BsmtFinType2</th>\n",
       "      <th>BsmtFinSF2</th>\n",
       "      <th>BsmtUnfSF</th>\n",
       "      <th>TotalBsmtSF</th>\n",
       "      <th>Heating</th>\n",
       "      <th>CentralAir</th>\n",
       "      <th>1stFlrSF</th>\n",
       "      <th>2ndFlrSF</th>\n",
       "      <th>LowQualFinSF</th>\n",
       "      <th>GrLivArea</th>\n",
       "      <th>BsmtFullBath</th>\n",
       "      <th>BsmtHalfBath</th>\n",
       "      <th>FullBath</th>\n",
       "      <th>HalfBath</th>\n",
       "      <th>BedroomAbvGr</th>\n",
       "      <th>KitchenAbvGr</th>\n",
       "      <th>TotRmsAbvGrd</th>\n",
       "      <th>Functional</th>\n",
       "      <th>Fireplaces</th>\n",
       "      <th>GarageYrBlt</th>\n",
       "      <th>GarageCars</th>\n",
       "      <th>GarageArea</th>\n",
       "      <th>GarageCond</th>\n",
       "      <th>PavedDrive</th>\n",
       "      <th>WoodDeckSF</th>\n",
       "      <th>OpenPorchSF</th>\n",
       "      <th>EnclosedPorch</th>\n",
       "      <th>3SsnPorch</th>\n",
       "      <th>ScreenPorch</th>\n",
       "      <th>PoolArea</th>\n",
       "      <th>MiscVal</th>\n",
       "      <th>MoSold</th>\n",
       "      <th>YrSold</th>\n",
       "      <th>SalePrice</th>\n",
       "      <th>PoolQC_missing</th>\n",
       "      <th>MiscFeature_missing</th>\n",
       "      <th>...</th>\n",
       "      <th>Electrical_FuseA</th>\n",
       "      <th>Electrical_FuseF</th>\n",
       "      <th>Electrical_FuseP</th>\n",
       "      <th>Electrical_Mix</th>\n",
       "      <th>Electrical_SBrkr</th>\n",
       "      <th>Electrical_missing</th>\n",
       "      <th>KitchenQual_Ex</th>\n",
       "      <th>KitchenQual_Fa</th>\n",
       "      <th>KitchenQual_Gd</th>\n",
       "      <th>KitchenQual_TA</th>\n",
       "      <th>KitchenQual_missing</th>\n",
       "      <th>FireplaceQu_Ex</th>\n",
       "      <th>FireplaceQu_Fa</th>\n",
       "      <th>FireplaceQu_Gd</th>\n",
       "      <th>FireplaceQu_Po</th>\n",
       "      <th>FireplaceQu_TA</th>\n",
       "      <th>FireplaceQu_missing</th>\n",
       "      <th>GarageType_2Types</th>\n",
       "      <th>GarageType_Attchd</th>\n",
       "      <th>GarageType_Basment</th>\n",
       "      <th>GarageType_BuiltIn</th>\n",
       "      <th>GarageType_CarPort</th>\n",
       "      <th>GarageType_Detchd</th>\n",
       "      <th>GarageType_missing</th>\n",
       "      <th>GarageFinish_Fin</th>\n",
       "      <th>GarageFinish_RFn</th>\n",
       "      <th>GarageFinish_Unf</th>\n",
       "      <th>GarageFinish_missing</th>\n",
       "      <th>GarageQual_Ex</th>\n",
       "      <th>GarageQual_Fa</th>\n",
       "      <th>GarageQual_Gd</th>\n",
       "      <th>GarageQual_Po</th>\n",
       "      <th>GarageQual_TA</th>\n",
       "      <th>GarageQual_missing</th>\n",
       "      <th>SaleType_COD</th>\n",
       "      <th>SaleType_CWD</th>\n",
       "      <th>SaleType_Con</th>\n",
       "      <th>SaleType_ConLD</th>\n",
       "      <th>SaleType_ConLI</th>\n",
       "      <th>SaleType_ConLw</th>\n",
       "      <th>SaleType_New</th>\n",
       "      <th>SaleType_Oth</th>\n",
       "      <th>SaleType_WD</th>\n",
       "      <th>SaleType_missing</th>\n",
       "      <th>SaleCondition_Abnorml</th>\n",
       "      <th>SaleCondition_AdjLand</th>\n",
       "      <th>SaleCondition_Alloca</th>\n",
       "      <th>SaleCondition_Family</th>\n",
       "      <th>SaleCondition_Normal</th>\n",
       "      <th>SaleCondition_Partial</th>\n",
       "    </tr>\n",
       "  </thead>\n",
       "  <tbody>\n",
       "    <tr>\n",
       "      <th>0</th>\n",
       "      <td>60</td>\n",
       "      <td>65.0</td>\n",
       "      <td>8450</td>\n",
       "      <td>1</td>\n",
       "      <td>1</td>\n",
       "      <td>1</td>\n",
       "      <td>1</td>\n",
       "      <td>1</td>\n",
       "      <td>7</td>\n",
       "      <td>5</td>\n",
       "      <td>2003</td>\n",
       "      <td>2003</td>\n",
       "      <td>196.0</td>\n",
       "      <td>706.0</td>\n",
       "      <td>1</td>\n",
       "      <td>0.0</td>\n",
       "      <td>150.0</td>\n",
       "      <td>856.0</td>\n",
       "      <td>1</td>\n",
       "      <td>1</td>\n",
       "      <td>856</td>\n",
       "      <td>854</td>\n",
       "      <td>0</td>\n",
       "      <td>1710</td>\n",
       "      <td>1.0</td>\n",
       "      <td>0.0</td>\n",
       "      <td>2</td>\n",
       "      <td>1</td>\n",
       "      <td>3</td>\n",
       "      <td>1</td>\n",
       "      <td>8</td>\n",
       "      <td>1</td>\n",
       "      <td>0</td>\n",
       "      <td>2003.0</td>\n",
       "      <td>2.0</td>\n",
       "      <td>548.0</td>\n",
       "      <td>1</td>\n",
       "      <td>1</td>\n",
       "      <td>0</td>\n",
       "      <td>61</td>\n",
       "      <td>0</td>\n",
       "      <td>0</td>\n",
       "      <td>0</td>\n",
       "      <td>0</td>\n",
       "      <td>0</td>\n",
       "      <td>2</td>\n",
       "      <td>2008</td>\n",
       "      <td>208500.0</td>\n",
       "      <td>1</td>\n",
       "      <td>1</td>\n",
       "      <td>...</td>\n",
       "      <td>0</td>\n",
       "      <td>0</td>\n",
       "      <td>0</td>\n",
       "      <td>0</td>\n",
       "      <td>1</td>\n",
       "      <td>0</td>\n",
       "      <td>0</td>\n",
       "      <td>0</td>\n",
       "      <td>1</td>\n",
       "      <td>0</td>\n",
       "      <td>0</td>\n",
       "      <td>0</td>\n",
       "      <td>0</td>\n",
       "      <td>0</td>\n",
       "      <td>0</td>\n",
       "      <td>0</td>\n",
       "      <td>1</td>\n",
       "      <td>0</td>\n",
       "      <td>1</td>\n",
       "      <td>0</td>\n",
       "      <td>0</td>\n",
       "      <td>0</td>\n",
       "      <td>0</td>\n",
       "      <td>0</td>\n",
       "      <td>0</td>\n",
       "      <td>1</td>\n",
       "      <td>0</td>\n",
       "      <td>0</td>\n",
       "      <td>0</td>\n",
       "      <td>0</td>\n",
       "      <td>0</td>\n",
       "      <td>0</td>\n",
       "      <td>1</td>\n",
       "      <td>0</td>\n",
       "      <td>0</td>\n",
       "      <td>0</td>\n",
       "      <td>0</td>\n",
       "      <td>0</td>\n",
       "      <td>0</td>\n",
       "      <td>0</td>\n",
       "      <td>0</td>\n",
       "      <td>0</td>\n",
       "      <td>1</td>\n",
       "      <td>0</td>\n",
       "      <td>0</td>\n",
       "      <td>0</td>\n",
       "      <td>0</td>\n",
       "      <td>0</td>\n",
       "      <td>1</td>\n",
       "      <td>0</td>\n",
       "    </tr>\n",
       "    <tr>\n",
       "      <th>1</th>\n",
       "      <td>20</td>\n",
       "      <td>80.0</td>\n",
       "      <td>9600</td>\n",
       "      <td>1</td>\n",
       "      <td>1</td>\n",
       "      <td>1</td>\n",
       "      <td>1</td>\n",
       "      <td>1</td>\n",
       "      <td>6</td>\n",
       "      <td>8</td>\n",
       "      <td>1976</td>\n",
       "      <td>1976</td>\n",
       "      <td>0.0</td>\n",
       "      <td>978.0</td>\n",
       "      <td>1</td>\n",
       "      <td>0.0</td>\n",
       "      <td>284.0</td>\n",
       "      <td>1262.0</td>\n",
       "      <td>1</td>\n",
       "      <td>1</td>\n",
       "      <td>1262</td>\n",
       "      <td>0</td>\n",
       "      <td>0</td>\n",
       "      <td>1262</td>\n",
       "      <td>0.0</td>\n",
       "      <td>1.0</td>\n",
       "      <td>2</td>\n",
       "      <td>0</td>\n",
       "      <td>3</td>\n",
       "      <td>1</td>\n",
       "      <td>6</td>\n",
       "      <td>1</td>\n",
       "      <td>1</td>\n",
       "      <td>1976.0</td>\n",
       "      <td>2.0</td>\n",
       "      <td>460.0</td>\n",
       "      <td>1</td>\n",
       "      <td>1</td>\n",
       "      <td>298</td>\n",
       "      <td>0</td>\n",
       "      <td>0</td>\n",
       "      <td>0</td>\n",
       "      <td>0</td>\n",
       "      <td>0</td>\n",
       "      <td>0</td>\n",
       "      <td>5</td>\n",
       "      <td>2007</td>\n",
       "      <td>181500.0</td>\n",
       "      <td>1</td>\n",
       "      <td>1</td>\n",
       "      <td>...</td>\n",
       "      <td>0</td>\n",
       "      <td>0</td>\n",
       "      <td>0</td>\n",
       "      <td>0</td>\n",
       "      <td>1</td>\n",
       "      <td>0</td>\n",
       "      <td>0</td>\n",
       "      <td>0</td>\n",
       "      <td>0</td>\n",
       "      <td>1</td>\n",
       "      <td>0</td>\n",
       "      <td>0</td>\n",
       "      <td>0</td>\n",
       "      <td>0</td>\n",
       "      <td>0</td>\n",
       "      <td>1</td>\n",
       "      <td>0</td>\n",
       "      <td>0</td>\n",
       "      <td>1</td>\n",
       "      <td>0</td>\n",
       "      <td>0</td>\n",
       "      <td>0</td>\n",
       "      <td>0</td>\n",
       "      <td>0</td>\n",
       "      <td>0</td>\n",
       "      <td>1</td>\n",
       "      <td>0</td>\n",
       "      <td>0</td>\n",
       "      <td>0</td>\n",
       "      <td>0</td>\n",
       "      <td>0</td>\n",
       "      <td>0</td>\n",
       "      <td>1</td>\n",
       "      <td>0</td>\n",
       "      <td>0</td>\n",
       "      <td>0</td>\n",
       "      <td>0</td>\n",
       "      <td>0</td>\n",
       "      <td>0</td>\n",
       "      <td>0</td>\n",
       "      <td>0</td>\n",
       "      <td>0</td>\n",
       "      <td>1</td>\n",
       "      <td>0</td>\n",
       "      <td>0</td>\n",
       "      <td>0</td>\n",
       "      <td>0</td>\n",
       "      <td>0</td>\n",
       "      <td>1</td>\n",
       "      <td>0</td>\n",
       "    </tr>\n",
       "    <tr>\n",
       "      <th>2</th>\n",
       "      <td>60</td>\n",
       "      <td>68.0</td>\n",
       "      <td>11250</td>\n",
       "      <td>1</td>\n",
       "      <td>0</td>\n",
       "      <td>1</td>\n",
       "      <td>1</td>\n",
       "      <td>1</td>\n",
       "      <td>7</td>\n",
       "      <td>5</td>\n",
       "      <td>2001</td>\n",
       "      <td>2002</td>\n",
       "      <td>162.0</td>\n",
       "      <td>486.0</td>\n",
       "      <td>1</td>\n",
       "      <td>0.0</td>\n",
       "      <td>434.0</td>\n",
       "      <td>920.0</td>\n",
       "      <td>1</td>\n",
       "      <td>1</td>\n",
       "      <td>920</td>\n",
       "      <td>866</td>\n",
       "      <td>0</td>\n",
       "      <td>1786</td>\n",
       "      <td>1.0</td>\n",
       "      <td>0.0</td>\n",
       "      <td>2</td>\n",
       "      <td>1</td>\n",
       "      <td>3</td>\n",
       "      <td>1</td>\n",
       "      <td>6</td>\n",
       "      <td>1</td>\n",
       "      <td>1</td>\n",
       "      <td>2001.0</td>\n",
       "      <td>2.0</td>\n",
       "      <td>608.0</td>\n",
       "      <td>1</td>\n",
       "      <td>1</td>\n",
       "      <td>0</td>\n",
       "      <td>42</td>\n",
       "      <td>0</td>\n",
       "      <td>0</td>\n",
       "      <td>0</td>\n",
       "      <td>0</td>\n",
       "      <td>0</td>\n",
       "      <td>9</td>\n",
       "      <td>2008</td>\n",
       "      <td>223500.0</td>\n",
       "      <td>1</td>\n",
       "      <td>1</td>\n",
       "      <td>...</td>\n",
       "      <td>0</td>\n",
       "      <td>0</td>\n",
       "      <td>0</td>\n",
       "      <td>0</td>\n",
       "      <td>1</td>\n",
       "      <td>0</td>\n",
       "      <td>0</td>\n",
       "      <td>0</td>\n",
       "      <td>1</td>\n",
       "      <td>0</td>\n",
       "      <td>0</td>\n",
       "      <td>0</td>\n",
       "      <td>0</td>\n",
       "      <td>0</td>\n",
       "      <td>0</td>\n",
       "      <td>1</td>\n",
       "      <td>0</td>\n",
       "      <td>0</td>\n",
       "      <td>1</td>\n",
       "      <td>0</td>\n",
       "      <td>0</td>\n",
       "      <td>0</td>\n",
       "      <td>0</td>\n",
       "      <td>0</td>\n",
       "      <td>0</td>\n",
       "      <td>1</td>\n",
       "      <td>0</td>\n",
       "      <td>0</td>\n",
       "      <td>0</td>\n",
       "      <td>0</td>\n",
       "      <td>0</td>\n",
       "      <td>0</td>\n",
       "      <td>1</td>\n",
       "      <td>0</td>\n",
       "      <td>0</td>\n",
       "      <td>0</td>\n",
       "      <td>0</td>\n",
       "      <td>0</td>\n",
       "      <td>0</td>\n",
       "      <td>0</td>\n",
       "      <td>0</td>\n",
       "      <td>0</td>\n",
       "      <td>1</td>\n",
       "      <td>0</td>\n",
       "      <td>0</td>\n",
       "      <td>0</td>\n",
       "      <td>0</td>\n",
       "      <td>0</td>\n",
       "      <td>1</td>\n",
       "      <td>0</td>\n",
       "    </tr>\n",
       "    <tr>\n",
       "      <th>3</th>\n",
       "      <td>70</td>\n",
       "      <td>60.0</td>\n",
       "      <td>9550</td>\n",
       "      <td>1</td>\n",
       "      <td>0</td>\n",
       "      <td>1</td>\n",
       "      <td>1</td>\n",
       "      <td>1</td>\n",
       "      <td>7</td>\n",
       "      <td>5</td>\n",
       "      <td>1915</td>\n",
       "      <td>1970</td>\n",
       "      <td>0.0</td>\n",
       "      <td>216.0</td>\n",
       "      <td>1</td>\n",
       "      <td>0.0</td>\n",
       "      <td>540.0</td>\n",
       "      <td>756.0</td>\n",
       "      <td>1</td>\n",
       "      <td>1</td>\n",
       "      <td>961</td>\n",
       "      <td>756</td>\n",
       "      <td>0</td>\n",
       "      <td>1717</td>\n",
       "      <td>1.0</td>\n",
       "      <td>0.0</td>\n",
       "      <td>1</td>\n",
       "      <td>0</td>\n",
       "      <td>3</td>\n",
       "      <td>1</td>\n",
       "      <td>7</td>\n",
       "      <td>1</td>\n",
       "      <td>1</td>\n",
       "      <td>1998.0</td>\n",
       "      <td>3.0</td>\n",
       "      <td>642.0</td>\n",
       "      <td>1</td>\n",
       "      <td>1</td>\n",
       "      <td>0</td>\n",
       "      <td>35</td>\n",
       "      <td>272</td>\n",
       "      <td>0</td>\n",
       "      <td>0</td>\n",
       "      <td>0</td>\n",
       "      <td>0</td>\n",
       "      <td>2</td>\n",
       "      <td>2006</td>\n",
       "      <td>140000.0</td>\n",
       "      <td>1</td>\n",
       "      <td>1</td>\n",
       "      <td>...</td>\n",
       "      <td>0</td>\n",
       "      <td>0</td>\n",
       "      <td>0</td>\n",
       "      <td>0</td>\n",
       "      <td>1</td>\n",
       "      <td>0</td>\n",
       "      <td>0</td>\n",
       "      <td>0</td>\n",
       "      <td>1</td>\n",
       "      <td>0</td>\n",
       "      <td>0</td>\n",
       "      <td>0</td>\n",
       "      <td>0</td>\n",
       "      <td>1</td>\n",
       "      <td>0</td>\n",
       "      <td>0</td>\n",
       "      <td>0</td>\n",
       "      <td>0</td>\n",
       "      <td>0</td>\n",
       "      <td>0</td>\n",
       "      <td>0</td>\n",
       "      <td>0</td>\n",
       "      <td>1</td>\n",
       "      <td>0</td>\n",
       "      <td>0</td>\n",
       "      <td>0</td>\n",
       "      <td>1</td>\n",
       "      <td>0</td>\n",
       "      <td>0</td>\n",
       "      <td>0</td>\n",
       "      <td>0</td>\n",
       "      <td>0</td>\n",
       "      <td>1</td>\n",
       "      <td>0</td>\n",
       "      <td>0</td>\n",
       "      <td>0</td>\n",
       "      <td>0</td>\n",
       "      <td>0</td>\n",
       "      <td>0</td>\n",
       "      <td>0</td>\n",
       "      <td>0</td>\n",
       "      <td>0</td>\n",
       "      <td>1</td>\n",
       "      <td>0</td>\n",
       "      <td>1</td>\n",
       "      <td>0</td>\n",
       "      <td>0</td>\n",
       "      <td>0</td>\n",
       "      <td>0</td>\n",
       "      <td>0</td>\n",
       "    </tr>\n",
       "    <tr>\n",
       "      <th>4</th>\n",
       "      <td>60</td>\n",
       "      <td>84.0</td>\n",
       "      <td>14260</td>\n",
       "      <td>1</td>\n",
       "      <td>0</td>\n",
       "      <td>1</td>\n",
       "      <td>1</td>\n",
       "      <td>1</td>\n",
       "      <td>8</td>\n",
       "      <td>5</td>\n",
       "      <td>2000</td>\n",
       "      <td>2000</td>\n",
       "      <td>350.0</td>\n",
       "      <td>655.0</td>\n",
       "      <td>1</td>\n",
       "      <td>0.0</td>\n",
       "      <td>490.0</td>\n",
       "      <td>1145.0</td>\n",
       "      <td>1</td>\n",
       "      <td>1</td>\n",
       "      <td>1145</td>\n",
       "      <td>1053</td>\n",
       "      <td>0</td>\n",
       "      <td>2198</td>\n",
       "      <td>1.0</td>\n",
       "      <td>0.0</td>\n",
       "      <td>2</td>\n",
       "      <td>1</td>\n",
       "      <td>4</td>\n",
       "      <td>1</td>\n",
       "      <td>9</td>\n",
       "      <td>1</td>\n",
       "      <td>1</td>\n",
       "      <td>2000.0</td>\n",
       "      <td>3.0</td>\n",
       "      <td>836.0</td>\n",
       "      <td>1</td>\n",
       "      <td>1</td>\n",
       "      <td>192</td>\n",
       "      <td>84</td>\n",
       "      <td>0</td>\n",
       "      <td>0</td>\n",
       "      <td>0</td>\n",
       "      <td>0</td>\n",
       "      <td>0</td>\n",
       "      <td>12</td>\n",
       "      <td>2008</td>\n",
       "      <td>250000.0</td>\n",
       "      <td>1</td>\n",
       "      <td>1</td>\n",
       "      <td>...</td>\n",
       "      <td>0</td>\n",
       "      <td>0</td>\n",
       "      <td>0</td>\n",
       "      <td>0</td>\n",
       "      <td>1</td>\n",
       "      <td>0</td>\n",
       "      <td>0</td>\n",
       "      <td>0</td>\n",
       "      <td>1</td>\n",
       "      <td>0</td>\n",
       "      <td>0</td>\n",
       "      <td>0</td>\n",
       "      <td>0</td>\n",
       "      <td>0</td>\n",
       "      <td>0</td>\n",
       "      <td>1</td>\n",
       "      <td>0</td>\n",
       "      <td>0</td>\n",
       "      <td>1</td>\n",
       "      <td>0</td>\n",
       "      <td>0</td>\n",
       "      <td>0</td>\n",
       "      <td>0</td>\n",
       "      <td>0</td>\n",
       "      <td>0</td>\n",
       "      <td>1</td>\n",
       "      <td>0</td>\n",
       "      <td>0</td>\n",
       "      <td>0</td>\n",
       "      <td>0</td>\n",
       "      <td>0</td>\n",
       "      <td>0</td>\n",
       "      <td>1</td>\n",
       "      <td>0</td>\n",
       "      <td>0</td>\n",
       "      <td>0</td>\n",
       "      <td>0</td>\n",
       "      <td>0</td>\n",
       "      <td>0</td>\n",
       "      <td>0</td>\n",
       "      <td>0</td>\n",
       "      <td>0</td>\n",
       "      <td>1</td>\n",
       "      <td>0</td>\n",
       "      <td>0</td>\n",
       "      <td>0</td>\n",
       "      <td>0</td>\n",
       "      <td>0</td>\n",
       "      <td>1</td>\n",
       "      <td>0</td>\n",
       "    </tr>\n",
       "  </tbody>\n",
       "</table>\n",
       "<p>5 rows × 237 columns</p>\n",
       "</div>"
      ],
      "text/plain": [
       "   MSSubClass  LotFrontage  LotArea  Street  LotShape  Utilities  LandSlope  \\\n",
       "0          60         65.0     8450       1         1          1          1   \n",
       "1          20         80.0     9600       1         1          1          1   \n",
       "2          60         68.0    11250       1         0          1          1   \n",
       "3          70         60.0     9550       1         0          1          1   \n",
       "4          60         84.0    14260       1         0          1          1   \n",
       "\n",
       "   BldgType  OverallQual  OverallCond  YearBuilt  YearRemodAdd  MasVnrArea  \\\n",
       "0         1            7            5       2003          2003       196.0   \n",
       "1         1            6            8       1976          1976         0.0   \n",
       "2         1            7            5       2001          2002       162.0   \n",
       "3         1            7            5       1915          1970         0.0   \n",
       "4         1            8            5       2000          2000       350.0   \n",
       "\n",
       "   BsmtFinSF1  BsmtFinType2  BsmtFinSF2  BsmtUnfSF  TotalBsmtSF  Heating  \\\n",
       "0       706.0             1         0.0      150.0        856.0        1   \n",
       "1       978.0             1         0.0      284.0       1262.0        1   \n",
       "2       486.0             1         0.0      434.0        920.0        1   \n",
       "3       216.0             1         0.0      540.0        756.0        1   \n",
       "4       655.0             1         0.0      490.0       1145.0        1   \n",
       "\n",
       "   CentralAir  1stFlrSF  2ndFlrSF  LowQualFinSF  GrLivArea  BsmtFullBath  \\\n",
       "0           1       856       854             0       1710           1.0   \n",
       "1           1      1262         0             0       1262           0.0   \n",
       "2           1       920       866             0       1786           1.0   \n",
       "3           1       961       756             0       1717           1.0   \n",
       "4           1      1145      1053             0       2198           1.0   \n",
       "\n",
       "   BsmtHalfBath  FullBath  HalfBath  BedroomAbvGr  KitchenAbvGr  TotRmsAbvGrd  \\\n",
       "0           0.0         2         1             3             1             8   \n",
       "1           1.0         2         0             3             1             6   \n",
       "2           0.0         2         1             3             1             6   \n",
       "3           0.0         1         0             3             1             7   \n",
       "4           0.0         2         1             4             1             9   \n",
       "\n",
       "   Functional  Fireplaces  GarageYrBlt  GarageCars  GarageArea  GarageCond  \\\n",
       "0           1           0       2003.0         2.0       548.0           1   \n",
       "1           1           1       1976.0         2.0       460.0           1   \n",
       "2           1           1       2001.0         2.0       608.0           1   \n",
       "3           1           1       1998.0         3.0       642.0           1   \n",
       "4           1           1       2000.0         3.0       836.0           1   \n",
       "\n",
       "   PavedDrive  WoodDeckSF  OpenPorchSF  EnclosedPorch  3SsnPorch  ScreenPorch  \\\n",
       "0           1           0           61              0          0            0   \n",
       "1           1         298            0              0          0            0   \n",
       "2           1           0           42              0          0            0   \n",
       "3           1           0           35            272          0            0   \n",
       "4           1         192           84              0          0            0   \n",
       "\n",
       "   PoolArea  MiscVal  MoSold  YrSold  SalePrice  PoolQC_missing  \\\n",
       "0         0        0       2    2008   208500.0               1   \n",
       "1         0        0       5    2007   181500.0               1   \n",
       "2         0        0       9    2008   223500.0               1   \n",
       "3         0        0       2    2006   140000.0               1   \n",
       "4         0        0      12    2008   250000.0               1   \n",
       "\n",
       "   MiscFeature_missing          ...            Electrical_FuseA  \\\n",
       "0                    1          ...                           0   \n",
       "1                    1          ...                           0   \n",
       "2                    1          ...                           0   \n",
       "3                    1          ...                           0   \n",
       "4                    1          ...                           0   \n",
       "\n",
       "   Electrical_FuseF  Electrical_FuseP  Electrical_Mix  Electrical_SBrkr  \\\n",
       "0                 0                 0               0                 1   \n",
       "1                 0                 0               0                 1   \n",
       "2                 0                 0               0                 1   \n",
       "3                 0                 0               0                 1   \n",
       "4                 0                 0               0                 1   \n",
       "\n",
       "   Electrical_missing  KitchenQual_Ex  KitchenQual_Fa  KitchenQual_Gd  \\\n",
       "0                   0               0               0               1   \n",
       "1                   0               0               0               0   \n",
       "2                   0               0               0               1   \n",
       "3                   0               0               0               1   \n",
       "4                   0               0               0               1   \n",
       "\n",
       "   KitchenQual_TA  KitchenQual_missing  FireplaceQu_Ex  FireplaceQu_Fa  \\\n",
       "0               0                    0               0               0   \n",
       "1               1                    0               0               0   \n",
       "2               0                    0               0               0   \n",
       "3               0                    0               0               0   \n",
       "4               0                    0               0               0   \n",
       "\n",
       "   FireplaceQu_Gd  FireplaceQu_Po  FireplaceQu_TA  FireplaceQu_missing  \\\n",
       "0               0               0               0                    1   \n",
       "1               0               0               1                    0   \n",
       "2               0               0               1                    0   \n",
       "3               1               0               0                    0   \n",
       "4               0               0               1                    0   \n",
       "\n",
       "   GarageType_2Types  GarageType_Attchd  GarageType_Basment  \\\n",
       "0                  0                  1                   0   \n",
       "1                  0                  1                   0   \n",
       "2                  0                  1                   0   \n",
       "3                  0                  0                   0   \n",
       "4                  0                  1                   0   \n",
       "\n",
       "   GarageType_BuiltIn  GarageType_CarPort  GarageType_Detchd  \\\n",
       "0                   0                   0                  0   \n",
       "1                   0                   0                  0   \n",
       "2                   0                   0                  0   \n",
       "3                   0                   0                  1   \n",
       "4                   0                   0                  0   \n",
       "\n",
       "   GarageType_missing  GarageFinish_Fin  GarageFinish_RFn  GarageFinish_Unf  \\\n",
       "0                   0                 0                 1                 0   \n",
       "1                   0                 0                 1                 0   \n",
       "2                   0                 0                 1                 0   \n",
       "3                   0                 0                 0                 1   \n",
       "4                   0                 0                 1                 0   \n",
       "\n",
       "   GarageFinish_missing  GarageQual_Ex  GarageQual_Fa  GarageQual_Gd  \\\n",
       "0                     0              0              0              0   \n",
       "1                     0              0              0              0   \n",
       "2                     0              0              0              0   \n",
       "3                     0              0              0              0   \n",
       "4                     0              0              0              0   \n",
       "\n",
       "   GarageQual_Po  GarageQual_TA  GarageQual_missing  SaleType_COD  \\\n",
       "0              0              1                   0             0   \n",
       "1              0              1                   0             0   \n",
       "2              0              1                   0             0   \n",
       "3              0              1                   0             0   \n",
       "4              0              1                   0             0   \n",
       "\n",
       "   SaleType_CWD  SaleType_Con  SaleType_ConLD  SaleType_ConLI  SaleType_ConLw  \\\n",
       "0             0             0               0               0               0   \n",
       "1             0             0               0               0               0   \n",
       "2             0             0               0               0               0   \n",
       "3             0             0               0               0               0   \n",
       "4             0             0               0               0               0   \n",
       "\n",
       "   SaleType_New  SaleType_Oth  SaleType_WD  SaleType_missing  \\\n",
       "0             0             0            1                 0   \n",
       "1             0             0            1                 0   \n",
       "2             0             0            1                 0   \n",
       "3             0             0            1                 0   \n",
       "4             0             0            1                 0   \n",
       "\n",
       "   SaleCondition_Abnorml  SaleCondition_AdjLand  SaleCondition_Alloca  \\\n",
       "0                      0                      0                     0   \n",
       "1                      0                      0                     0   \n",
       "2                      0                      0                     0   \n",
       "3                      1                      0                     0   \n",
       "4                      0                      0                     0   \n",
       "\n",
       "   SaleCondition_Family  SaleCondition_Normal  SaleCondition_Partial  \n",
       "0                     0                     1                      0  \n",
       "1                     0                     1                      0  \n",
       "2                     0                     1                      0  \n",
       "3                     0                     0                      0  \n",
       "4                     0                     1                      0  \n",
       "\n",
       "[5 rows x 237 columns]"
      ]
     },
     "execution_count": 6,
     "metadata": {},
     "output_type": "execute_result"
    }
   ],
   "source": [
    "#Dataset file has to be downloaded from Kaggle after creating an account\n",
    "train = pd.read_csv('train_modified.csv')\n",
    "test = pd.read_csv('test_modified.csv')\n",
    "print(train.shape)\n",
    "train.head()#shows the first few rows"
   ]
  },
  {
   "cell_type": "markdown",
   "metadata": {},
   "source": [
    "  * Set target and predictor variables"
   ]
  },
  {
   "cell_type": "code",
   "execution_count": 7,
   "metadata": {},
   "outputs": [],
   "source": [
    "target='SalePrice'\n",
    "predictors =list(train.columns)\n",
    "predictors.remove(target)"
   ]
  },
  {
   "cell_type": "markdown",
   "metadata": {},
   "source": [
    "### Define a function for modeling and cross-validation\n",
    "\n",
    "This function will do the following:\n",
    "1. fit the model\n",
    "2. perform cross validation using the xgboost library\n",
    "5. update `n_estimators` using results of cv\n",
    "6. plot Feature Importance "
   ]
  },
  {
   "cell_type": "code",
   "execution_count": 8,
   "metadata": {},
   "outputs": [],
   "source": [
    "def modelfit(alg,dtrain,predictors,target,useTrainCV=True,cv_folds=5,early_stopping_rounds=50):\n",
    "    \n",
    "    if useTrainCV:\n",
    "        xgb_param = alg.get_xgb_params()#dict with all parameters passed\n",
    "        xgtrain = xgb.DMatrix(dtrain[predictors].values, label=dtrain[target].values)#data structure used by XGBoost\n",
    "        #command below performs cross validation\n",
    "        cvresult = xgb.cv(xgb_param,xgtrain,\n",
    "                          num_boost_round=alg.get_params()['n_estimators'],\n",
    "                          nfold=cv_folds,metrics='mae',\n",
    "                          early_stopping_rounds=early_stopping_rounds)\n",
    "        alg.set_params(n_estimators=cvresult.shape[0])#sets 'n_estimators' from result of CV \n",
    "        print('Cross-val results: \\'n_estimators\\' = {}'.format(cvresult.shape[0]))\n",
    "    \n",
    "    #Fit the algorithm on the data\n",
    "    alg.fit(dtrain[predictors], dtrain[target],eval_metric='mae')\n",
    "        \n",
    "    #Predict training set:\n",
    "    dtrain_predictions = alg.predict(dtrain[predictors])\n",
    "        \n",
    "    #Print model report:\n",
    "    print(\"\\nModel Report\" )\n",
    "    print(\"Mean Absolute Error : {:.2f}\".format(metrics.mean_absolute_error(dtrain[target].values, dtrain_predictions)))    \n",
    "\n",
    "    #Plot feature importance\n",
    "    feat_imp = pd.Series(alg.feature_importances_,predictors).sort_values(ascending=False)\n",
    "    feat_imp[0:40].plot(kind='bar', title='Feature Importances')\n",
    "    plt.ylabel('Feature Importance Score')"
   ]
  },
  {
   "cell_type": "markdown",
   "metadata": {},
   "source": [
    "  * set a default regressor"
   ]
  },
  {
   "cell_type": "code",
   "execution_count": 11,
   "metadata": {},
   "outputs": [
    {
     "name": "stdout",
     "output_type": "stream",
     "text": [
      "Cross-val results: 'n_estimators' = 336\n",
      "\n",
      "Model Report\n",
      "Mean Absolute Error : 6594.07\n"
     ]
    },
    {
     "data": {
      "image/png": "[encoded data removed]",
      "text/plain": [
       "<Figure size 1080x288 with 1 Axes>"
      ]
     },
     "metadata": {},
     "output_type": "display_data"
    }
   ],
   "source": [
    "xgb1 = XGBRegressor( #classifier because of binary targer variable\n",
    "        learning_rate =0.1, #default value (high)\n",
    "        n_estimators=1000,  #NOT default (100)\n",
    "        max_depth=3,        #default (3)\n",
    "        min_child_weight=1, #default\n",
    "        gamma=0,            #default\n",
    "        subsample=0.8,      #NOT default (1)\n",
    "        colsample_bytree=0.8,#NOT default (1)\n",
    "        nthread=4,\n",
    "        scale_pos_weight=1, #default\n",
    "        random_state=27)    #Random number seed\n",
    "\n",
    "modelfit(xgb1,train,predictors,target)"
   ]
  },
  {
   "cell_type": "markdown",
   "metadata": {},
   "source": [
    "## Parameter optimization:\n",
    "### 1. Tree-based parameters\n",
    "* `max_depth` and `min_child_weight`"
   ]
  },
  {
   "cell_type": "code",
   "execution_count": 65,
   "metadata": {},
   "outputs": [
    {
     "data": {
      "text/plain": [
       "GridSearchCV(cv=5, error_score='raise',\n",
       "       estimator=XGBRegressor(base_score=0.5, booster='gbtree', colsample_bylevel=1,\n",
       "       colsample_bytree=0.8, gamma=0, learning_rate=0.1, max_delta_step=0,\n",
       "       max_depth=3, min_child_weight=1, missing=None, n_estimators=336,\n",
       "       n_jobs=1, nthread=4, objective='reg:linear', random_state=0,\n",
       "       reg_alpha=0, reg_lambda=1, scale_pos_weight=1, seed=27, silent=True,\n",
       "       subsample=0.8),\n",
       "       fit_params=None, iid=False, n_jobs=4,\n",
       "       param_grid={'max_depth': range(3, 10, 2), 'min_child_weight': range(1, 6, 2)},\n",
       "       pre_dispatch='2*n_jobs', refit=True, return_train_score=True,\n",
       "       scoring='neg_mean_absolute_error', verbose=0)"
      ]
     },
     "execution_count": 65,
     "metadata": {},
     "output_type": "execute_result"
    }
   ],
   "source": [
    "#Grid seach on max_depth and min_child_weight\n",
    "#Choose all predictors except target & IDcols\n",
    "param_test1 = {\n",
    "    'max_depth':range(3,10,2),\n",
    "    'min_child_weight':range(1,6,2)\n",
    "}\n",
    "gsearch1 = GridSearchCV(estimator = XGBRegressor( learning_rate =0.1, n_estimators=336, max_depth=3,\n",
    "                                        min_child_weight=1, gamma=0, subsample=0.8, colsample_bytree=0.8,\n",
    "                                        nthread=4, scale_pos_weight=1, seed=27), \n",
    "                       param_grid = param_test1, scoring='neg_mean_absolute_error'\n",
    "                        ,n_jobs=4,iid=False, cv=5,\n",
    "                       return_train_score=True)\n",
    "gsearch1.fit(train[predictors],train[target])"
   ]
  },
  {
   "cell_type": "code",
   "execution_count": 61,
   "metadata": {},
   "outputs": [
    {
     "name": "stderr",
     "output_type": "stream",
     "text": [
      "/home/perro/anaconda3/lib/python3.6/site-packages/sklearn/model_selection/_search.py:761: DeprecationWarning: The grid_scores_ attribute was deprecated in version 0.18 in favor of the more elaborate cv_results_ attribute. The grid_scores_ attribute will not be available from 0.20\n",
      "  DeprecationWarning)\n"
     ]
    },
    {
     "data": {
      "text/plain": [
       "([mean: -15484.79708, std: 1074.84934, params: {'max_depth': 3, 'min_child_weight': 1},\n",
       "  mean: -15702.89041, std: 1355.92201, params: {'max_depth': 3, 'min_child_weight': 3},\n",
       "  mean: -15487.65585, std: 1197.91344, params: {'max_depth': 3, 'min_child_weight': 5},\n",
       "  mean: -15497.38374, std: 1026.20659, params: {'max_depth': 5, 'min_child_weight': 1},\n",
       "  mean: -15527.83142, std: 1236.90529, params: {'max_depth': 5, 'min_child_weight': 3},\n",
       "  mean: -15640.04951, std: 1225.97808, params: {'max_depth': 5, 'min_child_weight': 5},\n",
       "  mean: -15840.95804, std: 1044.13019, params: {'max_depth': 7, 'min_child_weight': 1},\n",
       "  mean: -15704.10170, std: 1332.15795, params: {'max_depth': 7, 'min_child_weight': 3},\n",
       "  mean: -15863.88963, std: 1091.39407, params: {'max_depth': 7, 'min_child_weight': 5},\n",
       "  mean: -16232.74770, std: 995.13063, params: {'max_depth': 9, 'min_child_weight': 1},\n",
       "  mean: -15857.43664, std: 1298.21375, params: {'max_depth': 9, 'min_child_weight': 3},\n",
       "  mean: -16080.53468, std: 1190.26699, params: {'max_depth': 9, 'min_child_weight': 5}],\n",
       " {'max_depth': 3, 'min_child_weight': 1},\n",
       " -15484.797079676797)"
      ]
     },
     "execution_count": 61,
     "metadata": {},
     "output_type": "execute_result"
    }
   ],
   "source": [
    "#the grid_scores_ attribute will be deprecated, should use cv_results_ instead, but\n",
    "#the presentation of results of grid_scores_ is much cleaner\n",
    "gsearch1.grid_scores_, gsearch1.best_params_, gsearch1.best_score_"
   ]
  },
  {
   "cell_type": "code",
   "execution_count": 92,
   "metadata": {},
   "outputs": [
    {
     "data": {
      "text/plain": [
       "GridSearchCV(cv=5, error_score='raise',\n",
       "       estimator=XGBRegressor(base_score=0.5, booster='gbtree', colsample_bylevel=1,\n",
       "       colsample_bytree=0.8, gamma=0, learning_rate=0.1, max_delta_step=0,\n",
       "       max_depth=3, min_child_weight=1, missing=None, n_estimators=336,\n",
       "       n_jobs=1, nthread=4, objective='reg:linear', random_state=0,\n",
       "       reg_alpha=0, reg_lambda=1, scale_pos_weight=1, seed=27, silent=True,\n",
       "       subsample=0.8),\n",
       "       fit_params=None, iid=False, n_jobs=4,\n",
       "       param_grid={'max_depth': [3, 4], 'min_child_weight': [1, 2]},\n",
       "       pre_dispatch='2*n_jobs', refit=True, return_train_score=True,\n",
       "       scoring='neg_mean_absolute_error', verbose=0)"
      ]
     },
     "execution_count": 92,
     "metadata": {},
     "output_type": "execute_result"
    }
   ],
   "source": [
    "#use a finer grid of search, since the default values were selected\n",
    "param_test2 = {\n",
    "    'max_depth':[3,4],\n",
    "    'min_child_weight':[1,2]\n",
    "}\n",
    "gsearch2 = GridSearchCV(estimator = XGBRegressor( learning_rate =0.1, n_estimators=336, max_depth=3,\n",
    "                                        min_child_weight=1, gamma=0, subsample=0.8, colsample_bytree=0.8,\n",
    "                                        nthread=4, scale_pos_weight=1, seed=27), \n",
    "                       param_grid = param_test2, scoring='neg_mean_absolute_error'\n",
    "                        ,n_jobs=4,iid=False, cv=5,\n",
    "                       return_train_score=True)\n",
    "gsearch2.fit(train[predictors],train[target])"
   ]
  },
  {
   "cell_type": "code",
   "execution_count": 93,
   "metadata": {},
   "outputs": [
    {
     "name": "stderr",
     "output_type": "stream",
     "text": [
      "/home/perro/anaconda3/lib/python3.6/site-packages/sklearn/model_selection/_search.py:761: DeprecationWarning: The grid_scores_ attribute was deprecated in version 0.18 in favor of the more elaborate cv_results_ attribute. The grid_scores_ attribute will not be available from 0.20\n",
      "  DeprecationWarning)\n"
     ]
    },
    {
     "data": {
      "text/plain": [
       "([mean: -15484.79708, std: 1074.84934, params: {'max_depth': 3, 'min_child_weight': 1},\n",
       "  mean: -15260.90001, std: 1019.63314, params: {'max_depth': 3, 'min_child_weight': 2},\n",
       "  mean: -15280.12837, std: 1180.65862, params: {'max_depth': 4, 'min_child_weight': 1},\n",
       "  mean: -15511.07460, std: 1159.35929, params: {'max_depth': 4, 'min_child_weight': 2}],\n",
       " {'max_depth': 3, 'min_child_weight': 2},\n",
       " -15260.90000802654)"
      ]
     },
     "execution_count": 93,
     "metadata": {},
     "output_type": "execute_result"
    }
   ],
   "source": [
    "gsearch2.grid_scores_, gsearch2.best_params_, gsearch2.best_score_"
   ]
  },
  {
   "cell_type": "markdown",
   "metadata": {},
   "source": [
    "* Tunning `gamma`"
   ]
  },
  {
   "cell_type": "code",
   "execution_count": 73,
   "metadata": {},
   "outputs": [
    {
     "data": {
      "text/plain": [
       "GridSearchCV(cv=5, error_score='raise',\n",
       "       estimator=XGBRegressor(base_score=0.5, booster='gbtree', colsample_bylevel=1,\n",
       "       colsample_bytree=0.8, gamma=0, learning_rate=0.1, max_delta_step=0,\n",
       "       max_depth=3, min_child_weight=2, missing=None, n_estimators=336,\n",
       "       n_jobs=1, nthread=4, objective='reg:linear', random_state=0,\n",
       "       reg_alpha=0, reg_lambda=1, scale_pos_weight=1, seed=27, silent=True,\n",
       "       subsample=0.8),\n",
       "       fit_params=None, iid=False, n_jobs=4,\n",
       "       param_grid={'gamma': [0.0, 0.1, 0.2, 0.3, 0.4]},\n",
       "       pre_dispatch='2*n_jobs', refit=True, return_train_score=True,\n",
       "       scoring='neg_mean_absolute_error', verbose=0)"
      ]
     },
     "execution_count": 73,
     "metadata": {},
     "output_type": "execute_result"
    }
   ],
   "source": [
    "param_test3 = {\n",
    "    'gamma':[i/10.0 for i in range(0,5)]#0,1/10,2/10,...1/2\n",
    "}\n",
    "gsearch3 = GridSearchCV(estimator = XGBRegressor( learning_rate =0.1, n_estimators=336, max_depth=3,\n",
    "                                        min_child_weight=2, gamma=0, subsample=0.8, colsample_bytree=0.8,\n",
    "                                        nthread=4, scale_pos_weight=1, seed=27), \n",
    "                       param_grid = param_test3, scoring='neg_mean_absolute_error'\n",
    "                        ,n_jobs=4,iid=False, cv=5,\n",
    "                       return_train_score=True)\n",
    "gsearch3.fit(train[predictors],train[target])"
   ]
  },
  {
   "cell_type": "code",
   "execution_count": 74,
   "metadata": {},
   "outputs": [
    {
     "name": "stderr",
     "output_type": "stream",
     "text": [
      "/home/perro/anaconda3/lib/python3.6/site-packages/sklearn/model_selection/_search.py:761: DeprecationWarning: The grid_scores_ attribute was deprecated in version 0.18 in favor of the more elaborate cv_results_ attribute. The grid_scores_ attribute will not be available from 0.20\n",
      "  DeprecationWarning)\n"
     ]
    },
    {
     "data": {
      "text/plain": [
       "([mean: -15260.90001, std: 1019.63314, params: {'gamma': 0.0},\n",
       "  mean: -15260.90001, std: 1019.63314, params: {'gamma': 0.1},\n",
       "  mean: -15260.90001, std: 1019.63314, params: {'gamma': 0.2},\n",
       "  mean: -15260.90001, std: 1019.63314, params: {'gamma': 0.3},\n",
       "  mean: -15260.90001, std: 1019.63314, params: {'gamma': 0.4}],\n",
       " {'gamma': 0.0},\n",
       " -15260.90000802654)"
      ]
     },
     "execution_count": 74,
     "metadata": {},
     "output_type": "execute_result"
    }
   ],
   "source": [
    "gsearch3.grid_scores_, gsearch3.best_params_, gsearch3.best_score_"
   ]
  },
  {
   "cell_type": "markdown",
   "metadata": {},
   "source": [
    "* Re-calibrating number of boosting rounds for new parameters"
   ]
  },
  {
   "cell_type": "code",
   "execution_count": 82,
   "metadata": {},
   "outputs": [
    {
     "name": "stdout",
     "output_type": "stream",
     "text": [
      "Cross-val results: 'n_estimators' = 379\n",
      "\n",
      "Model Report\n",
      "Mean Absolute Error : 6173.54\n"
     ]
    },
    {
     "data": {
      "image/png": "[encoded data removed]",
      "text/plain": [
       "<Figure size 1080x288 with 1 Axes>"
      ]
     },
     "metadata": {},
     "output_type": "display_data"
    }
   ],
   "source": [
    "xgb2 = XGBRegressor( #classifier because of binary targer variable\n",
    "        learning_rate =0.1, #default value (high)\n",
    "        n_estimators=1000,  #NOT default (100)\n",
    "        max_depth=3,        #OPTIMIZED \n",
    "        min_child_weight=2, #OPTIMIZED\n",
    "        gamma=0,            #OPTIMIZED \n",
    "        subsample=0.8,      #NOT default (1)\n",
    "        colsample_bytree=0.8,#NOT default (1)\n",
    "        nthread=4,\n",
    "        scale_pos_weight=1, #default\n",
    "        random_state=27)    #Random number seed\n",
    "\n",
    "modelfit(xgb2,train,predictors,target)"
   ]
  },
  {
   "cell_type": "markdown",
   "metadata": {},
   "source": [
    "* Tunning `subsample` and `colsample_bytree`"
   ]
  },
  {
   "cell_type": "code",
   "execution_count": 83,
   "metadata": {},
   "outputs": [
    {
     "data": {
      "text/plain": [
       "GridSearchCV(cv=5, error_score='raise',\n",
       "       estimator=XGBRegressor(base_score=0.5, booster='gbtree', colsample_bylevel=1,\n",
       "       colsample_bytree=0.8, gamma=0, learning_rate=0.1, max_delta_step=0,\n",
       "       max_depth=3, min_child_weight=2, missing=None, n_estimators=379,\n",
       "       n_jobs=1, nthread=4, objective='reg:linear', random_state=0,\n",
       "       reg_alpha=0, reg_lambda=1, scale_pos_weight=1, seed=27, silent=True,\n",
       "       subsample=0.8),\n",
       "       fit_params=None, iid=False, n_jobs=4,\n",
       "       param_grid={'subsample': [0.6, 0.7, 0.8, 0.9], 'colsample_bytree': [0.6, 0.7, 0.8, 0.9]},\n",
       "       pre_dispatch='2*n_jobs', refit=True, return_train_score=True,\n",
       "       scoring='neg_mean_absolute_error', verbose=0)"
      ]
     },
     "execution_count": 83,
     "metadata": {},
     "output_type": "execute_result"
    }
   ],
   "source": [
    "param_test4 = {\n",
    "    'subsample':[i/10.0 for i in range(6,10)],#6/10,...,1\n",
    "    'colsample_bytree':[i/10.0 for i in range(6,10)]#6/10,...,1\n",
    "}\n",
    "gsearch4 = GridSearchCV(estimator = XGBRegressor( learning_rate =0.1, n_estimators=379, max_depth=3,\n",
    "                                        min_child_weight=2, gamma=0, subsample=0.8, colsample_bytree=0.8,\n",
    "                                        nthread=4, scale_pos_weight=1, seed=27), \n",
    "                       param_grid = param_test4, scoring='neg_mean_absolute_error'\n",
    "                        ,n_jobs=4,iid=False, cv=5,\n",
    "                       return_train_score=True)\n",
    "gsearch4.fit(train[predictors],train[target])"
   ]
  },
  {
   "cell_type": "code",
   "execution_count": 84,
   "metadata": {},
   "outputs": [
    {
     "name": "stderr",
     "output_type": "stream",
     "text": [
      "/home/perro/anaconda3/lib/python3.6/site-packages/sklearn/model_selection/_search.py:761: DeprecationWarning: The grid_scores_ attribute was deprecated in version 0.18 in favor of the more elaborate cv_results_ attribute. The grid_scores_ attribute will not be available from 0.20\n",
      "  DeprecationWarning)\n"
     ]
    },
    {
     "data": {
      "text/plain": [
       "([mean: -15063.27466, std: 672.46297, params: {'colsample_bytree': 0.6, 'subsample': 0.6},\n",
       "  mean: -15420.51370, std: 1235.36295, params: {'colsample_bytree': 0.6, 'subsample': 0.7},\n",
       "  mean: -15516.53440, std: 1186.95401, params: {'colsample_bytree': 0.6, 'subsample': 0.8},\n",
       "  mean: -15118.33280, std: 1307.52746, params: {'colsample_bytree': 0.6, 'subsample': 0.9},\n",
       "  mean: -15217.53114, std: 739.07227, params: {'colsample_bytree': 0.7, 'subsample': 0.6},\n",
       "  mean: -15258.50702, std: 1266.81362, params: {'colsample_bytree': 0.7, 'subsample': 0.7},\n",
       "  mean: -15362.46552, std: 1073.16346, params: {'colsample_bytree': 0.7, 'subsample': 0.8},\n",
       "  mean: -15189.78263, std: 1094.56220, params: {'colsample_bytree': 0.7, 'subsample': 0.9},\n",
       "  mean: -15395.44503, std: 790.69863, params: {'colsample_bytree': 0.8, 'subsample': 0.6},\n",
       "  mean: -15123.36351, std: 803.93882, params: {'colsample_bytree': 0.8, 'subsample': 0.7},\n",
       "  mean: -15246.22299, std: 1002.65840, params: {'colsample_bytree': 0.8, 'subsample': 0.8},\n",
       "  mean: -15440.74086, std: 1192.87239, params: {'colsample_bytree': 0.8, 'subsample': 0.9},\n",
       "  mean: -15434.26817, std: 987.54226, params: {'colsample_bytree': 0.9, 'subsample': 0.6},\n",
       "  mean: -15263.30004, std: 945.11046, params: {'colsample_bytree': 0.9, 'subsample': 0.7},\n",
       "  mean: -15371.42448, std: 1161.29276, params: {'colsample_bytree': 0.9, 'subsample': 0.8},\n",
       "  mean: -15295.53184, std: 886.58720, params: {'colsample_bytree': 0.9, 'subsample': 0.9}],\n",
       " {'colsample_bytree': 0.6, 'subsample': 0.6},\n",
       " -15063.274660209761)"
      ]
     },
     "execution_count": 84,
     "metadata": {},
     "output_type": "execute_result"
    }
   ],
   "source": [
    "gsearch4.grid_scores_, gsearch4.best_params_, gsearch4.best_score_"
   ]
  },
  {
   "cell_type": "markdown",
   "metadata": {},
   "source": [
    "* repeat search with a smaller lower bound:"
   ]
  },
  {
   "cell_type": "code",
   "execution_count": 85,
   "metadata": {},
   "outputs": [
    {
     "data": {
      "text/plain": [
       "GridSearchCV(cv=5, error_score='raise',\n",
       "       estimator=XGBRegressor(base_score=0.5, booster='gbtree', colsample_bylevel=1,\n",
       "       colsample_bytree=0.8, gamma=0, learning_rate=0.1, max_delta_step=0,\n",
       "       max_depth=3, min_child_weight=2, missing=None, n_estimators=379,\n",
       "       n_jobs=1, nthread=4, objective='reg:linear', random_state=0,\n",
       "       reg_alpha=0, reg_lambda=1, scale_pos_weight=1, seed=27, silent=True,\n",
       "       subsample=0.8),\n",
       "       fit_params=None, iid=False, n_jobs=4,\n",
       "       param_grid={'subsample': [0.3, 0.4, 0.5], 'colsample_bytree': [0.3, 0.4, 0.5]},\n",
       "       pre_dispatch='2*n_jobs', refit=True, return_train_score=True,\n",
       "       scoring='neg_mean_absolute_error', verbose=0)"
      ]
     },
     "execution_count": 85,
     "metadata": {},
     "output_type": "execute_result"
    }
   ],
   "source": [
    "param_test4 = {\n",
    "    'subsample':[i/10.0 for i in range(3,6)],\n",
    "    'colsample_bytree':[i/10.0 for i in range(3,6)]\n",
    "}\n",
    "gsearch4 = GridSearchCV(estimator = XGBRegressor( learning_rate =0.1, n_estimators=379, max_depth=3,\n",
    "                                        min_child_weight=2, gamma=0, subsample=0.8, colsample_bytree=0.8,\n",
    "                                        nthread=4, scale_pos_weight=1, seed=27), \n",
    "                       param_grid = param_test4, scoring='neg_mean_absolute_error'\n",
    "                        ,n_jobs=4,iid=False, cv=5,\n",
    "                       return_train_score=True)\n",
    "gsearch4.fit(train[predictors],train[target])"
   ]
  },
  {
   "cell_type": "code",
   "execution_count": 86,
   "metadata": {},
   "outputs": [
    {
     "name": "stderr",
     "output_type": "stream",
     "text": [
      "/home/perro/anaconda3/lib/python3.6/site-packages/sklearn/model_selection/_search.py:761: DeprecationWarning: The grid_scores_ attribute was deprecated in version 0.18 in favor of the more elaborate cv_results_ attribute. The grid_scores_ attribute will not be available from 0.20\n",
      "  DeprecationWarning)\n"
     ]
    },
    {
     "data": {
      "text/plain": [
       "([mean: -16257.17346, std: 916.08998, params: {'colsample_bytree': 0.3, 'subsample': 0.3},\n",
       "  mean: -15472.02864, std: 1006.04700, params: {'colsample_bytree': 0.3, 'subsample': 0.4},\n",
       "  mean: -15076.93605, std: 1336.42243, params: {'colsample_bytree': 0.3, 'subsample': 0.5},\n",
       "  mean: -16125.16558, std: 781.76855, params: {'colsample_bytree': 0.4, 'subsample': 0.3},\n",
       "  mean: -15498.73959, std: 1124.77312, params: {'colsample_bytree': 0.4, 'subsample': 0.4},\n",
       "  mean: -15187.39092, std: 1383.71475, params: {'colsample_bytree': 0.4, 'subsample': 0.5},\n",
       "  mean: -16179.71660, std: 1094.50353, params: {'colsample_bytree': 0.5, 'subsample': 0.3},\n",
       "  mean: -15146.13760, std: 1267.46715, params: {'colsample_bytree': 0.5, 'subsample': 0.4},\n",
       "  mean: -15299.25862, std: 1033.33019, params: {'colsample_bytree': 0.5, 'subsample': 0.5}],\n",
       " {'colsample_bytree': 0.3, 'subsample': 0.5},\n",
       " -15076.936049871574)"
      ]
     },
     "execution_count": 86,
     "metadata": {},
     "output_type": "execute_result"
    }
   ],
   "source": [
    "gsearch4.grid_scores_, gsearch4.best_params_, gsearch4.best_score_"
   ]
  },
  {
   "cell_type": "code",
   "execution_count": 95,
   "metadata": {},
   "outputs": [
    {
     "data": {
      "text/plain": [
       "GridSearchCV(cv=5, error_score='raise',\n",
       "       estimator=XGBRegressor(base_score=0.5, booster='gbtree', colsample_bylevel=1,\n",
       "       colsample_bytree=0.8, gamma=0, learning_rate=0.1, max_delta_step=0,\n",
       "       max_depth=3, min_child_weight=2, missing=None, n_estimators=379,\n",
       "       n_jobs=1, nthread=4, objective='reg:linear', random_state=0,\n",
       "       reg_alpha=0, reg_lambda=1, scale_pos_weight=1, seed=27, silent=True,\n",
       "       subsample=0.5),\n",
       "       fit_params=None, iid=False, n_jobs=4,\n",
       "       param_grid={'colsample_bytree': [0.1, 0.2, 0.3]},\n",
       "       pre_dispatch='2*n_jobs', refit=True, return_train_score=True,\n",
       "       scoring='neg_mean_absolute_error', verbose=0)"
      ]
     },
     "execution_count": 95,
     "metadata": {},
     "output_type": "execute_result"
    }
   ],
   "source": [
    "param_test4 = {\n",
    "    'colsample_bytree':[i/10.0 for i in range(1,4)]\n",
    "}\n",
    "gsearch4 = GridSearchCV(estimator = XGBRegressor( learning_rate =0.1, n_estimators=379, max_depth=3,\n",
    "                                        min_child_weight=2, gamma=0, subsample=0.5, colsample_bytree=0.8,\n",
    "                                        nthread=4, scale_pos_weight=1, seed=27), \n",
    "                       param_grid = param_test4, scoring='neg_mean_absolute_error'\n",
    "                        ,n_jobs=4,iid=False, cv=5,\n",
    "                       return_train_score=True)\n",
    "gsearch4.fit(train[predictors],train[target])"
   ]
  },
  {
   "cell_type": "code",
   "execution_count": 96,
   "metadata": {},
   "outputs": [
    {
     "name": "stderr",
     "output_type": "stream",
     "text": [
      "/home/perro/anaconda3/lib/python3.6/site-packages/sklearn/model_selection/_search.py:761: DeprecationWarning: The grid_scores_ attribute was deprecated in version 0.18 in favor of the more elaborate cv_results_ attribute. The grid_scores_ attribute will not be available from 0.20\n",
      "  DeprecationWarning)\n"
     ]
    },
    {
     "data": {
      "text/plain": [
       "([mean: -15904.39744, std: 1321.34684, params: {'colsample_bytree': 0.1},\n",
       "  mean: -15406.34399, std: 1289.25745, params: {'colsample_bytree': 0.2},\n",
       "  mean: -15076.93605, std: 1336.42243, params: {'colsample_bytree': 0.3}],\n",
       " {'colsample_bytree': 0.3},\n",
       " -15076.936049871574)"
      ]
     },
     "execution_count": 96,
     "metadata": {},
     "output_type": "execute_result"
    }
   ],
   "source": [
    "gsearch4.grid_scores_, gsearch4.best_params_, gsearch4.best_score_"
   ]
  },
  {
   "cell_type": "markdown",
   "metadata": {},
   "source": [
    "### 2. Regularization parameters\n",
    "* tune `reg_alpha` and `reg_lambda`"
   ]
  },
  {
   "cell_type": "code",
   "execution_count": 98,
   "metadata": {},
   "outputs": [
    {
     "data": {
      "text/plain": [
       "GridSearchCV(cv=5, error_score='raise',\n",
       "       estimator=XGBRegressor(base_score=0.5, booster='gbtree', colsample_bylevel=1,\n",
       "       colsample_bytree=0.3, gamma=0, learning_rate=0.1, max_delta_step=0,\n",
       "       max_depth=3, min_child_weight=2, missing=None, n_estimators=379,\n",
       "       n_jobs=1, nthread=4, objective='reg:linear', random_state=0,\n",
       "       reg_alpha=0, reg_lambda=1, scale_pos_weight=1, seed=27, silent=True,\n",
       "       subsample=0.5),\n",
       "       fit_params=None, iid=False, n_jobs=4,\n",
       "       param_grid={'reg_alpha': [1e-05, 0.01, 0.1, 1, 10, 100], 'reg_lambda': [1, 10, 100]},\n",
       "       pre_dispatch='2*n_jobs', refit=True, return_train_score=True,\n",
       "       scoring='neg_mean_absolute_error', verbose=0)"
      ]
     },
     "execution_count": 98,
     "metadata": {},
     "output_type": "execute_result"
    }
   ],
   "source": [
    "param_test5 = {\n",
    "    'reg_alpha':[1e-5,1e-2,0.1, 1,10,100],\n",
    "    'reg_lambda':[1,10,100]\n",
    "}\n",
    "gsearch5 = GridSearchCV(estimator = XGBRegressor( learning_rate =0.1, n_estimators=379, max_depth=3,\n",
    "                                        min_child_weight=2, gamma=0, subsample=0.5, colsample_bytree=0.3,\n",
    "                                        nthread=4, scale_pos_weight=1, seed=27), \n",
    "                       param_grid = param_test5, scoring='neg_mean_absolute_error'\n",
    "                        ,n_jobs=4,iid=False, cv=5,\n",
    "                       return_train_score=True)\n",
    "gsearch5.fit(train[predictors],train[target])"
   ]
  },
  {
   "cell_type": "code",
   "execution_count": 99,
   "metadata": {},
   "outputs": [
    {
     "name": "stderr",
     "output_type": "stream",
     "text": [
      "/home/perro/anaconda3/lib/python3.6/site-packages/sklearn/model_selection/_search.py:761: DeprecationWarning: The grid_scores_ attribute was deprecated in version 0.18 in favor of the more elaborate cv_results_ attribute. The grid_scores_ attribute will not be available from 0.20\n",
      "  DeprecationWarning)\n"
     ]
    },
    {
     "data": {
      "text/plain": [
       "([mean: -15076.93581, std: 1336.42232, params: {'reg_alpha': 1e-05, 'reg_lambda': 1},\n",
       "  mean: -15759.67539, std: 1285.77355, params: {'reg_alpha': 1e-05, 'reg_lambda': 10},\n",
       "  mean: -16008.74491, std: 1162.71497, params: {'reg_alpha': 1e-05, 'reg_lambda': 100},\n",
       "  mean: -15076.93575, std: 1336.42209, params: {'reg_alpha': 0.01, 'reg_lambda': 1},\n",
       "  mean: -15759.67476, std: 1285.77339, params: {'reg_alpha': 0.01, 'reg_lambda': 10},\n",
       "  mean: -16008.74491, std: 1162.71498, params: {'reg_alpha': 0.01, 'reg_lambda': 100},\n",
       "  mean: -15076.93528, std: 1336.42232, params: {'reg_alpha': 0.1, 'reg_lambda': 1},\n",
       "  mean: -15759.67585, std: 1285.77352, params: {'reg_alpha': 0.1, 'reg_lambda': 10},\n",
       "  mean: -16008.74555, std: 1162.71492, params: {'reg_alpha': 0.1, 'reg_lambda': 100},\n",
       "  mean: -15110.80631, std: 1303.16748, params: {'reg_alpha': 1, 'reg_lambda': 1},\n",
       "  mean: -15759.67526, std: 1285.77172, params: {'reg_alpha': 1, 'reg_lambda': 10},\n",
       "  mean: -16008.74734, std: 1162.71523, params: {'reg_alpha': 1, 'reg_lambda': 100},\n",
       "  mean: -15118.52611, std: 1295.92247, params: {'reg_alpha': 10, 'reg_lambda': 1},\n",
       "  mean: -15749.36941, std: 1297.70523, params: {'reg_alpha': 10, 'reg_lambda': 10},\n",
       "  mean: -16008.75861, std: 1162.71189, params: {'reg_alpha': 10, 'reg_lambda': 100},\n",
       "  mean: -14986.84864, std: 1350.64205, params: {'reg_alpha': 100, 'reg_lambda': 1},\n",
       "  mean: -15744.83760, std: 1292.05920, params: {'reg_alpha': 100, 'reg_lambda': 10},\n",
       "  mean: -16039.50002, std: 1139.42749, params: {'reg_alpha': 100, 'reg_lambda': 100}],\n",
       " {'reg_alpha': 100, 'reg_lambda': 1},\n",
       " -14986.848635488015)"
      ]
     },
     "execution_count": 99,
     "metadata": {},
     "output_type": "execute_result"
    }
   ],
   "source": [
    "gsearch5.grid_scores_, gsearch5.best_params_, gsearch5.best_score_"
   ]
  },
  {
   "cell_type": "code",
   "execution_count": 100,
   "metadata": {},
   "outputs": [
    {
     "data": {
      "text/plain": [
       "GridSearchCV(cv=5, error_score='raise',\n",
       "       estimator=XGBRegressor(base_score=0.5, booster='gbtree', colsample_bylevel=1,\n",
       "       colsample_bytree=0.3, gamma=0, learning_rate=0.1, max_delta_step=0,\n",
       "       max_depth=3, min_child_weight=2, missing=None, n_estimators=379,\n",
       "       n_jobs=1, nthread=4, objective='reg:linear', random_state=0,\n",
       "       reg_alpha=0, reg_lambda=1, scale_pos_weight=1, seed=27, silent=True,\n",
       "       subsample=0.5),\n",
       "       fit_params=None, iid=False, n_jobs=4,\n",
       "       param_grid={'reg_alpha': [100, 500, 1000], 'reg_lambda': range(1, 10)},\n",
       "       pre_dispatch='2*n_jobs', refit=True, return_train_score=True,\n",
       "       scoring='neg_mean_absolute_error', verbose=0)"
      ]
     },
     "execution_count": 100,
     "metadata": {},
     "output_type": "execute_result"
    }
   ],
   "source": [
    "param_test5 = {\n",
    "    'reg_alpha':[100,500,1000],\n",
    "    'reg_lambda':range(1,10)\n",
    "}\n",
    "gsearch5 = GridSearchCV(estimator = XGBRegressor( learning_rate =0.1, n_estimators=379, max_depth=3,\n",
    "                                        min_child_weight=2, gamma=0, subsample=0.5, colsample_bytree=0.3,\n",
    "                                        nthread=4, scale_pos_weight=1, seed=27), \n",
    "                       param_grid = param_test5, scoring='neg_mean_absolute_error'\n",
    "                        ,n_jobs=4,iid=False, cv=5,\n",
    "                       return_train_score=True)\n",
    "gsearch5.fit(train[predictors],train[target])"
   ]
  },
  {
   "cell_type": "code",
   "execution_count": 101,
   "metadata": {},
   "outputs": [
    {
     "name": "stderr",
     "output_type": "stream",
     "text": [
      "/home/perro/anaconda3/lib/python3.6/site-packages/sklearn/model_selection/_search.py:761: DeprecationWarning: The grid_scores_ attribute was deprecated in version 0.18 in favor of the more elaborate cv_results_ attribute. The grid_scores_ attribute will not be available from 0.20\n",
      "  DeprecationWarning)\n"
     ]
    },
    {
     "data": {
      "text/plain": [
       "([mean: -14986.84864, std: 1350.64205, params: {'reg_alpha': 100, 'reg_lambda': 1},\n",
       "  mean: -14981.34600, std: 1308.31745, params: {'reg_alpha': 100, 'reg_lambda': 2},\n",
       "  mean: -14984.01695, std: 1258.42534, params: {'reg_alpha': 100, 'reg_lambda': 3},\n",
       "  mean: -15216.92656, std: 1373.96131, params: {'reg_alpha': 100, 'reg_lambda': 4},\n",
       "  mean: -15359.50089, std: 1193.30040, params: {'reg_alpha': 100, 'reg_lambda': 5},\n",
       "  mean: -15466.11520, std: 1580.28771, params: {'reg_alpha': 100, 'reg_lambda': 6},\n",
       "  mean: -15603.09789, std: 1241.25705, params: {'reg_alpha': 100, 'reg_lambda': 7},\n",
       "  mean: -15645.13385, std: 1571.17763, params: {'reg_alpha': 100, 'reg_lambda': 8},\n",
       "  mean: -15659.43627, std: 1121.78738, params: {'reg_alpha': 100, 'reg_lambda': 9},\n",
       "  mean: -14902.08216, std: 1428.46908, params: {'reg_alpha': 500, 'reg_lambda': 1},\n",
       "  mean: -14918.45307, std: 1282.22803, params: {'reg_alpha': 500, 'reg_lambda': 2},\n",
       "  mean: -14910.58793, std: 1275.44687, params: {'reg_alpha': 500, 'reg_lambda': 3},\n",
       "  mean: -15298.61521, std: 1385.46846, params: {'reg_alpha': 500, 'reg_lambda': 4},\n",
       "  mean: -15371.08507, std: 1127.74323, params: {'reg_alpha': 500, 'reg_lambda': 5},\n",
       "  mean: -15483.22202, std: 1677.26787, params: {'reg_alpha': 500, 'reg_lambda': 6},\n",
       "  mean: -15654.32914, std: 1311.24257, params: {'reg_alpha': 500, 'reg_lambda': 7},\n",
       "  mean: -15648.65134, std: 1530.97873, params: {'reg_alpha': 500, 'reg_lambda': 8},\n",
       "  mean: -15577.04277, std: 1203.87219, params: {'reg_alpha': 500, 'reg_lambda': 9},\n",
       "  mean: -14933.23365, std: 1405.11872, params: {'reg_alpha': 1000, 'reg_lambda': 1},\n",
       "  mean: -14938.09750, std: 1182.84213, params: {'reg_alpha': 1000, 'reg_lambda': 2},\n",
       "  mean: -14977.79046, std: 1111.28897, params: {'reg_alpha': 1000, 'reg_lambda': 3},\n",
       "  mean: -15115.79302, std: 1265.41813, params: {'reg_alpha': 1000, 'reg_lambda': 4},\n",
       "  mean: -15397.04734, std: 1236.01519, params: {'reg_alpha': 1000, 'reg_lambda': 5},\n",
       "  mean: -15377.42376, std: 1494.62965, params: {'reg_alpha': 1000, 'reg_lambda': 6},\n",
       "  mean: -15538.89715, std: 1253.60756, params: {'reg_alpha': 1000, 'reg_lambda': 7},\n",
       "  mean: -15731.01499, std: 1468.00461, params: {'reg_alpha': 1000, 'reg_lambda': 8},\n",
       "  mean: -15789.27674, std: 1182.07235, params: {'reg_alpha': 1000, 'reg_lambda': 9}],\n",
       " {'reg_alpha': 500, 'reg_lambda': 1},\n",
       " -14902.082162350172)"
      ]
     },
     "execution_count": 101,
     "metadata": {},
     "output_type": "execute_result"
    }
   ],
   "source": [
    "gsearch5.grid_scores_, gsearch5.best_params_, gsearch5.best_score_"
   ]
  },
  {
   "cell_type": "code",
   "execution_count": 102,
   "metadata": {},
   "outputs": [
    {
     "data": {
      "text/plain": [
       "GridSearchCV(cv=5, error_score='raise',\n",
       "       estimator=XGBRegressor(base_score=0.5, booster='gbtree', colsample_bylevel=1,\n",
       "       colsample_bytree=0.3, gamma=0, learning_rate=0.1, max_delta_step=0,\n",
       "       max_depth=3, min_child_weight=2, missing=None, n_estimators=379,\n",
       "       n_jobs=1, nthread=4, objective='reg:linear', random_state=0,\n",
       "       reg_alpha=0, reg_lambda=1, scale_pos_weight=1, seed=27, silent=True,\n",
       "       subsample=0.5),\n",
       "       fit_params=None, iid=False, n_jobs=4,\n",
       "       param_grid={'reg_alpha': [450, 460, 470, 480, 490, 500, 510, 520, 530, 540, 550]},\n",
       "       pre_dispatch='2*n_jobs', refit=True, return_train_score=True,\n",
       "       scoring='neg_mean_absolute_error', verbose=0)"
      ]
     },
     "execution_count": 102,
     "metadata": {},
     "output_type": "execute_result"
    }
   ],
   "source": [
    "param_test5 = {\n",
    "    'reg_alpha':[450,460,470,480,490,500,510,520,530,540,550],\n",
    "}\n",
    "gsearch5 = GridSearchCV(estimator = XGBRegressor( learning_rate =0.1, n_estimators=379, max_depth=3,\n",
    "                                        min_child_weight=2, gamma=0, subsample=0.5, colsample_bytree=0.3,\n",
    "                                        nthread=4, scale_pos_weight=1, seed=27,reg_lambda=1), \n",
    "                       param_grid = param_test5, scoring='neg_mean_absolute_error'\n",
    "                        ,n_jobs=4,iid=False, cv=5,\n",
    "                       return_train_score=True)\n",
    "gsearch5.fit(train[predictors],train[target])"
   ]
  },
  {
   "cell_type": "code",
   "execution_count": 103,
   "metadata": {},
   "outputs": [
    {
     "name": "stderr",
     "output_type": "stream",
     "text": [
      "/home/perro/anaconda3/lib/python3.6/site-packages/sklearn/model_selection/_search.py:761: DeprecationWarning: The grid_scores_ attribute was deprecated in version 0.18 in favor of the more elaborate cv_results_ attribute. The grid_scores_ attribute will not be available from 0.20\n",
      "  DeprecationWarning)\n"
     ]
    },
    {
     "data": {
      "text/plain": [
       "([mean: -14981.50722, std: 1342.59337, params: {'reg_alpha': 450},\n",
       "  mean: -14957.74241, std: 1373.88115, params: {'reg_alpha': 460},\n",
       "  mean: -14973.06557, std: 1340.93381, params: {'reg_alpha': 470},\n",
       "  mean: -15009.95163, std: 1324.97440, params: {'reg_alpha': 480},\n",
       "  mean: -14897.70679, std: 1431.52086, params: {'reg_alpha': 490},\n",
       "  mean: -14902.08216, std: 1428.46908, params: {'reg_alpha': 500},\n",
       "  mean: -14909.50846, std: 1414.50670, params: {'reg_alpha': 510},\n",
       "  mean: -14906.94404, std: 1389.69455, params: {'reg_alpha': 520},\n",
       "  mean: -14856.11134, std: 1367.23953, params: {'reg_alpha': 530},\n",
       "  mean: -14898.11985, std: 1353.68252, params: {'reg_alpha': 540},\n",
       "  mean: -14926.25468, std: 1391.24189, params: {'reg_alpha': 550}],\n",
       " {'reg_alpha': 530},\n",
       " -14856.11134150257)"
      ]
     },
     "execution_count": 103,
     "metadata": {},
     "output_type": "execute_result"
    }
   ],
   "source": [
    "gsearch5.grid_scores_, gsearch5.best_params_, gsearch5.best_score_"
   ]
  },
  {
   "cell_type": "markdown",
   "metadata": {},
   "source": [
    "* Re-calibrating number of boosting rounds for new parameters"
   ]
  },
  {
   "cell_type": "code",
   "execution_count": 104,
   "metadata": {},
   "outputs": [
    {
     "name": "stdout",
     "output_type": "stream",
     "text": [
      "Cross-val results: 'n_estimators' = 233\n",
      "\n",
      "Model Report\n",
      "Mean Absolute Error : 9344.73\n"
     ]
    },
    {
     "data": {
      "image/png": "[encoded data removed]",
      "text/plain": [
       "<Figure size 1080x288 with 1 Axes>"
      ]
     },
     "metadata": {},
     "output_type": "display_data"
    }
   ],
   "source": [
    "xgb3 = XGBRegressor( #classifier because of binary targer variable\n",
    "        learning_rate =0.1, #default value (high)\n",
    "        n_estimators=1000,  #NOT default (100)\n",
    "        max_depth=3,        #OPTIMIZED \n",
    "        min_child_weight=2, #OPTIMIZED\n",
    "        gamma=0,            #OPTIMIZED \n",
    "        subsample=0.5,      #OPTIMIZED \n",
    "        colsample_bytree=0.3,#OPTIMIZED \n",
    "        nthread=4,\n",
    "        scale_pos_weight=1, #default\n",
    "        random_state=27,    #Random number seed\n",
    "        reg_alpha=530,      #OPTIMIZED \n",
    "        reg_lambda=1        #OPTIMIZED \n",
    ")    \n",
    "\n",
    "modelfit(xgb3,train,predictors,target)"
   ]
  },
  {
   "cell_type": "markdown",
   "metadata": {},
   "source": [
    "## Reducing learning rate\n",
    "(and increasing the number of trees)"
   ]
  },
  {
   "cell_type": "code",
   "execution_count": 105,
   "metadata": {},
   "outputs": [
    {
     "name": "stdout",
     "output_type": "stream",
     "text": [
      "Cross-val results: 'n_estimators' = 3593\n",
      "\n",
      "Model Report\n",
      "Mean Absolute Error : 7168.06\n"
     ]
    },
    {
     "data": {
      "image/png": "[encoded data removed]",
      "text/plain": [
       "<Figure size 1080x288 with 1 Axes>"
      ]
     },
     "metadata": {},
     "output_type": "display_data"
    }
   ],
   "source": [
    "xgb4 = XGBRegressor( #classifier because of binary targer variable\n",
    "        learning_rate =0.01, #default value (high)\n",
    "        n_estimators=5000,  #NOT default (100)\n",
    "        max_depth=3,        #OPTIMIZED \n",
    "        min_child_weight=2, #OPTIMIZED\n",
    "        gamma=0,            #OPTIMIZED \n",
    "        subsample=0.5,      #OPTIMIZED \n",
    "        colsample_bytree=0.3,#OPTIMIZED \n",
    "        nthread=4,\n",
    "        scale_pos_weight=1, #default\n",
    "        random_state=27,    #Random number seed\n",
    "        reg_alpha=530,      #OPTIMIZED \n",
    "        reg_lambda=1        #OPTIMIZED \n",
    ")    \n",
    "\n",
    "modelfit(xgb4,train,predictors,target)"
   ]
  },
  {
   "cell_type": "code",
   "execution_count": null,
   "metadata": {},
   "outputs": [],
   "source": []
  }
 ],
 "metadata": {
  "kernelspec": {
   "display_name": "Python 3",
   "language": "python",
   "name": "python3"
  },
  "language_info": {
   "codemirror_mode": {
    "name": "ipython",
    "version": 3
   },
   "file_extension": ".py",
   "mimetype": "text/x-python",
   "name": "python",
   "nbconvert_exporter": "python",
   "pygments_lexer": "ipython3",
   "version": "3.6.5"
  }
 },
 "nbformat": 4,
 "nbformat_minor": 2
}
