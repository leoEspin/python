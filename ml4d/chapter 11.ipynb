{
 "cells": [
  {
   "cell_type": "markdown",
   "metadata": {},
   "source": [
    "# bootstrap example, use of range"
   ]
  },
  {
   "cell_type": "code",
   "execution_count": 1,
   "metadata": {},
   "outputs": [
    {
     "name": "stdout",
     "output_type": "stream",
     "text": [
      "out-of-bootstrap: 36.8 %\n"
     ]
    }
   ],
   "source": [
    "from random import randint\n",
    "import numpy as np\n",
    "n=1000 #number of examples\n",
    "#original set is in examples variable below\n",
    "examples = set(range(n)) #defining a set, no need to import anything. range generates a list for for iterations\n",
    "results=list()  #empty list, equivalent to results=[]. notice use of [] operator below\n",
    "for j in range(10000):\n",
    "    #list containing random sample from list examples\n",
    "    chosen=[randint(0,n) for k in range(n)] #notice sampling with replacement (or repetition)\n",
    "    #out of sample\n",
    "    results.append((1000-len(set(chosen)&examples))/float(n))#intersection of chosen & examples, size of that\n",
    "    \n",
    "print('out-of-bootstrap: %0.1f %%' % (np.mean(results)*100)) #%0.1f position holder for a float which is going to \n",
    "                                                            #be shown with one decimal, %% means print the\n",
    "                                                        #percentage sign, and the operator % passes the results of\n",
    "                                                        #the calculation to be printed\n"
   ]
  },
  {
   "cell_type": "markdown",
   "metadata": {},
   "source": [
    "analysis of line\n",
    "\n",
    "results.append((1000-len(set(chosen)&examples))/float(n))\n",
    "\n",
    "set(chosen)&examples transform chosen list into a set, and calculates intersection with examples,\n",
    "in other words is finding the unique elements in chosen\n",
    "\n",
    "1000-len(ofthatthing) is a measure of the amount of *repetition in the bootstrapped sample*\n",
    "\n",
    "(1000-len(ofthatthing))/1000 size of intersection, subtracted from a 1000, normalized by n\n"
   ]
  },
  {
   "cell_type": "markdown",
   "metadata": {},
   "source": [
    "## range has beggining, stop, step as arguments\n",
    "\n",
    "use frange for using floats as arguments for the range. if beggining argument is absent, range starts from zero"
   ]
  },
  {
   "cell_type": "code",
   "execution_count": 2,
   "metadata": {},
   "outputs": [
    {
     "name": "stdout",
     "output_type": "stream",
     "text": [
      "0\n",
      "1\n",
      "2\n",
      "\n",
      "\n",
      "1\n",
      "2\n",
      "\n",
      "\n",
      "-1\n",
      "1\n"
     ]
    }
   ],
   "source": [
    "for j in range(3):\n",
    "    print(j)\n",
    "print('\\n')\n",
    "for j in range(1,3):\n",
    "    print(j)\n",
    "print('\\n')\n",
    "for j in range(-1,3,2):\n",
    "    print(j)"
   ]
  },
  {
   "cell_type": "code",
   "execution_count": 4,
   "metadata": {},
   "outputs": [
    {
     "name": "stdout",
     "output_type": "stream",
     "text": [
      "range(0, 5)\n",
      "<class 'list'>\n",
      "[0, 1, 2, 3, 4]\n",
      "<class 'list'>\n"
     ]
    }
   ],
   "source": [
    "test=[range(5)] #this is a range\n",
    "print(test[0])\n",
    "print(type(test))\n",
    "test2=list(range(5))\n",
    "print(test2)\n",
    "list(range(5))\n",
    "print(type(test2))"
   ]
  },
  {
   "cell_type": "code",
   "execution_count": 10,
   "metadata": {},
   "outputs": [
    {
     "name": "stdout",
     "output_type": "stream",
     "text": [
      "[0.369, 0.364, 0.351, 0.36, 0.365, 0.374, 0.38, 0.367, 0.377, 0.357]\n",
      "[313, 197, 20, 667, 691, 16, 293, 325, 66, 819]\n"
     ]
    }
   ],
   "source": [
    "print(results[0:10])\n",
    "print(chosen[0:10])"
   ]
  },
  {
   "cell_type": "code",
   "execution_count": 11,
   "metadata": {},
   "outputs": [
    {
     "name": "stdout",
     "output_type": "stream",
     "text": [
      "10000\n",
      "1000\n"
     ]
    }
   ],
   "source": [
    "print(len(results))\n",
    "print(len(chosen))"
   ]
  },
  {
   "cell_type": "code",
   "execution_count": 12,
   "metadata": {},
   "outputs": [
    {
     "name": "stdout",
     "output_type": "stream",
     "text": [
      "False\n"
     ]
    }
   ],
   "source": [
    "print(0 in chosen)"
   ]
  },
  {
   "cell_type": "code",
   "execution_count": null,
   "metadata": {},
   "outputs": [],
   "source": [
    "A=set([1,1,2])\n",
    "B=set([1])\n",
    "print(A&B)"
   ]
  },
  {
   "cell_type": "code",
   "execution_count": 13,
   "metadata": {},
   "outputs": [
    {
     "name": "stdout",
     "output_type": "stream",
     "text": [
      "[8, 7, 3, 2, 8]\n"
     ]
    }
   ],
   "source": [
    "print([randint(1,10) for k in range(5)])"
   ]
  },
  {
   "cell_type": "code",
   "execution_count": 17,
   "metadata": {},
   "outputs": [
    {
     "ename": "TypeError",
     "evalue": "'set' object is not subscriptable",
     "output_type": "error",
     "traceback": [
      "\u001b[0;31m---------------------------------------------------------------------------\u001b[0m",
      "\u001b[0;31mTypeError\u001b[0m                                 Traceback (most recent call last)",
      "\u001b[0;32m<ipython-input-17-c373584bee41>\u001b[0m in \u001b[0;36m<module>\u001b[0;34m()\u001b[0m\n\u001b[0;32m----> 1\u001b[0;31m \u001b[0mprint\u001b[0m\u001b[0;34m(\u001b[0m\u001b[0mexamples\u001b[0m\u001b[0;34m[\u001b[0m\u001b[0;36m0\u001b[0m\u001b[0;34m:\u001b[0m\u001b[0;36m10\u001b[0m\u001b[0;34m]\u001b[0m\u001b[0;34m)\u001b[0m \u001b[0;31m#this is a set, notice curly brackets\u001b[0m\u001b[0;34m\u001b[0m\u001b[0m\n\u001b[0m",
      "\u001b[0;31mTypeError\u001b[0m: 'set' object is not subscriptable"
     ]
    }
   ],
   "source": [
    "print(examples[0:10]) #this is a set, so does not have an index"
   ]
  },
  {
   "cell_type": "code",
   "execution_count": null,
   "metadata": {},
   "outputs": [],
   "source": []
  }
 ],
 "metadata": {
  "kernelspec": {
   "display_name": "Python 3",
   "language": "python",
   "name": "python3"
  },
  "language_info": {
   "codemirror_mode": {
    "name": "ipython",
    "version": 3
   },
   "file_extension": ".py",
   "mimetype": "text/x-python",
   "name": "python",
   "nbconvert_exporter": "python",
   "pygments_lexer": "ipython3",
   "version": "3.6.4"
  }
 },
 "nbformat": 4,
 "nbformat_minor": 2
}
