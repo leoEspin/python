{
 "cells": [
  {
   "cell_type": "markdown",
   "metadata": {},
   "source": [
    "# bootstrap example, use of range"
   ]
  },
  {
   "cell_type": "code",
   "execution_count": 1,
   "metadata": {},
   "outputs": [
    {
     "name": "stdout",
     "output_type": "stream",
     "text": [
      "out-of-bootstrap: 36.8 %\n"
     ]
    }
   ],
   "source": [
    "from random import randint\n",
    "import numpy as np\n",
    "n=1000 #number of examples\n",
    "#original set of examples\n",
    "examples = set(range(n)) #defining a set, no need to import anything. range generates a list for for iterations\n",
    "results=list()  #empty list I suppose\n",
    "for j in range(10000):\n",
    "    # bootstrapped sample\n",
    "    chosen=[randint(0,n) for k in range(n)] #a list of a thousand random integers\n",
    "    #out of sample\n",
    "    results.append((1000-len(set(chosen)&examples))/float(n))#intersection of chosen & examples, size of that\n",
    "    \n",
    "print('out-of-bootstrap: %0.1f %%' % (np.mean(results)*100)) #%0.1f position holder for a float which is going to \n",
    "                                                            #be shown with one decimal, %% means print the\n",
    "                                                        #percentage sign, and the operator % passes the results of\n",
    "                                                        #the calculation to be printed\n"
   ]
  },
  {
   "cell_type": "markdown",
   "metadata": {},
   "source": [
    "analysis of line\n",
    "\n",
    "results.append((1000-len(set(chosen)&examples))/float(n))\n",
    "\n",
    "set(chosen)&examples transform chosen list into a set, and calculates intersection with examples\n",
    "\n",
    "len(ofthatthing) is a measure of the amount of repetition in the random drawing of integers, I guess\n",
    "\n",
    "(1000-len(ofthatthing))/1000 size of intersection, subtracted from a 1000, normalized by n\n"
   ]
  },
  {
   "cell_type": "markdown",
   "metadata": {},
   "source": [
    "## range has beggining, stop, step as arguments\n",
    "\n",
    "use frange for using floats as arguments for the range. if beggining argument is absent, range starts from zero"
   ]
  },
  {
   "cell_type": "code",
   "execution_count": 11,
   "metadata": {},
   "outputs": [
    {
     "name": "stdout",
     "output_type": "stream",
     "text": [
      "0\n",
      "1\n",
      "2\n",
      "\n",
      "\n",
      "1\n",
      "2\n",
      "\n",
      "\n",
      "-1\n",
      "1\n"
     ]
    }
   ],
   "source": [
    "for j in range(3):\n",
    "    print(j)\n",
    "print('\\n')\n",
    "for j in range(1,3):\n",
    "    print(j)\n",
    "print('\\n')\n",
    "for j in range(-1,3,2):\n",
    "    print(j)"
   ]
  },
  {
   "cell_type": "code",
   "execution_count": 22,
   "metadata": {},
   "outputs": [
    {
     "name": "stdout",
     "output_type": "stream",
     "text": [
      "range(0, 5)\n",
      "<class 'list'>\n",
      "[0, 1, 2, 3, 4]\n",
      "<class 'list'>\n"
     ]
    }
   ],
   "source": [
    "test=[range(5)] #this is a range\n",
    "print(test[0])\n",
    "print(type(test))\n",
    "test2=list(range(5))\n",
    "print(test2)list(range(5))\n",
    "print(type(test2))"
   ]
  },
  {
   "cell_type": "code",
   "execution_count": 23,
   "metadata": {},
   "outputs": [
    {
     "name": "stdout",
     "output_type": "stream",
     "text": [
      "[910, 890, 516, 43, 190, 433, 396, 587, 509, 371, 509, 961, 193, 750, 595, 114, 407, 241, 142, 577, 99, 104, 970, 108, 7, 973, 669, 944, 473, 748, 321, 909, 863, 503, 204, 672, 603, 784, 450, 584, 619, 70, 356, 546, 445, 669, 55, 477, 951, 777, 890, 514, 805, 479, 465, 466, 678, 559, 444, 435, 259, 518, 83, 896, 597, 918, 199, 523, 82, 747, 379, 513, 448, 241, 854, 180, 983, 976, 243, 111, 125, 178, 829, 771, 495, 705, 0, 356, 242, 647, 870, 287, 671, 879, 749, 370, 269, 451, 581, 839, 363, 229, 623, 893, 12, 57, 931, 600, 43, 623, 966, 907, 987, 465, 594, 695, 400, 281, 607, 104, 2, 505, 148, 932, 495, 532, 978, 275, 217, 402, 853, 487, 533, 126, 145, 159, 554, 819, 310, 536, 295, 593, 851, 778, 896, 177, 358, 205, 938, 693, 500, 338, 723, 219, 767, 540, 223, 395, 822, 455, 489, 985, 631, 272, 71, 718, 802, 0, 231, 983, 89, 962, 53, 90, 983, 843, 821, 171, 508, 253, 118, 500, 53, 922, 652, 971, 414, 192, 633, 715, 12, 905, 604, 726, 551, 380, 383, 35, 342, 125, 336, 692, 645, 43, 406, 190, 541, 85, 575, 913, 825, 326, 827, 753, 713, 788, 975, 604, 968, 844, 95, 185, 391, 12, 504, 962, 841, 450, 194, 391, 743, 628, 43, 429, 103, 740, 500, 268, 750, 657, 178, 814, 573, 727, 660, 296, 917, 548, 598, 218, 770, 234, 235, 600, 58, 191, 381, 793, 435, 839, 446, 722, 206, 692, 263, 911, 620, 528, 204, 753, 766, 208, 236, 650, 339, 744, 381, 212, 699, 969, 179, 785, 746, 196, 503, 993, 983, 767, 978, 290, 221, 855, 271, 827, 66, 368, 124, 818, 402, 464, 794, 27, 404, 602, 719, 218, 933, 83, 894, 124, 929, 76, 820, 949, 473, 23, 845, 370, 97, 174, 270, 441, 889, 766, 107, 517, 553, 118, 771, 257, 351, 533, 870, 147, 485, 174, 970, 650, 155, 808, 281, 336, 52, 774, 688, 280, 54, 277, 717, 217, 283, 436, 608, 312, 619, 926, 830, 820, 277, 147, 309, 729, 958, 979, 923, 110, 171, 59, 349, 65, 636, 59, 637, 625, 465, 708, 198, 129, 290, 125, 149, 347, 633, 502, 466, 692, 287, 882, 200, 247, 50, 112, 43, 333, 795, 289, 496, 516, 25, 10, 668, 372, 728, 275, 525, 837, 135, 548, 72, 976, 663, 891, 743, 382, 624, 134, 240, 925, 803, 339, 853, 879, 159, 514, 556, 175, 797, 257, 611, 878, 312, 515, 245, 433, 91, 190, 60, 715, 780, 388, 318, 932, 201, 847, 866, 679, 327, 590, 740, 827, 946, 958, 629, 962, 990, 865, 373, 440, 317, 193, 571, 568, 112, 750, 792, 276, 819, 769, 727, 710, 446, 647, 584, 346, 169, 404, 740, 972, 603, 94, 495, 58, 759, 757, 87, 343, 147, 923, 37, 818, 646, 987, 946, 255, 252, 896, 619, 81, 473, 844, 465, 344, 455, 651, 445, 754, 74, 885, 81, 290, 790, 502, 506, 686, 955, 562, 41, 969, 510, 365, 169, 684, 691, 671, 25, 817, 660, 296, 697, 462, 342, 944, 552, 687, 736, 908, 208, 967, 554, 557, 760, 222, 310, 382, 261, 713, 429, 375, 441, 601, 804, 598, 526, 36, 97, 629, 918, 78, 379, 986, 411, 327, 335, 797, 797, 657, 37, 471, 262, 176, 385, 523, 33, 808, 448, 561, 632, 211, 517, 93, 722, 898, 439, 511, 674, 241, 311, 826, 205, 259, 534, 653, 95, 954, 964, 516, 282, 638, 348, 182, 620, 31, 892, 104, 360, 706, 400, 601, 335, 856, 901, 290, 533, 449, 696, 180, 275, 355, 847, 875, 266, 594, 849, 362, 530, 891, 812, 107, 639, 664, 149, 221, 511, 30, 852, 300, 677, 299, 589, 202, 774, 363, 960, 439, 186, 486, 344, 320, 262, 461, 112, 556, 163, 532, 87, 151, 848, 641, 552, 752, 173, 985, 544, 552, 88, 735, 83, 731, 16, 269, 804, 572, 335, 744, 198, 719, 808, 140, 95, 261, 230, 973, 528, 119, 585, 982, 678, 494, 99, 556, 323, 436, 41, 93, 543, 592, 11, 324, 979, 880, 361, 407, 288, 968, 529, 273, 23, 108, 175, 436, 167, 225, 650, 75, 45, 352, 525, 319, 965, 808, 246, 932, 539, 939, 528, 460, 900, 75, 608, 25, 308, 773, 350, 410, 254, 37, 250, 481, 811, 380, 981, 239, 83, 825, 333, 549, 673, 959, 716, 533, 399, 94, 948, 477, 100, 446, 513, 585, 376, 62, 830, 724, 839, 21, 688, 113, 326, 662, 192, 273, 389, 67, 732, 1, 432, 838, 658, 916, 905, 356, 815, 754, 644, 534, 699, 166, 858, 869, 713, 56, 761, 494, 639, 19, 70, 747, 243, 830, 349, 91, 285, 668, 215, 985, 304, 966, 550, 601, 702, 192, 128, 986, 769, 523, 942, 554, 977, 384, 73, 401, 351, 949, 821, 209, 263, 986, 891, 362, 750, 324, 596, 900, 485, 774, 717, 576, 561, 554, 456, 791, 441, 721, 55, 375, 189, 291, 537, 810, 310, 839, 627, 258, 428, 93, 381, 357, 326, 50, 304, 259, 78, 575, 174, 67, 615, 461, 866, 327, 598, 398, 746, 150, 619, 154, 947, 390, 619, 337, 448, 162, 468, 651, 509, 596, 995, 983, 756, 314, 958, 620, 209, 607, 313, 462, 684, 294, 807, 138, 624, 453, 145, 276, 893, 365, 724, 646, 610, 443, 514, 793, 755, 587, 137, 61, 888, 89, 718, 657, 415, 2, 561, 178, 480, 306, 821, 773, 118, 290, 693, 445, 243, 146, 556, 135, 419, 81, 195, 510, 331, 828, 32, 177, 441, 585, 582, 348, 588, 928, 920, 999, 776, 484, 850, 255, 565, 200, 867, 691, 55, 793, 569, 808, 602, 281, 779, 71, 443, 971, 199, 376, 915, 849, 674, 431, 262, 633, 736, 397, 126, 227, 397, 227, 173, 805, 909, 459, 94, 879, 523, 13, 943, 868, 701, 18, 414, 529, 923, 382, 751, 548]\n"
     ]
    }
   ],
   "source": [
    "print(chosen)"
   ]
  },
  {
   "cell_type": "code",
   "execution_count": 24,
   "metadata": {},
   "outputs": [
    {
     "name": "stdout",
     "output_type": "stream",
     "text": [
      "1000\n"
     ]
    }
   ],
   "source": [
    "print(len(chosen))"
   ]
  },
  {
   "cell_type": "code",
   "execution_count": 25,
   "metadata": {},
   "outputs": [
    {
     "name": "stdout",
     "output_type": "stream",
     "text": [
      "True\n"
     ]
    }
   ],
   "source": [
    "print(0 in chosen)"
   ]
  },
  {
   "cell_type": "code",
   "execution_count": 26,
   "metadata": {},
   "outputs": [
    {
     "name": "stdout",
     "output_type": "stream",
     "text": [
      "{1}\n"
     ]
    }
   ],
   "source": [
    "A=set([1,1,2])\n",
    "B=set([1])\n",
    "print(A&B)"
   ]
  },
  {
   "cell_type": "code",
   "execution_count": 30,
   "metadata": {},
   "outputs": [
    {
     "name": "stdout",
     "output_type": "stream",
     "text": [
      "[2, 4, 3, 3, 2]\n"
     ]
    }
   ],
   "source": [
    "print([randint(1,10) for k in range(5)])"
   ]
  },
  {
   "cell_type": "code",
   "execution_count": null,
   "metadata": {},
   "outputs": [],
   "source": []
  },
  {
   "cell_type": "code",
   "execution_count": null,
   "metadata": {},
   "outputs": [],
   "source": []
  }
 ],
 "metadata": {
  "kernelspec": {
   "display_name": "Python 3",
   "language": "python",
   "name": "python3"
  },
  "language_info": {
   "codemirror_mode": {
    "name": "ipython",
    "version": 3
   },
   "file_extension": ".py",
   "mimetype": "text/x-python",
   "name": "python",
   "nbconvert_exporter": "python",
   "pygments_lexer": "ipython3",
   "version": "3.6.4"
  }
 },
 "nbformat": 4,
 "nbformat_minor": 2
}
