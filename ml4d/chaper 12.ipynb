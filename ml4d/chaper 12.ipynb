{
 "cells": [
  {
   "cell_type": "markdown",
   "metadata": {},
   "source": [
    "# csv files with csv"
   ]
  },
  {
   "cell_type": "code",
   "execution_count": 9,
   "metadata": {},
   "outputs": [
    {
     "name": "stdout",
     "output_type": "stream",
     "text": [
      "Spam, Spam, Spam, Spam, Spam, Baked Beans\n",
      "Spam, Lovely Spam, Wonderful Spam\n"
     ]
    }
   ],
   "source": [
    "import csv\n",
    "with open('eggs.csv', newline='') as csvfile:\n",
    "    spamreader = csv.reader(csvfile, delimiter=' ', quotechar='|')\n",
    "    for row in spamreader:\n",
    "        print(', '.join(row)) # join method of a string object, will use the object to join a set of strings\n"
   ]
  },
  {
   "cell_type": "markdown",
   "metadata": {},
   "source": [
    "## string stuff"
   ]
  },
  {
   "cell_type": "code",
   "execution_count": 12,
   "metadata": {},
   "outputs": [
    {
     "name": "stdout",
     "output_type": "stream",
     "text": [
      "a-b-c\n"
     ]
    }
   ],
   "source": [
    "s = \"-\";\n",
    "seq = (\"a\", \"b\", \"c\"); # This is sequence of strings.\n",
    "print(s.join( seq ))"
   ]
  },
  {
   "cell_type": "code",
   "execution_count": 29,
   "metadata": {},
   "outputs": [
    {
     "name": "stdout",
     "output_type": "stream",
     "text": [
      "['1', 'sunny', 'hot', 'high', 'FALSE', 'N']\n",
      "['2', 'sunny', 'hot', 'high', 'TRUE', 'N']\n",
      "['3', 'overcast', 'hot', 'high', 'FALSE', 'P']\n",
      "['4', 'rain', 'mild', 'high', 'FALSE', 'P']\n",
      "['5', 'rain', 'cool', 'normal', 'FALSE', 'P']\n",
      "['6', 'rain', 'cool', 'normal', 'TRUE', 'N']\n",
      "['7', 'overcast', 'cool', 'normal', 'TRUE', 'P']\n",
      "['8', 'sunny', 'mild', 'high', 'FALSE', 'N']\n",
      "['9', 'sunny', 'cool', 'normal', 'FALSE', 'P']\n",
      "['10', 'rain', 'mild', 'normal', 'FALSE', 'P']\n",
      "['11', 'sunny', 'mild', 'normal', 'TRUE', 'P']\n",
      "['12', 'overcast', 'mild', 'high', 'TRUE', 'P']\n",
      "['13', 'overcast', 'hot', 'normal', 'FALSE', 'P']\n",
      "['14', 'rain', 'mild', 'high', 'TRUE', 'N']\n"
     ]
    }
   ],
   "source": [
    "listData=[]\n",
    "with open('quinlan.csv', newline='') as tennis:\n",
    "    data=csv.reader(tennis,delimiter=',')\n",
    "    for row in data:\n",
    "        listData.append(row)\n",
    "        #print(row)\n",
    "listData=listData[4:]\n",
    "for i in listData:\n",
    "    #print(listData(i)) resulsted in an error. the iterator is an object!!\n",
    "    print(i)"
   ]
  },
  {
   "cell_type": "markdown",
   "metadata": {},
   "source": [
    "# decision trees with Scikit-learn"
   ]
  },
  {
   "cell_type": "code",
   "execution_count": null,
   "metadata": {},
   "outputs": [],
   "source": [
    "from sklearn import tree"
   ]
  }
 ],
 "metadata": {
  "kernelspec": {
   "display_name": "Python 3",
   "language": "python",
   "name": "python3"
  },
  "language_info": {
   "codemirror_mode": {
    "name": "ipython",
    "version": 3
   },
   "file_extension": ".py",
   "mimetype": "text/x-python",
   "name": "python",
   "nbconvert_exporter": "python",
   "pygments_lexer": "ipython3",
   "version": "3.6.4"
  }
 },
 "nbformat": 4,
 "nbformat_minor": 2
}
