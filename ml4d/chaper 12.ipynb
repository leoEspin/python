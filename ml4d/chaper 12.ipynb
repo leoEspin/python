{
 "cells": [
  {
   "cell_type": "markdown",
   "metadata": {},
   "source": [
    "# decision trees with Scikit-learn\n",
    "[Python packages used](http://dataaspirant.com/2017/02/01/decision-tree-algorithm-python-with-scikit-learn/)\n",
    "    \n",
    "**NumPy**\n",
    "NumPy is a Numeric Python module. It provides fast mathematical functions.\n",
    "Numpy provides robust data structures for efficient computation of multi-dimensional arrays & matrices.\n",
    "\n",
    "We used numpy to read data files into numpy arrays and data manipulation.\n",
    "\n",
    "**Pandas**\n",
    "Provides DataFrame Object for data manipulation\n",
    "\n",
    "Provides reading & writing data b/w different files.\n",
    "DataFrames can hold different types data of multidimensional arrays.\n",
    "\n",
    "**Scikit-Learn**\n",
    "It’s a machine learning library. It includes various machine learning algorithms.\n",
    "We are using its\n",
    "train_test_split,\n",
    "DecisionTreeClassifier,\n",
    "accuracy_score algorithms.\n"
   ]
  },
  {
   "cell_type": "code",
   "execution_count": 8,
   "metadata": {},
   "outputs": [],
   "source": [
    "import numpy as np\n",
    "import pandas as pd\n",
    "from sklearn.cross_validation import train_test_split\n",
    "from sklearn.tree import DecisionTreeClassifier\n",
    "from sklearn.metrics import accuracy_score\n",
    "from sklearn import tree\n",
    "\n",
    "data= pd.read_csv('quinlan.csv',sep= ',', header=3, index_col=0)"
   ]
  },
  {
   "cell_type": "code",
   "execution_count": 9,
   "metadata": {},
   "outputs": [
    {
     "name": "stdout",
     "output_type": "stream",
     "text": [
      "   Unnamed: 1 Unnamed: 2 Unnamed: 3  Unnamed: 4 Unnamed: 5\n",
      "1       sunny        hot       high       False          N\n",
      "2       sunny        hot       high        True          N\n",
      "3    overcast        hot       high       False          P\n",
      "4        rain       mild       high       False          P\n",
      "5        rain       cool     normal       False          P\n",
      "6        rain       cool     normal        True          N\n",
      "7    overcast       cool     normal        True          P\n",
      "8       sunny       mild       high       False          N\n",
      "9       sunny       cool     normal       False          P\n",
      "10       rain       mild     normal       False          P\n",
      "11      sunny       mild     normal        True          P\n",
      "12   overcast       mild       high        True          P\n",
      "13   overcast        hot     normal       False          P\n",
      "14       rain       mild       high        True          N\n"
     ]
    }
   ],
   "source": [
    "print(data)"
   ]
  },
  {
   "cell_type": "code",
   "execution_count": null,
   "metadata": {},
   "outputs": [],
   "source": []
  },
  {
   "cell_type": "markdown",
   "metadata": {},
   "source": [
    "# csv files with csv"
   ]
  },
  {
   "cell_type": "code",
   "execution_count": 9,
   "metadata": {},
   "outputs": [
    {
     "name": "stdout",
     "output_type": "stream",
     "text": [
      "Spam, Spam, Spam, Spam, Spam, Baked Beans\n",
      "Spam, Lovely Spam, Wonderful Spam\n"
     ]
    }
   ],
   "source": [
    "import csv\n",
    "with open('eggs.csv', newline='') as csvfile:\n",
    "    spamreader = csv.reader(csvfile, delimiter=' ', quotechar='|')\n",
    "    for row in spamreader:\n",
    "        print(', '.join(row)) # join method of a string object, will use the object to join a set of strings\n"
   ]
  },
  {
   "cell_type": "markdown",
   "metadata": {},
   "source": [
    "## string stuff"
   ]
  },
  {
   "cell_type": "code",
   "execution_count": 12,
   "metadata": {},
   "outputs": [
    {
     "name": "stdout",
     "output_type": "stream",
     "text": [
      "a-b-c\n"
     ]
    }
   ],
   "source": [
    "s = \"-\";\n",
    "seq = (\"a\", \"b\", \"c\"); # This is sequence of strings.\n",
    "print(s.join( seq ))"
   ]
  },
  {
   "cell_type": "code",
   "execution_count": 29,
   "metadata": {},
   "outputs": [
    {
     "name": "stdout",
     "output_type": "stream",
     "text": [
      "['1', 'sunny', 'hot', 'high', 'FALSE', 'N']\n",
      "['2', 'sunny', 'hot', 'high', 'TRUE', 'N']\n",
      "['3', 'overcast', 'hot', 'high', 'FALSE', 'P']\n",
      "['4', 'rain', 'mild', 'high', 'FALSE', 'P']\n",
      "['5', 'rain', 'cool', 'normal', 'FALSE', 'P']\n",
      "['6', 'rain', 'cool', 'normal', 'TRUE', 'N']\n",
      "['7', 'overcast', 'cool', 'normal', 'TRUE', 'P']\n",
      "['8', 'sunny', 'mild', 'high', 'FALSE', 'N']\n",
      "['9', 'sunny', 'cool', 'normal', 'FALSE', 'P']\n",
      "['10', 'rain', 'mild', 'normal', 'FALSE', 'P']\n",
      "['11', 'sunny', 'mild', 'normal', 'TRUE', 'P']\n",
      "['12', 'overcast', 'mild', 'high', 'TRUE', 'P']\n",
      "['13', 'overcast', 'hot', 'normal', 'FALSE', 'P']\n",
      "['14', 'rain', 'mild', 'high', 'TRUE', 'N']\n"
     ]
    }
   ],
   "source": [
    "listData=[]\n",
    "with open('quinlan.csv', newline='') as tennis:\n",
    "    data=csv.reader(tennis,delimiter=',')\n",
    "    for row in data:\n",
    "        listData.append(row)\n",
    "        #print(row)\n",
    "listData=listData[4:]\n",
    "for i in listData:\n",
    "    #print(listData(i)) resulsted in an error. the iterator is an object!!\n",
    "    print(i)"
   ]
  },
  {
   "cell_type": "markdown",
   "metadata": {},
   "source": [
    "# decision trees with Scikit-learn"
   ]
  },
  {
   "cell_type": "code",
   "execution_count": null,
   "metadata": {},
   "outputs": [],
   "source": [
    "from sklearn import tree"
   ]
  }
 ],
 "metadata": {
  "kernelspec": {
   "display_name": "Python 3",
   "language": "python",
   "name": "python3"
  },
  "language_info": {
   "codemirror_mode": {
    "name": "ipython",
    "version": 3
   },
   "file_extension": ".py",
   "mimetype": "text/x-python",
   "name": "python",
   "nbconvert_exporter": "python",
   "pygments_lexer": "ipython3",
   "version": "3.6.4"
  }
 },
 "nbformat": 4,
 "nbformat_minor": 2
}
