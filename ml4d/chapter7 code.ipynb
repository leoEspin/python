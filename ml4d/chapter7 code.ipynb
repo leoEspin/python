{
 "cells": [
  {
   "cell_type": "markdown",
   "metadata": {},
   "source": [
    "## arguments by keyword instead of position (dangerous)"
   ]
  },
  {
   "cell_type": "code",
   "execution_count": 1,
   "metadata": {},
   "outputs": [
    {
     "name": "stdout",
     "output_type": "stream",
     "text": [
      "2+3 = 5\n"
     ]
    }
   ],
   "source": [
    "def displaySum(value1,value2):\n",
    "    print(str(value1)+'+'+str(value2)+' = '+str(value1+value2))\n",
    "    \n",
    "displaySum(value2=3,value1=2)"
   ]
  },
  {
   "cell_type": "markdown",
   "metadata": {},
   "source": [
    "## functions with variable number of arguments"
   ]
  },
  {
   "cell_type": "code",
   "execution_count": 6,
   "metadata": {},
   "outputs": [
    {
     "name": "stdout",
     "output_type": "stream",
     "text": [
      "You passed 3 arguments. ('test', 1, True)\n"
     ]
    }
   ],
   "source": [
    "def displayMulti(argcount=0,*vargs): #default is zero\n",
    "    print('You passed '+str(argcount)+' arguments.',vargs)\n",
    "displayMulti(3,'test',1,True)"
   ]
  },
  {
   "cell_type": "code",
   "execution_count": 9,
   "metadata": {},
   "outputs": [
    {
     "name": "stdout",
     "output_type": "stream",
     "text": [
      "a 5 1\n"
     ]
    }
   ],
   "source": [
    "print('a',2+3,1)"
   ]
  },
  {
   "cell_type": "markdown",
   "metadata": {},
   "source": [
    "## global variables"
   ]
  },
  {
   "cell_type": "code",
   "execution_count": 5,
   "metadata": {},
   "outputs": [
    {
     "name": "stdout",
     "output_type": "stream",
     "text": [
      "caca\n",
      "+caca\n",
      "+caca\n"
     ]
    }
   ],
   "source": [
    "myStr='caca'\n",
    "def printStr():\n",
    "    global myStr\n",
    "    print(myStr)\n",
    "    myStr='+caca' #local version of variable\n",
    "    print(myStr)\n",
    "\n",
    "printStr()\n",
    "print(myStr)"
   ]
  },
  {
   "cell_type": "markdown",
   "metadata": {},
   "source": [
    "## type conversion and input"
   ]
  },
  {
   "cell_type": "code",
   "execution_count": 9,
   "metadata": {},
   "outputs": [
    {
     "name": "stdout",
     "output_type": "stream",
     "text": [
      "type a number between 1 and 10: 0\n",
      "type a number between 1 and 10: 9\n",
      "incorrect first value!\n"
     ]
    }
   ],
   "source": [
    "def secretNumber():\n",
    "    one=int(input('type a number between 1 and 10: '))\n",
    "    two=int(input('type a number between 1 and 10: '))\n",
    "    if (one >=1) and (one<=10):\n",
    "        if(two >=1) and (two <=10):\n",
    "            print('your secret number is: '+str(one*two))\n",
    "        else:\n",
    "            print('incorrrect second value!')\n",
    "    else:\n",
    "        print('incorrect first value!')\n",
    "\n",
    "secretNumber()\n",
    "\n",
    "        "
   ]
  },
  {
   "cell_type": "markdown",
   "metadata": {},
   "source": [
    "## goldo witchcraft"
   ]
  },
  {
   "cell_type": "code",
   "execution_count": 14,
   "metadata": {},
   "outputs": [
    {
     "name": "stdout",
     "output_type": "stream",
     "text": [
      "Number s,10\n"
     ]
    }
   ],
   "source": [
    "print(\"Number %s,%d\" %('s',10))"
   ]
  },
  {
   "cell_type": "markdown",
   "metadata": {},
   "source": [
    "## for and while and string upper function"
   ]
  },
  {
   "cell_type": "code",
   "execution_count": 1,
   "metadata": {},
   "outputs": [
    {
     "name": "stdout",
     "output_type": "stream",
     "text": [
      "good argument: hello\n",
      "good argument: goodbye\n",
      "good argument: first\n",
      "good argument: last\n"
     ]
    }
   ],
   "source": [
    "def displayMulti(*varArgs):\n",
    "    for Arg in varArgs:\n",
    "        if Arg.upper()=='CONT': # upper function converts to uppercase\n",
    "            continue\n",
    "            print('continue argument: ' +Arg)\n",
    "        elif Arg.upper()=='BREAK':\n",
    "            break\n",
    "            print('break argument: ' + Arg)\n",
    "        print('good argument: '+Arg)\n",
    "displayMulti('hello','goodbye','first','last')\n"
   ]
  },
  {
   "cell_type": "code",
   "execution_count": 2,
   "metadata": {},
   "outputs": [
    {
     "name": "stdout",
     "output_type": "stream",
     "text": [
      "good argument: hello\n"
     ]
    }
   ],
   "source": [
    "displayMulti('hello','break','first','last')"
   ]
  },
  {
   "cell_type": "code",
   "execution_count": 3,
   "metadata": {},
   "outputs": [
    {
     "name": "stdout",
     "output_type": "stream",
     "text": [
      "good argument: hello\n",
      "good argument: first\n",
      "good argument: last\n"
     ]
    }
   ],
   "source": [
    "displayMulti('hello','cont','first','last')"
   ]
  },
  {
   "cell_type": "code",
   "execution_count": null,
   "metadata": {},
   "outputs": [],
   "source": []
  }
 ],
 "metadata": {
  "kernelspec": {
   "display_name": "Python 3",
   "language": "python",
   "name": "python3"
  },
  "language_info": {
   "codemirror_mode": {
    "name": "ipython",
    "version": 3
   },
   "file_extension": ".py",
   "mimetype": "text/x-python",
   "name": "python",
   "nbconvert_exporter": "python",
   "pygments_lexer": "ipython3",
   "version": "3.6.4"
  }
 },
 "nbformat": 4,
 "nbformat_minor": 2
}
