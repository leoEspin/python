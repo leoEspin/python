{
 "cells": [
  {
   "cell_type": "markdown",
   "metadata": {},
   "source": [
    "## arguments by keyword instead of position (dangerous)"
   ]
  },
  {
   "cell_type": "code",
   "execution_count": 1,
   "metadata": {},
   "outputs": [
    {
     "name": "stdout",
     "output_type": "stream",
     "text": [
      "2+3 = 5\n"
     ]
    }
   ],
   "source": [
    "def displaySum(value1,value2):\n",
    "    print(str(value1)+'+'+str(value2)+' = '+str(value1+value2))\n",
    "    \n",
    "displaySum(value2=3,value1=2)"
   ]
  },
  {
   "cell_type": "markdown",
   "metadata": {},
   "source": [
    "## functions with variable number of arguments"
   ]
  },
  {
   "cell_type": "code",
   "execution_count": 6,
   "metadata": {},
   "outputs": [
    {
     "name": "stdout",
     "output_type": "stream",
     "text": [
      "You passed 3 arguments. ('test', 1, True)\n"
     ]
    }
   ],
   "source": [
    "def displayMulti(argcount=0,*vargs): #default is zero\n",
    "    print('You passed '+str(argcount)+' arguments.',vargs)\n",
    "displayMulti(3,'test',1,True)"
   ]
  },
  {
   "cell_type": "code",
   "execution_count": 9,
   "metadata": {},
   "outputs": [
    {
     "name": "stdout",
     "output_type": "stream",
     "text": [
      "a 5 1\n"
     ]
    }
   ],
   "source": [
    "print('a',2+3,1)"
   ]
  },
  {
   "cell_type": "markdown",
   "metadata": {},
   "source": [
    "## global variables"
   ]
  },
  {
   "cell_type": "code",
   "execution_count": 5,
   "metadata": {},
   "outputs": [
    {
     "name": "stdout",
     "output_type": "stream",
     "text": [
      "caca\n",
      "+caca\n",
      "+caca\n"
     ]
    }
   ],
   "source": [
    "myStr='caca'\n",
    "def printStr():\n",
    "    global myStr\n",
    "    print(myStr)\n",
    "    myStr='+caca' #local version of variable\n",
    "    print(myStr)\n",
    "\n",
    "printStr()\n",
    "print(myStr)"
   ]
  },
  {
   "cell_type": "markdown",
   "metadata": {},
   "source": [
    "## type conversion and input"
   ]
  },
  {
   "cell_type": "code",
   "execution_count": 9,
   "metadata": {},
   "outputs": [
    {
     "name": "stdout",
     "output_type": "stream",
     "text": [
      "type a number between 1 and 10: 0\n",
      "type a number between 1 and 10: 9\n",
      "incorrect first value!\n"
     ]
    }
   ],
   "source": [
    "def secretNumber():\n",
    "    one=int(input('type a number between 1 and 10: '))\n",
    "    two=int(input('type a number between 1 and 10: '))\n",
    "    if (one >=1) and (one<=10):\n",
    "        if(two >=1) and (two <=10):\n",
    "            print('your secret number is: '+str(one*two))\n",
    "        else:\n",
    "            print('incorrrect second value!')\n",
    "    else:\n",
    "        print('incorrect first value!')\n",
    "\n",
    "secretNumber()\n",
    "\n",
    "        "
   ]
  },
  {
   "cell_type": "markdown",
   "metadata": {},
   "source": [
    "## goldo witchcraft"
   ]
  },
  {
   "cell_type": "code",
   "execution_count": 14,
   "metadata": {},
   "outputs": [
    {
     "name": "stdout",
     "output_type": "stream",
     "text": [
      "Number s,10\n"
     ]
    }
   ],
   "source": [
    "print(\"Number %s,%d\" %('s',10))"
   ]
  },
  {
   "cell_type": "markdown",
   "metadata": {},
   "source": [
    "## for and while and string upper function"
   ]
  },
  {
   "cell_type": "code",
   "execution_count": 4,
   "metadata": {},
   "outputs": [
    {
     "name": "stdout",
     "output_type": "stream",
     "text": [
      "good argument: hello\n",
      "good argument: goodbye\n",
      "good argument: first\n",
      "good argument: last\n"
     ]
    }
   ],
   "source": [
    "def displayMulti(*varArgs):\n",
    "    for Arg in varArgs:\n",
    "        if Arg.upper()=='CONT': # upper function converts to uppercase\n",
    "            continue\n",
    "            print('continue argument: ' +Arg)\n",
    "                   \n",
    "        elif Arg.upper()=='BREAK':\n",
    "            break\n",
    "            print('break argument: ' + Arg)\n",
    "        print('good argument: '+Arg)\n",
    "displayMulti('hello','goodbye','first','last')\n"
   ]
  },
  {
   "cell_type": "code",
   "execution_count": 5,
   "metadata": {},
   "outputs": [
    {
     "name": "stdout",
     "output_type": "stream",
     "text": [
      "good argument: hello\n"
     ]
    }
   ],
   "source": [
    "displayMulti('hello','break','first','last')"
   ]
  },
  {
   "cell_type": "code",
   "execution_count": 3,
   "metadata": {},
   "outputs": [
    {
     "name": "stdout",
     "output_type": "stream",
     "text": [
      "good argument: hello\n",
      "continue argument: cont\n",
      "good argument: first\n",
      "good argument: last\n"
     ]
    }
   ],
   "source": [
    "displayMulti('hello','cont','first','last')"
   ]
  },
  {
   "cell_type": "code",
   "execution_count": null,
   "metadata": {},
   "outputs": [
    {
     "name": "stdout",
     "output_type": "stream",
     "text": [
      "type a number between 1 and 10: -1\n",
      "type a number between 1 and 10: 0\n",
      "incorrect first value!\n",
      "try again\n"
     ]
    }
   ],
   "source": [
    "def secretNumber():\n",
    "    gotIt = False\n",
    "    while gotIt ==False:\n",
    "        one=int(input(\"type a number between 1 and 10: \"))\n",
    "        two=int(input(\"type a number between 1 and 10: \"))\n",
    "        if (one>= 1) and (one <= 10):\n",
    "            if (two >=1) and (two<=10):\n",
    "                print('secret number is: '+str(one*two))\n",
    "                gotIt=True\n",
    "                continue\n",
    "            else:\n",
    "                print('incorrect second value!')\n",
    "        else:\n",
    "            print('incorrect first value!')\n",
    "        print('try again')\n",
    "\n",
    "secretNumber()\n",
    "\n",
    "        \n",
    "            "
   ]
  },
  {
   "cell_type": "markdown",
   "metadata": {},
   "source": [
    "## python SETS and placeholders"
   ]
  },
  {
   "cell_type": "code",
   "execution_count": 2,
   "metadata": {},
   "outputs": [
    {
     "ename": "ModuleNotFoundError",
     "evalue": "No module named 'sets'",
     "output_type": "error",
     "traceback": [
      "\u001b[0;31m---------------------------------------------------------------------------\u001b[0m",
      "\u001b[0;31mModuleNotFoundError\u001b[0m                       Traceback (most recent call last)",
      "\u001b[0;32m<ipython-input-2-9db47293197d>\u001b[0m in \u001b[0;36m<module>\u001b[0;34m()\u001b[0m\n\u001b[1;32m      1\u001b[0m \u001b[0;31m#the code below (from the book) is wrong. corrected code is in next cell\u001b[0m\u001b[0;34m\u001b[0m\u001b[0;34m\u001b[0m\u001b[0m\n\u001b[0;32m----> 2\u001b[0;31m \u001b[0;32mfrom\u001b[0m \u001b[0msets\u001b[0m \u001b[0;32mimport\u001b[0m \u001b[0mSet\u001b[0m\u001b[0;34m\u001b[0m\u001b[0m\n\u001b[0m\u001b[1;32m      3\u001b[0m \u001b[0msetA\u001b[0m \u001b[0;34m=\u001b[0m \u001b[0mSet\u001b[0m\u001b[0;34m(\u001b[0m\u001b[0;34m[\u001b[0m\u001b[0;34m'red'\u001b[0m\u001b[0;34m,\u001b[0m\u001b[0;34m'blue'\u001b[0m\u001b[0;34m,\u001b[0m\u001b[0;34m'green'\u001b[0m\u001b[0;34m,\u001b[0m\u001b[0;34m'black'\u001b[0m\u001b[0;34m]\u001b[0m\u001b[0;34m)\u001b[0m\u001b[0;34m\u001b[0m\u001b[0m\n\u001b[1;32m      4\u001b[0m \u001b[0msetB\u001b[0m \u001b[0;34m=\u001b[0m \u001b[0mSet\u001b[0m\u001b[0;34m(\u001b[0m\u001b[0;34m[\u001b[0m\u001b[0;34m'black'\u001b[0m\u001b[0;34m,\u001b[0m\u001b[0;34m'green'\u001b[0m\u001b[0;34m,\u001b[0m\u001b[0;34m'yellow'\u001b[0m\u001b[0;34m,\u001b[0m\u001b[0;34m'orange'\u001b[0m\u001b[0;34m]\u001b[0m\u001b[0;34m)\u001b[0m\u001b[0;34m\u001b[0m\u001b[0m\n\u001b[1;32m      5\u001b[0m \u001b[0msetX\u001b[0m\u001b[0;34m=\u001b[0m\u001b[0msetA\u001b[0m\u001b[0;34m.\u001b[0m\u001b[0munion\u001b[0m\u001b[0;34m(\u001b[0m\u001b[0msetB\u001b[0m\u001b[0;34m)\u001b[0m\u001b[0;34m\u001b[0m\u001b[0m\n",
      "\u001b[0;31mModuleNotFoundError\u001b[0m: No module named 'sets'"
     ]
    }
   ],
   "source": [
    "#the code below (from the book) is wrong. corrected code is in next cell\n",
    "from sets import Set\n",
    "setA = Set(['red','blue','green','black'])\n",
    "setB = Set(['black','green','yellow','orange'])\n",
    "setX=setA.union(setB)\n",
    "setY=setA.intersection(setB)\n",
    "setZ=setA.difference(setB)\n",
    "print('{0}\\n{1}\\n{2}'.format(setX,setY,setZ))\n"
   ]
  },
  {
   "cell_type": "code",
   "execution_count": 1,
   "metadata": {},
   "outputs": [
    {
     "name": "stdout",
     "output_type": "stream",
     "text": [
      "{'orange', 'blue', 'green', 'black', 'yellow', 'red'}\n",
      "{'black', 'green'}\n",
      "{'blue', 'red'}\n"
     ]
    }
   ],
   "source": [
    "#corrected code, didn't need to import anything\n",
    "setA = set(['red','blue','green','black'])\n",
    "setB = set(['black','green','yellow','orange'])\n",
    "setX=setA.union(setB)\n",
    "setY=setA.intersection(setB)\n",
    "setZ=setA.difference(setB)\n",
    "print('{0}\\n{1}\\n{2}'.format(setX,setY,setZ))\n",
    "#placeholder is the set of curly brackets with an optional number in it"
   ]
  },
  {
   "cell_type": "code",
   "execution_count": 6,
   "metadata": {},
   "outputs": [
    {
     "name": "stdout",
     "output_type": "stream",
     "text": [
      "{'purple', 'blue', 'green', 'black', 'red'}\n"
     ]
    },
    {
     "data": {
      "text/plain": [
       "{'black', 'blue', 'green', 'purple', 'red'}"
      ]
     },
     "execution_count": 6,
     "metadata": {},
     "output_type": "execute_result"
    }
   ],
   "source": [
    "setA.add('purple')\n",
    "print('{}'.format(setA))\n",
    "setA"
   ]
  },
  {
   "cell_type": "markdown",
   "metadata": {},
   "source": [
    "## Lists and other python structures (tuples, dictionaries, stacks, queues, deques)"
   ]
  },
  {
   "cell_type": "code",
   "execution_count": 4,
   "metadata": {},
   "outputs": [
    {
     "data": {
      "text/plain": [
       "[0, 1, 2, 3, 4, 5, 6, 7]"
      ]
     },
     "execution_count": 4,
     "metadata": {},
     "output_type": "execute_result"
    }
   ],
   "source": [
    "listA=[0,1,2,3]\n",
    "listB=[4,5,6,7]\n",
    "listA.extend(listB)\n",
    "listA"
   ]
  },
  {
   "cell_type": "code",
   "execution_count": 7,
   "metadata": {},
   "outputs": [
    {
     "data": {
      "text/plain": [
       "[0, 1, 2, 3, 4, 5, 6, 7, -5]"
      ]
     },
     "execution_count": 7,
     "metadata": {},
     "output_type": "execute_result"
    }
   ],
   "source": [
    "listA.append(-5)\n",
    "listA\n"
   ]
  },
  {
   "cell_type": "code",
   "execution_count": 8,
   "metadata": {},
   "outputs": [
    {
     "data": {
      "text/plain": [
       "[0, 1, 2, 3, 4, 5, 6, 7]"
      ]
     },
     "execution_count": 8,
     "metadata": {},
     "output_type": "execute_result"
    }
   ],
   "source": [
    "listA.remove(-5)\n",
    "listA"
   ]
  },
  {
   "cell_type": "code",
   "execution_count": 9,
   "metadata": {},
   "outputs": [
    {
     "data": {
      "text/plain": [
       "[0, 1, 2, 3, 4, 5, 6, 7, 4, 5, 6, 7]"
      ]
     },
     "execution_count": 9,
     "metadata": {},
     "output_type": "execute_result"
    }
   ],
   "source": [
    "#concatenation\n",
    "listX=listA+listB\n",
    "listX"
   ]
  },
  {
   "cell_type": "markdown",
   "metadata": {},
   "source": [
    "## Tuples"
   ]
  },
  {
   "cell_type": "code",
   "execution_count": 13,
   "metadata": {},
   "outputs": [
    {
     "name": "stdout",
     "output_type": "stream",
     "text": [
      "1\n",
      "2\n",
      "3\n",
      "\t 4\n",
      "\t 5\n",
      "\t 6\n",
      "\t\t7\n",
      "\t\t8\n",
      "\t\t9\n"
     ]
    }
   ],
   "source": [
    "#tuples are immutable and weird\n",
    "tup=(1,2,3,(4,5,6,(7,8,9)))\n",
    "def caca(tup):\n",
    "    for value1 in tup:\n",
    "        if type(value1)==int:\n",
    "            print(value1)\n",
    "        else:\n",
    "            for value2 in value1:\n",
    "                if type(value2)==int:\n",
    "                    print('\\t',value2)\n",
    "                else:\n",
    "                    for value3 in value2:\n",
    "                        print('\\t\\t'+str(value3))\n",
    "caca(tup)"
   ]
  },
  {
   "cell_type": "code",
   "execution_count": 14,
   "metadata": {},
   "outputs": [
    {
     "name": "stdout",
     "output_type": "stream",
     "text": [
      "1\n",
      "2\n",
      "3\n",
      "\t 4\n",
      "\t 5\n",
      "\t 6\n",
      "\t\t7\n",
      "\t\t8\n",
      "\t\t9\n",
      "10\n",
      "11\n",
      "12\n",
      "\t 13\n",
      "\t 14\n",
      "\t 15\n"
     ]
    }
   ],
   "source": [
    "new=tup.__add__((10,11,12,(13,14,15)))\n",
    "caca(new)"
   ]
  },
  {
   "cell_type": "markdown",
   "metadata": {},
   "source": [
    "# iterators"
   ]
  },
  {
   "cell_type": "code",
   "execution_count": 15,
   "metadata": {},
   "outputs": [
    {
     "data": {
      "text/plain": [
       "'yellow'"
      ]
     },
     "execution_count": 15,
     "metadata": {},
     "output_type": "execute_result"
    }
   ],
   "source": [
    "listA=['orange','yellow','green','brown']\n",
    "listB=[1,2,3,4]\n",
    "listA[1]"
   ]
  },
  {
   "cell_type": "code",
   "execution_count": 18,
   "metadata": {},
   "outputs": [
    {
     "data": {
      "text/plain": [
       "[2, 3]"
      ]
     },
     "execution_count": 18,
     "metadata": {},
     "output_type": "execute_result"
    }
   ],
   "source": [
    "listB[1:3]"
   ]
  },
  {
   "cell_type": "code",
   "execution_count": 19,
   "metadata": {},
   "outputs": [
    {
     "data": {
      "text/plain": [
       "[3, 4]"
      ]
     },
     "execution_count": 19,
     "metadata": {},
     "output_type": "execute_result"
    }
   ],
   "source": [
    "listB[2:]"
   ]
  },
  {
   "cell_type": "code",
   "execution_count": 25,
   "metadata": {},
   "outputs": [
    {
     "name": "stdout",
     "output_type": "stream",
     "text": [
      "yellow\n",
      "green\n",
      "brown\n"
     ]
    }
   ],
   "source": [
    "for value in listA[1:4]:\n",
    "    print(value)"
   ]
  },
  {
   "cell_type": "markdown",
   "metadata": {},
   "source": [
    "# processing two lists in parallel, zip function"
   ]
  },
  {
   "cell_type": "code",
   "execution_count": 26,
   "metadata": {},
   "outputs": [
    {
     "name": "stdout",
     "output_type": "stream",
     "text": [
      "orange \t 1\n",
      "yellow \t 2\n",
      "green \t 3\n",
      "brown \t 4\n"
     ]
    }
   ],
   "source": [
    "for value1,value2 in zip(listA,listB):\n",
    "    print(value1,'\\t',value2)\n"
   ]
  },
  {
   "cell_type": "markdown",
   "metadata": {},
   "source": [
    "# Dictionaries"
   ]
  },
  {
   "cell_type": "code",
   "execution_count": 27,
   "metadata": {},
   "outputs": [
    {
     "data": {
      "text/plain": [
       "5"
      ]
     },
     "execution_count": 27,
     "metadata": {},
     "output_type": "execute_result"
    }
   ],
   "source": [
    "dictio={'orange':1,'blue':2,'pink':5}\n",
    "dictio['pink']"
   ]
  },
  {
   "cell_type": "code",
   "execution_count": 28,
   "metadata": {},
   "outputs": [
    {
     "data": {
      "text/plain": [
       "dict_keys(['orange', 'blue', 'pink'])"
      ]
     },
     "execution_count": 28,
     "metadata": {},
     "output_type": "execute_result"
    }
   ],
   "source": [
    "dictio.keys()"
   ]
  },
  {
   "cell_type": "markdown",
   "metadata": {},
   "source": [
    "# modules\n",
    "$import caca\n",
    "\n",
    "puts all the contents of caca in memory\n",
    "\n",
    "$from ... import ...\n",
    "\n",
    "selects particular contents of the module "
   ]
  },
  {
   "cell_type": "code",
   "execution_count": 1,
   "metadata": {},
   "outputs": [
    {
     "ename": "KeyError",
     "evalue": "'PYTHONPATH'",
     "output_type": "error",
     "traceback": [
      "\u001b[0;31m---------------------------------------------------------------------------\u001b[0m",
      "\u001b[0;31mKeyError\u001b[0m                                  Traceback (most recent call last)",
      "\u001b[0;32m<ipython-input-1-339757ead44f>\u001b[0m in \u001b[0;36m<module>\u001b[0;34m()\u001b[0m\n\u001b[1;32m      1\u001b[0m \u001b[0;32mimport\u001b[0m \u001b[0mos\u001b[0m\u001b[0;34m\u001b[0m\u001b[0m\n\u001b[0;32m----> 2\u001b[0;31m \u001b[0mos\u001b[0m\u001b[0;34m.\u001b[0m\u001b[0menviron\u001b[0m\u001b[0;34m[\u001b[0m\u001b[0;34m'PYTHONPATH'\u001b[0m\u001b[0;34m]\u001b[0m\u001b[0;34m\u001b[0m\u001b[0m\n\u001b[0m",
      "\u001b[0;32m/media/leo/Windows/Users/anaconda3/lib/python3.6/os.py\u001b[0m in \u001b[0;36m__getitem__\u001b[0;34m(self, key)\u001b[0m\n\u001b[1;32m    667\u001b[0m         \u001b[0;32mexcept\u001b[0m \u001b[0mKeyError\u001b[0m\u001b[0;34m:\u001b[0m\u001b[0;34m\u001b[0m\u001b[0m\n\u001b[1;32m    668\u001b[0m             \u001b[0;31m# raise KeyError with the original key value\u001b[0m\u001b[0;34m\u001b[0m\u001b[0;34m\u001b[0m\u001b[0m\n\u001b[0;32m--> 669\u001b[0;31m             \u001b[0;32mraise\u001b[0m \u001b[0mKeyError\u001b[0m\u001b[0;34m(\u001b[0m\u001b[0mkey\u001b[0m\u001b[0;34m)\u001b[0m \u001b[0;32mfrom\u001b[0m \u001b[0;32mNone\u001b[0m\u001b[0;34m\u001b[0m\u001b[0m\n\u001b[0m\u001b[1;32m    670\u001b[0m         \u001b[0;32mreturn\u001b[0m \u001b[0mself\u001b[0m\u001b[0;34m.\u001b[0m\u001b[0mdecodevalue\u001b[0m\u001b[0;34m(\u001b[0m\u001b[0mvalue\u001b[0m\u001b[0;34m)\u001b[0m\u001b[0;34m\u001b[0m\u001b[0m\n\u001b[1;32m    671\u001b[0m \u001b[0;34m\u001b[0m\u001b[0m\n",
      "\u001b[0;31mKeyError\u001b[0m: 'PYTHONPATH'"
     ]
    }
   ],
   "source": [
    "import os\n",
    "os.environ['PYTHONPATH']"
   ]
  },
  {
   "cell_type": "code",
   "execution_count": null,
   "metadata": {},
   "outputs": [],
   "source": []
  }
 ],
 "metadata": {
  "kernelspec": {
   "display_name": "Python 3",
   "language": "python",
   "name": "python3"
  },
  "language_info": {
   "codemirror_mode": {
    "name": "ipython",
    "version": 3
   },
   "file_extension": ".py",
   "mimetype": "text/x-python",
   "name": "python",
   "nbconvert_exporter": "python",
   "pygments_lexer": "ipython3",
   "version": "3.6.4"
  }
 },
 "nbformat": 4,
 "nbformat_minor": 2
}
