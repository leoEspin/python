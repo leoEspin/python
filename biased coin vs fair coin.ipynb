{
 "cells": [
  {
   "cell_type": "markdown",
   "id": "83050d69-cdd7-4ecc-9259-106c2406e6e1",
   "metadata": {},
   "source": [
    "# Biased coin vs. fair coin\n",
    "\n",
    "Leonardo Espin, 11/22/2023\n",
    "\n",
    "I came across the following *conditional probability* problem:\n",
    "\n",
    "\"There are two coins, one is fair and one is biased. The biased coin has a probability of landing on heads equal to 4/5. One of the coins is chosen at random (50-50), and is flipped repeatedly until it lands on tail. If it landed on heads 4 times before landing on tails, what is the posterior probability that coin chosen was biased?\"\n",
    "\n",
    "so, calling the event **HHHHT** alpha, I want to calculate `P(C=B | alpha)` which is  `P(C=B & alpha)/P(alpha)`. now \n",
    "\n",
    "`P(alpha) = P(alpha | c=B)*P(c=B) + P(alpha | c=F)*P(c=F)` since \n",
    "\n",
    "```\n",
    "P(alpha) = P(alpha ∩ (c=B ∪ ¬c=B))\n",
    "         = P((alpha ∩ c=B) ∪ (alpha ∩ ¬c=B))\n",
    "         = P(alpha ∩ c=B) + P(alpha ∩ ¬c=B)\n",
    "```\n",
    "\n",
    "\n",
    "Then, if we replace the values given, we get: "
   ]
  },
  {
   "cell_type": "code",
   "execution_count": 1,
   "id": "f8ad79f3-5abf-4cf2-afb1-afddfc368a03",
   "metadata": {},
   "outputs": [
    {
     "data": {
      "text/plain": [
       "0.11317000000000002"
      ]
     },
     "execution_count": 1,
     "metadata": {},
     "output_type": "execute_result"
    }
   ],
   "source": [
    "alpha = 0.5*(((4/5)**4)/5)/(0.5)  +0.5*((1/2)**5)/0.5\n",
    "alpha"
   ]
  },
  {
   "cell_type": "markdown",
   "id": "4d9fab99-5002-40dd-9809-9e6d0ce40455",
   "metadata": {},
   "source": [
    "so then  `P(C=B | alpha) =`"
   ]
  },
  {
   "cell_type": "code",
   "execution_count": 2,
   "id": "029d3639-b198-4a5e-9685-1ee47bdba4f7",
   "metadata": {},
   "outputs": [
    {
     "data": {
      "text/plain": [
       "0.7238667491384643"
      ]
     },
     "execution_count": 2,
     "metadata": {},
     "output_type": "execute_result"
    }
   ],
   "source": [
    "(((4/5)**4)/5)/alpha"
   ]
  },
  {
   "cell_type": "markdown",
   "id": "cfa73c7a-654d-4466-abf0-3079378099d4",
   "metadata": {},
   "source": [
    "which seems reasonable, it should be greater than 0.5. but is it correct?\n",
    "\n",
    "I checked for answers online, and I found diverging answers. For example there is [this one](https://brainly.com/question/13658612), with an explanation that doesn't make sense (130=100!) but is the accepted one.\n",
    "\n",
    "So, I decided to use a numerical simulation to check my answer:"
   ]
  },
  {
   "cell_type": "code",
   "execution_count": 3,
   "id": "8e58b1a5-0fc0-4760-9a92-537a5512e256",
   "metadata": {},
   "outputs": [],
   "source": [
    "import random\n",
    "\n",
    "class Coin():\n",
    "    '''choose a coin randomly and toss it five times'''\n",
    "    def __init__(self, ntoss=5):\n",
    "        self.ntoss = ntoss\n",
    "        self.coin_choice = ('F', 'B')\n",
    "        self.fair_toss_dist = ('H', 'T')\n",
    "        self.fair_len = 2\n",
    "        self.biased_toss_dist = ('H', 'H', 'H', 'H', 'T')\n",
    "        self.biased_len = 5\n",
    "        self.distributions = {'F': self.fair_toss_dist, 'B': self.biased_toss_dist}\n",
    "        self.lens = {'F': self.fair_len, 'B': self.biased_len}\n",
    "\n",
    "    \n",
    "    def choose_coin(self):\n",
    "        # equal prob. of coin selection\n",
    "        return self.coin_choice[random.randrange(2)]\n",
    "    \n",
    "    def toss_coin(self):\n",
    "        coin = self.choose_coin()\n",
    "        out = coin\n",
    "        for i in range(self.ntoss):\n",
    "            out += self.distributions[coin][random.randrange(self.lens[coin])]\n",
    "        return out\n",
    "    \n",
    "class GetDist():\n",
    "    '''run the given number of events and collect statistics'''\n",
    "    def __init__(self, nevents = 10000):\n",
    "        self.nevents = nevents\n",
    "        self.events = []\n",
    "        self.coin = Coin()\n",
    "        self.dist = {}\n",
    "    \n",
    "    def calculate_dist(self):\n",
    "        for i in range(self.nevents):\n",
    "            self.events.append(self.coin.toss_coin())\n",
    "        \n",
    "        for x in self.events:\n",
    "            if x in self.dist:\n",
    "                self.dist[x] +=1\n",
    "            else:\n",
    "                self.dist[x] =1"
   ]
  },
  {
   "cell_type": "code",
   "execution_count": 4,
   "id": "49b2c89d-32bd-457f-a830-6b01925914f8",
   "metadata": {},
   "outputs": [
    {
     "data": {
      "text/plain": [
       "{'FTHHHT': 152,\n",
       " 'FHHTHH': 154,\n",
       " 'BHHHTT': 98,\n",
       " 'BTTHHH': 89,\n",
       " 'FHTHHT': 156,\n",
       " 'BHHHHH': 1595,\n",
       " 'FTHTHT': 139,\n",
       " 'FTHHTT': 185,\n",
       " 'BTHHHH': 409,\n",
       " 'BTTHTH': 26,\n",
       " 'BHHHHT': 409,\n",
       " 'BHHHTH': 414,\n",
       " 'FHTTTH': 160,\n",
       " 'BTHTHT': 40,\n",
       " 'BHTHHH': 409,\n",
       " 'FTTTHT': 154,\n",
       " 'FTTTTT': 151,\n",
       " 'FHHTTT': 157,\n",
       " 'FHHTTH': 141,\n",
       " 'BHHTHH': 427,\n",
       " 'FTHTTT': 156,\n",
       " 'FTHHHH': 177,\n",
       " 'FHTHTH': 152,\n",
       " 'BTHHHT': 80,\n",
       " 'FHTHHH': 188,\n",
       " 'FTTTHH': 144,\n",
       " 'FTHTHH': 154,\n",
       " 'FHTTTT': 165,\n",
       " 'BTHTHH': 84,\n",
       " 'FHTTHH': 195,\n",
       " 'FHHHTT': 164,\n",
       " 'FTHHTH': 157,\n",
       " 'BTTHHT': 27,\n",
       " 'FTTHTH': 178,\n",
       " 'FTHTTH': 143,\n",
       " 'BHHTTH': 97,\n",
       " 'BTHHTH': 94,\n",
       " 'BTHTTH': 25,\n",
       " 'FHHTHT': 154,\n",
       " 'FTTTTH': 161,\n",
       " 'FHTTHT': 138,\n",
       " 'FHHHHT': 174,\n",
       " 'BHTTHH': 110,\n",
       " 'FTTHTT': 168,\n",
       " 'BTTTHH': 30,\n",
       " 'FTTHHT': 143,\n",
       " 'FHHHHH': 157,\n",
       " 'BHTTTH': 33,\n",
       " 'FHHHTH': 168,\n",
       " 'BHTHTH': 98,\n",
       " 'BTTTHT': 5,\n",
       " 'FHTHTT': 145,\n",
       " 'BHHTTT': 26,\n",
       " 'FTTHHH': 164,\n",
       " 'BHTHHT': 91,\n",
       " 'BTHHTT': 20,\n",
       " 'BHHTHT': 100,\n",
       " 'BHTTHT': 25,\n",
       " 'BHTHTT': 19,\n",
       " 'BTHTTT': 3,\n",
       " 'BTTTTH': 8,\n",
       " 'BTTHTT': 7,\n",
       " 'BHTTTT': 7,\n",
       " 'BTTTTT': 1}"
      ]
     },
     "execution_count": 4,
     "metadata": {},
     "output_type": "execute_result"
    }
   ],
   "source": [
    "tosses = GetDist()\n",
    "tosses.calculate_dist()\n",
    "tosses.dist"
   ]
  },
  {
   "cell_type": "markdown",
   "id": "d05c1641-072d-4d62-b395-ff035b040fef",
   "metadata": {},
   "source": [
    "so, we can calculate `P(C=B | alpha)` directly:"
   ]
  },
  {
   "cell_type": "code",
   "execution_count": 5,
   "id": "16931af4-4a6a-40ff-97c5-a7254631fde4",
   "metadata": {},
   "outputs": [
    {
     "data": {
      "text/plain": [
       "0.0409"
      ]
     },
     "execution_count": 5,
     "metadata": {},
     "output_type": "execute_result"
    }
   ],
   "source": [
    "# p(c=b & alpha)\n",
    "tosses.dist['BHHHHT']/tosses.nevents"
   ]
  },
  {
   "cell_type": "code",
   "execution_count": 6,
   "id": "0d2974a0-a705-4422-9402-d849848a4684",
   "metadata": {},
   "outputs": [
    {
     "data": {
      "text/plain": [
       "0.7015437392795884"
      ]
     },
     "execution_count": 6,
     "metadata": {},
     "output_type": "execute_result"
    }
   ],
   "source": [
    "# p(c=b | alpha) \n",
    "(tosses.dist['BHHHHT']/tosses.nevents)/(tosses.dist['BHHHHT']/tosses.nevents +tosses.dist['FHHHHT']/tosses.nevents)"
   ]
  },
  {
   "cell_type": "markdown",
   "id": "3be225b7-341e-4649-b2d9-c0bc05d6b8e4",
   "metadata": {},
   "source": [
    "which is pretty close to the value `0.724` I got above. If I run it again using a larger sample space:"
   ]
  },
  {
   "cell_type": "code",
   "execution_count": 7,
   "id": "5437cc43-07e5-4006-a3aa-b593a5fd19fc",
   "metadata": {},
   "outputs": [
    {
     "data": {
      "text/plain": [
       "0.7293865140404221"
      ]
     },
     "execution_count": 7,
     "metadata": {},
     "output_type": "execute_result"
    }
   ],
   "source": [
    "tosses = GetDist(nevents=100000)\n",
    "tosses.calculate_dist()\n",
    "# p(c=b | alpha) \n",
    "(tosses.dist['BHHHHT']/tosses.nevents)/(tosses.dist['BHHHHT']/tosses.nevents +tosses.dist['FHHHHT']/tosses.nevents)"
   ]
  },
  {
   "cell_type": "markdown",
   "id": "54f6568d-ed4c-4a6b-8ba0-06f7e9937fee",
   "metadata": {},
   "source": [
    "that's closer!. So I'm pretty confident the answer I calculated above is correct."
   ]
  },
  {
   "cell_type": "code",
   "execution_count": null,
   "id": "ebd9d8fe-88fa-4f57-9c06-8bbd66325b76",
   "metadata": {},
   "outputs": [],
   "source": []
  }
 ],
 "metadata": {
  "kernelspec": {
   "display_name": "Python 3 (ipykernel)",
   "language": "python",
   "name": "python3"
  },
  "language_info": {
   "codemirror_mode": {
    "name": "ipython",
    "version": 3
   },
   "file_extension": ".py",
   "mimetype": "text/x-python",
   "name": "python",
   "nbconvert_exporter": "python",
   "pygments_lexer": "ipython3",
   "version": "3.7.10"
  }
 },
 "nbformat": 4,
 "nbformat_minor": 5
}
