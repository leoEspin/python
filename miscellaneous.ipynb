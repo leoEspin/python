{
 "cells": [
  {
   "cell_type": "markdown",
   "metadata": {},
   "source": [
    "### strings\n",
    "* the <code>%</code> operator takes a printf-type format string on the left (%d int, %s string, %f/%g floating point), and the matching values in a tuple on the right (a tuple is made of values separated by commas, typically grouped inside parentheses):"
   ]
  },
  {
   "cell_type": "code",
   "execution_count": 3,
   "metadata": {},
   "outputs": [
    {
     "name": "stdout",
     "output_type": "stream",
     "text": [
      "3 little pigs come out or I'll huff and puff and blow down\n"
     ]
    }
   ],
   "source": [
    "# % operator\n",
    "text = \"%d little pigs come out or I'll %s and %s and %s\" % (3, 'huff', 'puff', 'blow down')\n",
    "print(text)"
   ]
  },
  {
   "cell_type": "code",
   "execution_count": 4,
   "metadata": {},
   "outputs": [
    {
     "name": "stdout",
     "output_type": "stream",
     "text": [
      "3 little pigs come out or I'll huff and puff and blow down\n"
     ]
    }
   ],
   "source": [
    "#this operator might be equivalent to format\n",
    "text2='{} little pigs come out or I\\'ll {} and {} and {}'.format(3, 'huff', 'puff', 'blow down')\n",
    "print(text2)"
   ]
  },
  {
   "cell_type": "markdown",
   "metadata": {},
   "source": [
    "### Tuples and Dictionaries as function parameters\n",
    "There is a special way of receiving parameters to a function as a tuple or a dictionary using the <code>\\*</code> or <code>\\**</code> prefix respectively. This is useful when taking variable number of arguments in a function:"
   ]
  },
  {
   "cell_type": "code",
   "execution_count": 1,
   "metadata": {},
   "outputs": [
    {
     "name": "stdout",
     "output_type": "stream",
     "text": [
      "25\n",
      "100\n"
     ]
    }
   ],
   "source": [
    "def powersum(power, *args):\n",
    "    '''Return the sum of each argument raised to the specified power.'''\n",
    "    total = 0\n",
    "    for i in args:\n",
    "        total += pow(i, power)\n",
    "    return total\n",
    "\n",
    "print(powersum(2, 3, 4)) #so, here 3,4 is a tuple\n",
    "print(powersum(2, 10))\n",
    "#Because we have a * prefix on the args variable, all extra arguments passed to\n",
    "#the function are stored in args as a tuple. If a ** prefix had been used instead,\n",
    "#the extra parameters would be considered to be key/value pairs of a dictionary."
   ]
  },
  {
   "cell_type": "markdown",
   "metadata": {},
   "source": []
  }
 ],
 "metadata": {
  "kernelspec": {
   "display_name": "Python 3",
   "language": "python",
   "name": "python3"
  },
  "language_info": {
   "codemirror_mode": {
    "name": "ipython",
    "version": 3
   },
   "file_extension": ".py",
   "mimetype": "text/x-python",
   "name": "python",
   "nbconvert_exporter": "python",
   "pygments_lexer": "ipython3",
   "version": "3.6.4"
  }
 },
 "nbformat": 4,
 "nbformat_minor": 2
}
