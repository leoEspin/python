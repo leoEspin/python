{
 "cells": [
  {
   "cell_type": "markdown",
   "metadata": {},
   "source": [
    "### Simple XGBoost example\n",
    "(credit to Jason Brownlee's [blogpost](https://machinelearningmastery.com/develop-first-xgboost-model-python-scikit-learn/))"
   ]
  },
  {
   "cell_type": "code",
   "execution_count": 2,
   "metadata": {},
   "outputs": [
    {
     "name": "stdout",
     "output_type": "stream",
     "text": [
      "(768, 9)\n"
     ]
    },
    {
     "data": {
      "text/plain": [
       "XGBClassifier(base_score=0.5, booster='gbtree', colsample_bylevel=1,\n",
       "       colsample_bytree=1, gamma=0, learning_rate=0.1, max_delta_step=0,\n",
       "       max_depth=3, min_child_weight=1, missing=None, n_estimators=100,\n",
       "       n_jobs=1, nthread=None, objective='binary:logistic', random_state=0,\n",
       "       reg_alpha=0, reg_lambda=1, scale_pos_weight=1, seed=None,\n",
       "       silent=True, subsample=1)"
      ]
     },
     "execution_count": 2,
     "metadata": {},
     "output_type": "execute_result"
    }
   ],
   "source": [
    "import pandas as pd\n",
    "from xgboost import XGBClassifier\n",
    "from sklearn.model_selection import train_test_split\n",
    "from sklearn.metrics import accuracy_score\n",
    "\n",
    "url =\"https://raw.githubusercontent.com/jbrownlee/Datasets/master/pima-indians-diabetes.data.csv\"\n",
    "#the raw data only has values, because of that the variable names have to\n",
    "#be provided separately \n",
    "names = ['preg', 'plas', 'pres', 'skin', 'test', 'mass', 'pedi',\n",
    "'age', 'class'] \n",
    "diabetes = pd.read_csv(url, names=names)\n",
    "print(diabetes.shape)\n",
    "array = diabetes.values\n",
    "X = array[:,0:8]\n",
    "Y = array[:,8]\n",
    "seed = 7\n",
    "test_size = 0.33\n",
    "X_train, X_test, Y_train, Y_test = train_test_split(X,Y, test_size=test_size,\n",
    "                                                    random_state=seed)\n",
    "                                        \n",
    "# fit model on training data\n",
    "model = XGBClassifier()\n",
    "model.fit(X_train, Y_train)\n"
   ]
  },
  {
   "cell_type": "code",
   "execution_count": 15,
   "metadata": {},
   "outputs": [
    {
     "name": "stdout",
     "output_type": "stream",
     "text": [
      "Accuracy: 77.953\n"
     ]
    },
    {
     "name": "stderr",
     "output_type": "stream",
     "text": [
      "/home/perro/anaconda3/lib/python3.6/site-packages/sklearn/preprocessing/label.py:151: DeprecationWarning: The truth value of an empty array is ambiguous. Returning False, but in future this will result in an error. Use `array.size > 0` to check that an array is not empty.\n",
      "  if diff:\n"
     ]
    }
   ],
   "source": [
    "# make predictions for test data\n",
    "y_pred = model.predict(X_test)\n",
    "predictions = [round(value) for value in y_pred]\n",
    "# evaluate predictions\n",
    "#accuracy = accuracy_score(Y_test, predictions)\n",
    "accuracy = accuracy_score(Y_test, y_pred)\n",
    "print(\"Accuracy: {:.3f}\".format(accuracy*100))"
   ]
  },
  {
   "cell_type": "markdown",
   "metadata": {},
   "source": [
    "Notice that the accuracy score is only slightly better than what we obtained with a logistic regression in the [metrics notebook](./Misc/metrics.ipynb)!!\n",
    "\n",
    "Better to calculate a cross-validation score:"
   ]
  },
  {
   "cell_type": "code",
   "execution_count": 19,
   "metadata": {},
   "outputs": [
    {
     "name": "stdout",
     "output_type": "stream",
     "text": [
      "Accuracy: 77.613 (3.075)\n"
     ]
    },
    {
     "name": "stderr",
     "output_type": "stream",
     "text": [
      "/home/perro/anaconda3/lib/python3.6/site-packages/sklearn/preprocessing/label.py:151: DeprecationWarning: The truth value of an empty array is ambiguous. Returning False, but in future this will result in an error. Use `array.size > 0` to check that an array is not empty.\n",
      "  if diff:\n",
      "/home/perro/anaconda3/lib/python3.6/site-packages/sklearn/preprocessing/label.py:151: DeprecationWarning: The truth value of an empty array is ambiguous. Returning False, but in future this will result in an error. Use `array.size > 0` to check that an array is not empty.\n",
      "  if diff:\n",
      "/home/perro/anaconda3/lib/python3.6/site-packages/sklearn/preprocessing/label.py:151: DeprecationWarning: The truth value of an empty array is ambiguous. Returning False, but in future this will result in an error. Use `array.size > 0` to check that an array is not empty.\n",
      "  if diff:\n"
     ]
    }
   ],
   "source": [
    "from sklearn.model_selection import cross_val_score\n",
    "\n",
    "results = cross_val_score(model, X, Y,scoring='accuracy')\n",
    "print(\"Accuracy: {:.3f} ({:.3f})\".format(results.mean()*100, results.std()*100))"
   ]
  },
  {
   "cell_type": "markdown",
   "metadata": {},
   "source": [
    "Using the XGBoost library cross-validation function (not sure if the 'error' metric from the XGB library is equivalent to the accuracy metric from Scikit-learn):"
   ]
  },
  {
   "cell_type": "code",
   "execution_count": 11,
   "metadata": {},
   "outputs": [
    {
     "name": "stdout",
     "output_type": "stream",
     "text": [
      "[0]\ttrain-error:0.226567+0.0114547\ttest-error:0.265687+0.05025\n",
      "[1]\ttrain-error:0.216726+0.0144738\ttest-error:0.250102+0.0475936\n",
      "[2]\ttrain-error:0.217305+0.0113642\ttest-error:0.243609+0.046351\n",
      "[3]\ttrain-error:0.213109+0.0120741\ttest-error:0.243592+0.0451752\n",
      "[4]\ttrain-error:0.211083+0.010177\ttest-error:0.243592+0.0501304\n",
      "[5]\ttrain-error:0.206742+0.0106843\ttest-error:0.237081+0.0493064\n",
      "[6]\ttrain-error:0.201534+0.0102724\ttest-error:0.239696+0.0534899\n",
      "[7]\ttrain-error:0.202256+0.0106656\ttest-error:0.242293+0.0488374\n",
      "[8]\ttrain-error:0.198929+0.00993185\ttest-error:0.242259+0.0446438\n",
      "[9]\ttrain-error:0.197049+0.00845536\ttest-error:0.239627+0.0433144\n",
      "[10]\ttrain-error:0.194735+0.00869992\ttest-error:0.233151+0.0459395\n",
      "[11]\ttrain-error:0.196471+0.0090049\ttest-error:0.230536+0.0422137\n",
      "[12]\ttrain-error:0.195169+0.00953189\ttest-error:0.227922+0.0453629\n",
      "[13]\ttrain-error:0.193722+0.00869972\ttest-error:0.229221+0.0434253\n",
      "[14]\ttrain-error:0.192564+0.00907848\ttest-error:0.227922+0.0453629\n",
      "[15]\ttrain-error:0.189672+0.00885028\ttest-error:0.233117+0.0446131\n",
      "[16]\ttrain-error:0.18895+0.0098877\ttest-error:0.227905+0.0429103\n",
      "[17]\ttrain-error:0.18591+0.0070788\ttest-error:0.22529+0.046238\n",
      "[18]\ttrain-error:0.18591+0.00687427\ttest-error:0.222693+0.0478495\n",
      "[19]\ttrain-error:0.182872+0.00857707\ttest-error:0.220095+0.0489282\n",
      "[20]\ttrain-error:0.18186+0.00820117\ttest-error:0.22271+0.0513924\n",
      "[21]\ttrain-error:0.181136+0.0089799\ttest-error:0.221411+0.0541409\n",
      "[22]\ttrain-error:0.179401+0.00880256\ttest-error:0.222693+0.0551662\n",
      "[23]\ttrain-error:0.177809+0.00890423\ttest-error:0.22529+0.0556245\n",
      "[24]\ttrain-error:0.176362+0.00851125\ttest-error:0.229203+0.0556488\n",
      "[25]\ttrain-error:0.17477+0.00716013\ttest-error:0.227905+0.0550695\n",
      "[26]\ttrain-error:0.175638+0.00733204\ttest-error:0.227888+0.0527487\n",
      "[27]\ttrain-error:0.174192+0.00674322\ttest-error:0.231801+0.0578781\n",
      "[28]\ttrain-error:0.171877+0.00615709\ttest-error:0.226589+0.0555511\n",
      "[29]\ttrain-error:0.171732+0.00608315\ttest-error:0.226589+0.0587961\n",
      "[30]\ttrain-error:0.170286+0.00677145\ttest-error:0.230485+0.0589988\n",
      "[31]\ttrain-error:0.169418+0.00757215\ttest-error:0.229186+0.0555223\n",
      "[32]\ttrain-error:0.167392+0.00660838\ttest-error:0.234381+0.0606364\n",
      "[33]\ttrain-error:0.165801+0.00551375\ttest-error:0.229186+0.057021\n",
      "[34]\ttrain-error:0.165222+0.0065688\ttest-error:0.234381+0.0540818\n",
      "[35]\ttrain-error:0.163631+0.00581845\ttest-error:0.23568+0.0587727\n",
      "[36]\ttrain-error:0.163196+0.00606233\ttest-error:0.236979+0.0577019\n",
      "[37]\ttrain-error:0.161893+0.0060343\ttest-error:0.234381+0.058657\n",
      "[38]\ttrain-error:0.160881+0.00655796\ttest-error:0.230485+0.0557656\n",
      "[39]\ttrain-error:0.161459+0.00626557\ttest-error:0.2331+0.0555839\n",
      "[40]\ttrain-error:0.160447+0.0063545\ttest-error:0.231801+0.0592268\n",
      "[41]\ttrain-error:0.160012+0.0061608\ttest-error:0.230485+0.0615179\n",
      "[42]\ttrain-error:0.160012+0.00527694\ttest-error:0.231801+0.0586544\n",
      "[43]\ttrain-error:0.159433+0.00626746\ttest-error:0.235697+0.0602163\n",
      "[44]\ttrain-error:0.157119+0.00523682\ttest-error:0.234398+0.0633818\n",
      "[45]\ttrain-error:0.15712+0.0055889\ttest-error:0.235697+0.0596535\n",
      "[46]\ttrain-error:0.155383+0.00578589\ttest-error:0.238312+0.0581121\n",
      "[47]\ttrain-error:0.154225+0.00487223\ttest-error:0.240909+0.0595739\n",
      "[48]\ttrain-error:0.154225+0.00385695\ttest-error:0.23961+0.0581411\n",
      "[49]\ttrain-error:0.153068+0.0043172\ttest-error:0.244805+0.0570873\n",
      "[50]\ttrain-error:0.152489+0.00437083\ttest-error:0.242208+0.0541339\n",
      "[51]\ttrain-error:0.151331+0.00539044\ttest-error:0.242225+0.0536257\n",
      "[52]\ttrain-error:0.150174+0.00501357\ttest-error:0.24354+0.0567435\n",
      "[53]\ttrain-error:0.150608+0.00529304\ttest-error:0.242225+0.0548694\n",
      "[54]\ttrain-error:0.150174+0.00561528\ttest-error:0.243523+0.0551144\n",
      "[55]\ttrain-error:0.149306+0.00624904\ttest-error:0.242225+0.0572757\n",
      "[56]\ttrain-error:0.147426+0.00585303\ttest-error:0.242225+0.0548694\n",
      "[57]\ttrain-error:0.147426+0.00620477\ttest-error:0.243523+0.0566238\n",
      "[58]\ttrain-error:0.147281+0.00617636\ttest-error:0.24354+0.0545495\n",
      "[59]\ttrain-error:0.145545+0.00525915\ttest-error:0.24354+0.0581416\n",
      "[60]\ttrain-error:0.144822+0.00607917\ttest-error:0.24354+0.0557726\n",
      "[61]\ttrain-error:0.142796+0.00645252\ttest-error:0.243558+0.0579679\n",
      "[62]\ttrain-error:0.141783+0.00673562\ttest-error:0.244856+0.0581701\n",
      "[63]\ttrain-error:0.14106+0.00683638\ttest-error:0.244856+0.0581701\n",
      "[64]\ttrain-error:0.140047+0.00545209\ttest-error:0.239661+0.0544611\n",
      "[65]\ttrain-error:0.139468+0.00518785\ttest-error:0.239661+0.0544611\n",
      "[66]\ttrain-error:0.1386+0.00610728\ttest-error:0.239661+0.0544611\n",
      "[67]\ttrain-error:0.138455+0.00607654\ttest-error:0.239644+0.0533958\n",
      "[68]\ttrain-error:0.137153+0.00567211\ttest-error:0.239644+0.0533958\n"
     ]
    }
   ],
   "source": [
    "import xgboost as xgb\n",
    "xgb_param = model.get_xgb_params()#dict with all parameters passed\n",
    "xgtrain = xgb.DMatrix(X, label=Y)#data structure used by XGBoost\n",
    "#command below performs cross validation\n",
    "cvresult = xgb.cv(xgb_param,xgtrain,\n",
    "                  num_boost_round=model.get_params()['n_estimators'],\n",
    "                  nfold=10,metrics='error',\n",
    "                  early_stopping_rounds=50,\n",
    "                  verbose_eval=True)"
   ]
  },
  {
   "cell_type": "code",
   "execution_count": 9,
   "metadata": {},
   "outputs": [
    {
     "name": "stdout",
     "output_type": "stream",
     "text": [
      "XGB-CV result: 76.036 (0.053)\n"
     ]
    }
   ],
   "source": [
    "print('XGB-CV result: {:.3f} ({:.3f})'.format(100*(1-0.239644),0.0533958))"
   ]
  },
  {
   "cell_type": "code",
   "execution_count": null,
   "metadata": {},
   "outputs": [],
   "source": []
  }
 ],
 "metadata": {
  "kernelspec": {
   "display_name": "Python 3",
   "language": "python",
   "name": "python3"
  },
  "language_info": {
   "codemirror_mode": {
    "name": "ipython",
    "version": 3
   },
   "file_extension": ".py",
   "mimetype": "text/x-python",
   "name": "python",
   "nbconvert_exporter": "python",
   "pygments_lexer": "ipython3",
   "version": "3.6.6"
  }
 },
 "nbformat": 4,
 "nbformat_minor": 2
}
