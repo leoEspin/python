{
 "cells": [
  {
   "cell_type": "code",
   "execution_count": 3,
   "metadata": {},
   "outputs": [
    {
     "data": {
      "text/html": [
       "<div>\n",
       "<style scoped>\n",
       "    .dataframe tbody tr th:only-of-type {\n",
       "        vertical-align: middle;\n",
       "    }\n",
       "\n",
       "    .dataframe tbody tr th {\n",
       "        vertical-align: top;\n",
       "    }\n",
       "\n",
       "    .dataframe thead th {\n",
       "        text-align: right;\n",
       "    }\n",
       "</style>\n",
       "<table border=\"1\" class=\"dataframe\">\n",
       "  <thead>\n",
       "    <tr style=\"text-align: right;\">\n",
       "      <th></th>\n",
       "      <th>Apples</th>\n",
       "      <th>Bananas</th>\n",
       "    </tr>\n",
       "  </thead>\n",
       "  <tbody>\n",
       "    <tr>\n",
       "      <th>0</th>\n",
       "      <td>30</td>\n",
       "      <td>21</td>\n",
       "    </tr>\n",
       "  </tbody>\n",
       "</table>\n",
       "</div>"
      ],
      "text/plain": [
       "   Apples  Bananas\n",
       "0      30       21"
      ]
     },
     "execution_count": 3,
     "metadata": {},
     "output_type": "execute_result"
    }
   ],
   "source": [
    "import pandas as pd\n",
    "preData={'Apples':[30],\n",
    "        'Bananas':[21]}\n",
    "data=pd.DataFrame(preData)\n",
    "data.head()"
   ]
  },
  {
   "cell_type": "code",
   "execution_count": 8,
   "metadata": {},
   "outputs": [
    {
     "data": {
      "text/html": [
       "<div>\n",
       "<style scoped>\n",
       "    .dataframe tbody tr th:only-of-type {\n",
       "        vertical-align: middle;\n",
       "    }\n",
       "\n",
       "    .dataframe tbody tr th {\n",
       "        vertical-align: top;\n",
       "    }\n",
       "\n",
       "    .dataframe thead th {\n",
       "        text-align: right;\n",
       "    }\n",
       "</style>\n",
       "<table border=\"1\" class=\"dataframe\">\n",
       "  <thead>\n",
       "    <tr style=\"text-align: right;\">\n",
       "      <th></th>\n",
       "      <th>Apples</th>\n",
       "      <th>Bananas</th>\n",
       "    </tr>\n",
       "  </thead>\n",
       "  <tbody>\n",
       "    <tr>\n",
       "      <th>2017 Sales</th>\n",
       "      <td>30</td>\n",
       "      <td>21</td>\n",
       "    </tr>\n",
       "    <tr>\n",
       "      <th>2018 Sales</th>\n",
       "      <td>41</td>\n",
       "      <td>34</td>\n",
       "    </tr>\n",
       "  </tbody>\n",
       "</table>\n",
       "</div>"
      ],
      "text/plain": [
       "            Apples  Bananas\n",
       "2017 Sales      30       21\n",
       "2018 Sales      41       34"
      ]
     },
     "execution_count": 8,
     "metadata": {},
     "output_type": "execute_result"
    }
   ],
   "source": [
    "preData={'Apples':[30,41],\n",
    "        'Bananas':[21,34]}\n",
    "data=pd.DataFrame(preData,index=['2017 Sales','2018 Sales'])\n",
    "data.head()"
   ]
  },
  {
   "cell_type": "code",
   "execution_count": 10,
   "metadata": {},
   "outputs": [
    {
     "data": {
      "text/plain": [
       "Flour     4 cups\n",
       "Milk       1 cup\n",
       "Eggs     2 large\n",
       "Spam       1 can\n",
       "dtype: object"
      ]
     },
     "execution_count": 10,
     "metadata": {},
     "output_type": "execute_result"
    }
   ],
   "source": [
    "obj=pd.Series(['4 cups','1 cup','2 large','1 can'],\n",
    "              index=['Flour','Milk','Eggs','Spam'])\n",
    "obj"
   ]
  },
  {
   "cell_type": "markdown",
   "metadata": {},
   "source": [
    "<code>iloc</code> method provides integer index-based location"
   ]
  },
  {
   "cell_type": "code",
   "execution_count": 13,
   "metadata": {},
   "outputs": [
    {
     "data": {
      "text/plain": [
       "True"
      ]
     },
     "execution_count": 13,
     "metadata": {},
     "output_type": "execute_result"
    }
   ],
   "source": [
    "obj.loc['Spam']==obj.iloc[3]"
   ]
  },
  {
   "cell_type": "markdown",
   "metadata": {},
   "source": [
    "Notice that <code>iloc</code> indexing follows python's convention: it excludes the last index (<code>loc</code> is inclusive. this is a know **pandas' gotcha** behavior)"
   ]
  },
  {
   "cell_type": "code",
   "execution_count": 42,
   "metadata": {},
   "outputs": [
    {
     "name": "stdout",
     "output_type": "stream",
     "text": [
      "Flour     4 cups\n",
      "Milk       1 cup\n",
      "Eggs     2 large\n",
      "dtype: object\n"
     ]
    }
   ],
   "source": [
    "print(obj.iloc[0:3])"
   ]
  },
  {
   "cell_type": "code",
   "execution_count": 5,
   "metadata": {
    "scrolled": true
   },
   "outputs": [
    {
     "data": {
      "text/html": [
       "<div>\n",
       "<style scoped>\n",
       "    .dataframe tbody tr th:only-of-type {\n",
       "        vertical-align: middle;\n",
       "    }\n",
       "\n",
       "    .dataframe tbody tr th {\n",
       "        vertical-align: top;\n",
       "    }\n",
       "\n",
       "    .dataframe thead th {\n",
       "        text-align: right;\n",
       "    }\n",
       "</style>\n",
       "<table border=\"1\" class=\"dataframe\">\n",
       "  <thead>\n",
       "    <tr style=\"text-align: right;\">\n",
       "      <th></th>\n",
       "      <th>neq</th>\n",
       "      <th>length of domain</th>\n",
       "      <th>length of precursor film</th>\n",
       "      <th>Ca</th>\n",
       "      <th>tmax</th>\n",
       "      <th>dt</th>\n",
       "      <th>alpha</th>\n",
       "      <th>kappa</th>\n",
       "      <th>delta</th>\n",
       "      <th>substrate temperature</th>\n",
       "      <th>Marangoni number</th>\n",
       "      <th>Peclet number</th>\n",
       "      <th>phi_0 &lt; 0.64</th>\n",
       "      <th>window height</th>\n",
       "      <th>continue computations?</th>\n",
       "    </tr>\n",
       "  </thead>\n",
       "  <tbody>\n",
       "    <tr>\n",
       "      <th>0</th>\n",
       "      <td>2000</td>\n",
       "      <td>5.0</td>\n",
       "      <td>0.01</td>\n",
       "      <td>173.65</td>\n",
       "      <td>50.0</td>\n",
       "      <td>0.000010</td>\n",
       "      <td>0.0058</td>\n",
       "      <td>0.1736</td>\n",
       "      <td>0.1736</td>\n",
       "      <td>0.1</td>\n",
       "      <td>0.000</td>\n",
       "      <td>1736.5</td>\n",
       "      <td>0.50</td>\n",
       "      <td>1.50</td>\n",
       "      <td>0</td>\n",
       "    </tr>\n",
       "    <tr>\n",
       "      <th>1</th>\n",
       "      <td>2000</td>\n",
       "      <td>5.0</td>\n",
       "      <td>0.01</td>\n",
       "      <td>1000.00</td>\n",
       "      <td>100.0</td>\n",
       "      <td>0.000010</td>\n",
       "      <td>0.0010</td>\n",
       "      <td>1.0000</td>\n",
       "      <td>1.0000</td>\n",
       "      <td>0.1</td>\n",
       "      <td>0.000</td>\n",
       "      <td>10000.0</td>\n",
       "      <td>0.10</td>\n",
       "      <td>1.50</td>\n",
       "      <td>0</td>\n",
       "    </tr>\n",
       "    <tr>\n",
       "      <th>2</th>\n",
       "      <td>1500</td>\n",
       "      <td>3.0</td>\n",
       "      <td>0.01</td>\n",
       "      <td>1000.00</td>\n",
       "      <td>100.0</td>\n",
       "      <td>0.000001</td>\n",
       "      <td>0.1000</td>\n",
       "      <td>1.0000</td>\n",
       "      <td>1.0000</td>\n",
       "      <td>1.0</td>\n",
       "      <td>0.050</td>\n",
       "      <td>10000.0</td>\n",
       "      <td>0.05</td>\n",
       "      <td>0.64</td>\n",
       "      <td>0</td>\n",
       "    </tr>\n",
       "    <tr>\n",
       "      <th>3</th>\n",
       "      <td>1500</td>\n",
       "      <td>3.0</td>\n",
       "      <td>0.01</td>\n",
       "      <td>1000.00</td>\n",
       "      <td>100.0</td>\n",
       "      <td>0.000001</td>\n",
       "      <td>0.0010</td>\n",
       "      <td>1.0000</td>\n",
       "      <td>1.0000</td>\n",
       "      <td>10.0</td>\n",
       "      <td>0.010</td>\n",
       "      <td>10000.0</td>\n",
       "      <td>0.05</td>\n",
       "      <td>0.64</td>\n",
       "      <td>0</td>\n",
       "    </tr>\n",
       "    <tr>\n",
       "      <th>4</th>\n",
       "      <td>2000</td>\n",
       "      <td>5.0</td>\n",
       "      <td>0.01</td>\n",
       "      <td>1000.00</td>\n",
       "      <td>100.0</td>\n",
       "      <td>0.000010</td>\n",
       "      <td>0.1000</td>\n",
       "      <td>1.0000</td>\n",
       "      <td>1.0000</td>\n",
       "      <td>1.0</td>\n",
       "      <td>0.001</td>\n",
       "      <td>10000.0</td>\n",
       "      <td>0.05</td>\n",
       "      <td>1.50</td>\n",
       "      <td>0</td>\n",
       "    </tr>\n",
       "  </tbody>\n",
       "</table>\n",
       "</div>"
      ],
      "text/plain": [
       "    neq  length of domain  length of precursor film       Ca   tmax        dt  \\\n",
       "0  2000               5.0                      0.01   173.65   50.0  0.000010   \n",
       "1  2000               5.0                      0.01  1000.00  100.0  0.000010   \n",
       "2  1500               3.0                      0.01  1000.00  100.0  0.000001   \n",
       "3  1500               3.0                      0.01  1000.00  100.0  0.000001   \n",
       "4  2000               5.0                      0.01  1000.00  100.0  0.000010   \n",
       "\n",
       "    alpha   kappa   delta  substrate temperature  Marangoni number  \\\n",
       "0  0.0058  0.1736  0.1736                    0.1             0.000   \n",
       "1  0.0010  1.0000  1.0000                    0.1             0.000   \n",
       "2  0.1000  1.0000  1.0000                    1.0             0.050   \n",
       "3  0.0010  1.0000  1.0000                   10.0             0.010   \n",
       "4  0.1000  1.0000  1.0000                    1.0             0.001   \n",
       "\n",
       "   Peclet number  phi_0 < 0.64  window height  continue computations?  \n",
       "0         1736.5          0.50           1.50                       0  \n",
       "1        10000.0          0.10           1.50                       0  \n",
       "2        10000.0          0.05           0.64                       0  \n",
       "3        10000.0          0.05           0.64                       0  \n",
       "4        10000.0          0.05           1.50                       0  "
      ]
     },
     "execution_count": 5,
     "metadata": {},
     "output_type": "execute_result"
    }
   ],
   "source": [
    "short = pd.read_csv('../simulations.csv')\n",
    "short=short.drop(['shift index: 0->plots h 1->plots phi 2->plots S',\n",
    "                 'Unnamed: 16'], axis=1)#dropping columns with awkward names\n",
    "short.head()"
   ]
  },
  {
   "cell_type": "markdown",
   "metadata": {},
   "source": [
    "binary search on a column"
   ]
  },
  {
   "cell_type": "code",
   "execution_count": 48,
   "metadata": {},
   "outputs": [
    {
     "data": {
      "text/html": [
       "<div>\n",
       "<style scoped>\n",
       "    .dataframe tbody tr th:only-of-type {\n",
       "        vertical-align: middle;\n",
       "    }\n",
       "\n",
       "    .dataframe tbody tr th {\n",
       "        vertical-align: top;\n",
       "    }\n",
       "\n",
       "    .dataframe thead th {\n",
       "        text-align: right;\n",
       "    }\n",
       "</style>\n",
       "<table border=\"1\" class=\"dataframe\">\n",
       "  <thead>\n",
       "    <tr style=\"text-align: right;\">\n",
       "      <th></th>\n",
       "      <th>neq</th>\n",
       "      <th>length of domain</th>\n",
       "      <th>length of precursor film</th>\n",
       "      <th>Ca</th>\n",
       "      <th>tmax</th>\n",
       "      <th>dt</th>\n",
       "      <th>alpha</th>\n",
       "      <th>kappa</th>\n",
       "      <th>delta</th>\n",
       "      <th>substrate temperature</th>\n",
       "      <th>Marangoni number</th>\n",
       "      <th>Peclet number</th>\n",
       "      <th>phi_0 &lt; 0.64</th>\n",
       "      <th>window height</th>\n",
       "      <th>continue computations?</th>\n",
       "    </tr>\n",
       "  </thead>\n",
       "  <tbody>\n",
       "    <tr>\n",
       "      <th>2</th>\n",
       "      <td>1500</td>\n",
       "      <td>3.0</td>\n",
       "      <td>0.01</td>\n",
       "      <td>1000.00</td>\n",
       "      <td>100.000000</td>\n",
       "      <td>0.000001</td>\n",
       "      <td>0.1000</td>\n",
       "      <td>1.0000</td>\n",
       "      <td>1.0000</td>\n",
       "      <td>1.0</td>\n",
       "      <td>0.0500</td>\n",
       "      <td>10000.0</td>\n",
       "      <td>0.05</td>\n",
       "      <td>0.64</td>\n",
       "      <td>0</td>\n",
       "    </tr>\n",
       "    <tr>\n",
       "      <th>3</th>\n",
       "      <td>1500</td>\n",
       "      <td>3.0</td>\n",
       "      <td>0.01</td>\n",
       "      <td>1000.00</td>\n",
       "      <td>100.000000</td>\n",
       "      <td>0.000001</td>\n",
       "      <td>0.0010</td>\n",
       "      <td>1.0000</td>\n",
       "      <td>1.0000</td>\n",
       "      <td>10.0</td>\n",
       "      <td>0.0100</td>\n",
       "      <td>10000.0</td>\n",
       "      <td>0.05</td>\n",
       "      <td>0.64</td>\n",
       "      <td>0</td>\n",
       "    </tr>\n",
       "    <tr>\n",
       "      <th>5</th>\n",
       "      <td>1500</td>\n",
       "      <td>3.0</td>\n",
       "      <td>0.01</td>\n",
       "      <td>1000.00</td>\n",
       "      <td>100.000000</td>\n",
       "      <td>0.000001</td>\n",
       "      <td>0.0010</td>\n",
       "      <td>1.0000</td>\n",
       "      <td>1.0000</td>\n",
       "      <td>10.0</td>\n",
       "      <td>0.0001</td>\n",
       "      <td>10000.0</td>\n",
       "      <td>0.05</td>\n",
       "      <td>0.64</td>\n",
       "      <td>0</td>\n",
       "    </tr>\n",
       "    <tr>\n",
       "      <th>6</th>\n",
       "      <td>1500</td>\n",
       "      <td>3.0</td>\n",
       "      <td>0.01</td>\n",
       "      <td>1000.00</td>\n",
       "      <td>100.000000</td>\n",
       "      <td>0.000010</td>\n",
       "      <td>0.1000</td>\n",
       "      <td>1.0000</td>\n",
       "      <td>1.0000</td>\n",
       "      <td>1.0</td>\n",
       "      <td>0.0100</td>\n",
       "      <td>10000.0</td>\n",
       "      <td>0.05</td>\n",
       "      <td>1.50</td>\n",
       "      <td>0</td>\n",
       "    </tr>\n",
       "    <tr>\n",
       "      <th>7</th>\n",
       "      <td>1500</td>\n",
       "      <td>3.0</td>\n",
       "      <td>0.01</td>\n",
       "      <td>1000.00</td>\n",
       "      <td>100.000000</td>\n",
       "      <td>0.000001</td>\n",
       "      <td>0.0010</td>\n",
       "      <td>1.0000</td>\n",
       "      <td>1.0000</td>\n",
       "      <td>10.0</td>\n",
       "      <td>0.0050</td>\n",
       "      <td>10000.0</td>\n",
       "      <td>0.05</td>\n",
       "      <td>0.64</td>\n",
       "      <td>0</td>\n",
       "    </tr>\n",
       "    <tr>\n",
       "      <th>8</th>\n",
       "      <td>1500</td>\n",
       "      <td>3.0</td>\n",
       "      <td>0.01</td>\n",
       "      <td>1000.00</td>\n",
       "      <td>1.731322</td>\n",
       "      <td>0.000001</td>\n",
       "      <td>0.0010</td>\n",
       "      <td>1.0000</td>\n",
       "      <td>1.0000</td>\n",
       "      <td>10.0</td>\n",
       "      <td>0.0050</td>\n",
       "      <td>10000.0</td>\n",
       "      <td>0.05</td>\n",
       "      <td>0.64</td>\n",
       "      <td>0</td>\n",
       "    </tr>\n",
       "    <tr>\n",
       "      <th>9</th>\n",
       "      <td>1500</td>\n",
       "      <td>3.0</td>\n",
       "      <td>0.01</td>\n",
       "      <td>1000.00</td>\n",
       "      <td>100.000000</td>\n",
       "      <td>0.000010</td>\n",
       "      <td>0.1000</td>\n",
       "      <td>1.0000</td>\n",
       "      <td>1.0000</td>\n",
       "      <td>1.0</td>\n",
       "      <td>0.0000</td>\n",
       "      <td>10000.0</td>\n",
       "      <td>0.05</td>\n",
       "      <td>1.50</td>\n",
       "      <td>0</td>\n",
       "    </tr>\n",
       "    <tr>\n",
       "      <th>10</th>\n",
       "      <td>1500</td>\n",
       "      <td>3.0</td>\n",
       "      <td>0.01</td>\n",
       "      <td>1000.00</td>\n",
       "      <td>100.000000</td>\n",
       "      <td>0.000001</td>\n",
       "      <td>0.0010</td>\n",
       "      <td>1.0000</td>\n",
       "      <td>1.0000</td>\n",
       "      <td>10.0</td>\n",
       "      <td>0.0000</td>\n",
       "      <td>10000.0</td>\n",
       "      <td>0.05</td>\n",
       "      <td>0.64</td>\n",
       "      <td>0</td>\n",
       "    </tr>\n",
       "    <tr>\n",
       "      <th>34</th>\n",
       "      <td>1200</td>\n",
       "      <td>2.0</td>\n",
       "      <td>0.01</td>\n",
       "      <td>173.65</td>\n",
       "      <td>50.000000</td>\n",
       "      <td>0.000010</td>\n",
       "      <td>0.0058</td>\n",
       "      <td>0.1736</td>\n",
       "      <td>0.1736</td>\n",
       "      <td>5.0</td>\n",
       "      <td>0.0000</td>\n",
       "      <td>1736.5</td>\n",
       "      <td>0.10</td>\n",
       "      <td>1.50</td>\n",
       "      <td>0</td>\n",
       "    </tr>\n",
       "    <tr>\n",
       "      <th>44</th>\n",
       "      <td>1200</td>\n",
       "      <td>2.0</td>\n",
       "      <td>0.01</td>\n",
       "      <td>173.65</td>\n",
       "      <td>50.000000</td>\n",
       "      <td>0.000010</td>\n",
       "      <td>0.0058</td>\n",
       "      <td>0.1736</td>\n",
       "      <td>0.1736</td>\n",
       "      <td>0.7</td>\n",
       "      <td>0.0000</td>\n",
       "      <td>1736.5</td>\n",
       "      <td>0.10</td>\n",
       "      <td>1.50</td>\n",
       "      <td>0</td>\n",
       "    </tr>\n",
       "  </tbody>\n",
       "</table>\n",
       "</div>"
      ],
      "text/plain": [
       "     neq  length of domain  length of precursor film       Ca        tmax  \\\n",
       "2   1500               3.0                      0.01  1000.00  100.000000   \n",
       "3   1500               3.0                      0.01  1000.00  100.000000   \n",
       "5   1500               3.0                      0.01  1000.00  100.000000   \n",
       "6   1500               3.0                      0.01  1000.00  100.000000   \n",
       "7   1500               3.0                      0.01  1000.00  100.000000   \n",
       "8   1500               3.0                      0.01  1000.00    1.731322   \n",
       "9   1500               3.0                      0.01  1000.00  100.000000   \n",
       "10  1500               3.0                      0.01  1000.00  100.000000   \n",
       "34  1200               2.0                      0.01   173.65   50.000000   \n",
       "44  1200               2.0                      0.01   173.65   50.000000   \n",
       "\n",
       "          dt   alpha   kappa   delta  substrate temperature  Marangoni number  \\\n",
       "2   0.000001  0.1000  1.0000  1.0000                    1.0            0.0500   \n",
       "3   0.000001  0.0010  1.0000  1.0000                   10.0            0.0100   \n",
       "5   0.000001  0.0010  1.0000  1.0000                   10.0            0.0001   \n",
       "6   0.000010  0.1000  1.0000  1.0000                    1.0            0.0100   \n",
       "7   0.000001  0.0010  1.0000  1.0000                   10.0            0.0050   \n",
       "8   0.000001  0.0010  1.0000  1.0000                   10.0            0.0050   \n",
       "9   0.000010  0.1000  1.0000  1.0000                    1.0            0.0000   \n",
       "10  0.000001  0.0010  1.0000  1.0000                   10.0            0.0000   \n",
       "34  0.000010  0.0058  0.1736  0.1736                    5.0            0.0000   \n",
       "44  0.000010  0.0058  0.1736  0.1736                    0.7            0.0000   \n",
       "\n",
       "    Peclet number  phi_0 < 0.64  window height  continue computations?  \n",
       "2         10000.0          0.05           0.64                       0  \n",
       "3         10000.0          0.05           0.64                       0  \n",
       "5         10000.0          0.05           0.64                       0  \n",
       "6         10000.0          0.05           1.50                       0  \n",
       "7         10000.0          0.05           0.64                       0  \n",
       "8         10000.0          0.05           0.64                       0  \n",
       "9         10000.0          0.05           1.50                       0  \n",
       "10        10000.0          0.05           0.64                       0  \n",
       "34         1736.5          0.10           1.50                       0  \n",
       "44         1736.5          0.10           1.50                       0  "
      ]
     },
     "execution_count": 48,
     "metadata": {},
     "output_type": "execute_result"
    }
   ],
   "source": [
    "short.loc[short['length of domain'] < 5,:]"
   ]
  },
  {
   "cell_type": "markdown",
   "metadata": {},
   "source": [
    "modifying values based on binary searches, and locating null values in cells"
   ]
  },
  {
   "cell_type": "code",
   "execution_count": 52,
   "metadata": {},
   "outputs": [
    {
     "data": {
      "text/html": [
       "<div>\n",
       "<style scoped>\n",
       "    .dataframe tbody tr th:only-of-type {\n",
       "        vertical-align: middle;\n",
       "    }\n",
       "\n",
       "    .dataframe tbody tr th {\n",
       "        vertical-align: top;\n",
       "    }\n",
       "\n",
       "    .dataframe thead th {\n",
       "        text-align: right;\n",
       "    }\n",
       "</style>\n",
       "<table border=\"1\" class=\"dataframe\">\n",
       "  <thead>\n",
       "    <tr style=\"text-align: right;\">\n",
       "      <th></th>\n",
       "      <th>neq</th>\n",
       "      <th>length of domain</th>\n",
       "      <th>length of precursor film</th>\n",
       "      <th>Ca</th>\n",
       "      <th>tmax</th>\n",
       "      <th>dt</th>\n",
       "      <th>alpha</th>\n",
       "      <th>kappa</th>\n",
       "      <th>delta</th>\n",
       "      <th>substrate temperature</th>\n",
       "      <th>Marangoni number</th>\n",
       "      <th>Peclet number</th>\n",
       "      <th>phi_0 &lt; 0.64</th>\n",
       "      <th>window height</th>\n",
       "      <th>continue computations?</th>\n",
       "    </tr>\n",
       "  </thead>\n",
       "  <tbody>\n",
       "    <tr>\n",
       "      <th>114</th>\n",
       "      <td>4000</td>\n",
       "      <td>10.0</td>\n",
       "      <td>0.1</td>\n",
       "      <td>173.648</td>\n",
       "      <td>40.00000</td>\n",
       "      <td>0.00001</td>\n",
       "      <td>1.0</td>\n",
       "      <td>0.1</td>\n",
       "      <td>0.001</td>\n",
       "      <td>0.001</td>\n",
       "      <td>0.00001</td>\n",
       "      <td>1736.4818</td>\n",
       "      <td>0.4</td>\n",
       "      <td>NaN</td>\n",
       "      <td>1</td>\n",
       "    </tr>\n",
       "    <tr>\n",
       "      <th>119</th>\n",
       "      <td>4000</td>\n",
       "      <td>10.0</td>\n",
       "      <td>0.1</td>\n",
       "      <td>173.648</td>\n",
       "      <td>37.12712</td>\n",
       "      <td>0.00001</td>\n",
       "      <td>1.0</td>\n",
       "      <td>0.1</td>\n",
       "      <td>0.000</td>\n",
       "      <td>0.000</td>\n",
       "      <td>0.00001</td>\n",
       "      <td>1736.4818</td>\n",
       "      <td>0.4</td>\n",
       "      <td>NaN</td>\n",
       "      <td>1</td>\n",
       "    </tr>\n",
       "  </tbody>\n",
       "</table>\n",
       "</div>"
      ],
      "text/plain": [
       "      neq  length of domain  length of precursor film       Ca      tmax  \\\n",
       "114  4000              10.0                       0.1  173.648  40.00000   \n",
       "119  4000              10.0                       0.1  173.648  37.12712   \n",
       "\n",
       "          dt  alpha  kappa  delta  substrate temperature  Marangoni number  \\\n",
       "114  0.00001    1.0    0.1  0.001                  0.001           0.00001   \n",
       "119  0.00001    1.0    0.1  0.000                  0.000           0.00001   \n",
       "\n",
       "     Peclet number  phi_0 < 0.64  window height  continue computations?  \n",
       "114      1736.4818           0.4            NaN                       1  \n",
       "119      1736.4818           0.4            NaN                       1  "
      ]
     },
     "execution_count": 52,
     "metadata": {},
     "output_type": "execute_result"
    }
   ],
   "source": [
    "import numpy as np\n",
    "short.loc[short['continue computations?'] >0,'window height']=np.NaN\n",
    "short.loc[short['window height'].isnull(),:]"
   ]
  },
  {
   "cell_type": "markdown",
   "metadata": {},
   "source": [
    "descriptive statistics of variables"
   ]
  },
  {
   "cell_type": "code",
   "execution_count": 53,
   "metadata": {},
   "outputs": [
    {
     "data": {
      "text/plain": [
       "2000.0"
      ]
     },
     "execution_count": 53,
     "metadata": {},
     "output_type": "execute_result"
    }
   ],
   "source": [
    "short.neq.median()"
   ]
  },
  {
   "cell_type": "markdown",
   "metadata": {},
   "source": [
    "subset of unique values of a column"
   ]
  },
  {
   "cell_type": "code",
   "execution_count": 54,
   "metadata": {},
   "outputs": [
    {
     "data": {
      "text/plain": [
       "array([ 5.,  3., 10.,  2., 20.])"
      ]
     },
     "execution_count": 54,
     "metadata": {},
     "output_type": "execute_result"
    }
   ],
   "source": [
    "short['length of domain'].unique()"
   ]
  },
  {
   "cell_type": "markdown",
   "metadata": {},
   "source": [
    "frequencies of unique values in a column"
   ]
  },
  {
   "cell_type": "code",
   "execution_count": 55,
   "metadata": {},
   "outputs": [
    {
     "data": {
      "text/plain": [
       "5.0     92\n",
       "10.0    26\n",
       "3.0      8\n",
       "2.0      2\n",
       "20.0     1\n",
       "Name: length of domain, dtype: int64"
      ]
     },
     "execution_count": 55,
     "metadata": {},
     "output_type": "execute_result"
    }
   ],
   "source": [
    "short['length of domain'].value_counts()"
   ]
  },
  {
   "cell_type": "markdown",
   "metadata": {},
   "source": [
    "remaping values in a column with the <code>map()</code> method (**it doesn't alter the values in the dataframe**)"
   ]
  },
  {
   "cell_type": "code",
   "execution_count": 59,
   "metadata": {},
   "outputs": [
    {
     "name": "stdout",
     "output_type": "stream",
     "text": [
      "median after division = 1000.0\n",
      "original median = 2000.0\n",
      "thus the map method above modifies the series 'short.neq'\n"
     ]
    }
   ],
   "source": [
    "print('median after division = {}'.format(short.neq.map(lambda v: v/2).median()))\n",
    "print('original median = {}'.format(short.neq.median()))\n",
    "print('thus the map method above modifies the series \\'short.neq\\'')"
   ]
  },
  {
   "cell_type": "markdown",
   "metadata": {},
   "source": [
    "Find the row where the maximum points per unit length were used in a simulation (<code>idxmax()</code> method finds the first index --along requested axis-- where the maximum occurs)"
   ]
  },
  {
   "cell_type": "code",
   "execution_count": 74,
   "metadata": {},
   "outputs": [
    {
     "data": {
      "text/plain": [
       "neq                         1200.00000\n",
       "length of domain               2.00000\n",
       "length of precursor film       0.01000\n",
       "Ca                           173.65000\n",
       "tmax                          50.00000\n",
       "dt                             0.00001\n",
       "alpha                          0.00580\n",
       "kappa                          0.17360\n",
       "delta                          0.17360\n",
       "substrate temperature          5.00000\n",
       "Marangoni number               0.00000\n",
       "Peclet number               1736.50000\n",
       "phi_0 < 0.64                   0.10000\n",
       "window height                  1.50000\n",
       "continue computations?         0.00000\n",
       "Name: 34, dtype: float64"
      ]
     },
     "execution_count": 74,
     "metadata": {},
     "output_type": "execute_result"
    }
   ],
   "source": [
    "short.loc[(short.neq/short['length of domain']).idxmax()]"
   ]
  },
  {
   "cell_type": "markdown",
   "metadata": {},
   "source": [
    "Notice that the command <code>short.neq/short['length of domain']</code> does an element-wise division and returns the result in a new pandas series"
   ]
  },
  {
   "cell_type": "markdown",
   "metadata": {},
   "source": [
    "### Examples with string data"
   ]
  },
  {
   "cell_type": "code",
   "execution_count": 93,
   "metadata": {},
   "outputs": [
    {
     "data": {
      "text/html": [
       "<div>\n",
       "<style scoped>\n",
       "    .dataframe tbody tr th:only-of-type {\n",
       "        vertical-align: middle;\n",
       "    }\n",
       "\n",
       "    .dataframe tbody tr th {\n",
       "        vertical-align: top;\n",
       "    }\n",
       "\n",
       "    .dataframe thead th {\n",
       "        text-align: right;\n",
       "    }\n",
       "</style>\n",
       "<table border=\"1\" class=\"dataframe\">\n",
       "  <thead>\n",
       "    <tr style=\"text-align: right;\">\n",
       "      <th></th>\n",
       "      <th>wine</th>\n",
       "      <th>description</th>\n",
       "      <th>country</th>\n",
       "      <th>variety</th>\n",
       "    </tr>\n",
       "  </thead>\n",
       "  <tbody>\n",
       "    <tr>\n",
       "      <th>0</th>\n",
       "      <td>Nicosia 2013 Vulkà Bianco  (Etna)</td>\n",
       "      <td>Aromas include tropical fruit, broom, brimston...</td>\n",
       "      <td>Italy</td>\n",
       "      <td>White Blend</td>\n",
       "    </tr>\n",
       "    <tr>\n",
       "      <th>1</th>\n",
       "      <td>Quinta dos Avidagos 2011 Avidagos Red (Douro)</td>\n",
       "      <td>This is ripe and fruity, a wine that is smooth...</td>\n",
       "      <td>Portugal</td>\n",
       "      <td>Portuguese Red</td>\n",
       "    </tr>\n",
       "    <tr>\n",
       "      <th>2</th>\n",
       "      <td>Rainstorm 2013 Pinot Gris (Willamette Valley)</td>\n",
       "      <td>Tart and snappy, the flavors of lime flesh and...</td>\n",
       "      <td>US</td>\n",
       "      <td>Pinot Gris</td>\n",
       "    </tr>\n",
       "    <tr>\n",
       "      <th>3</th>\n",
       "      <td>St. Julian 2013 Reserve Late Harvest Riesling ...</td>\n",
       "      <td>Pineapple rind, lemon pith and orange blossom ...</td>\n",
       "      <td>US</td>\n",
       "      <td>Riesling</td>\n",
       "    </tr>\n",
       "    <tr>\n",
       "      <th>4</th>\n",
       "      <td>Sweet Cheeks 2012 Vintner's Reserve Wild Child...</td>\n",
       "      <td>Much like the regular bottling from 2012, this...</td>\n",
       "      <td>US</td>\n",
       "      <td>Pinot Noir</td>\n",
       "    </tr>\n",
       "  </tbody>\n",
       "</table>\n",
       "</div>"
      ],
      "text/plain": [
       "                                                wine  \\\n",
       "0                  Nicosia 2013 Vulkà Bianco  (Etna)   \n",
       "1      Quinta dos Avidagos 2011 Avidagos Red (Douro)   \n",
       "2      Rainstorm 2013 Pinot Gris (Willamette Valley)   \n",
       "3  St. Julian 2013 Reserve Late Harvest Riesling ...   \n",
       "4  Sweet Cheeks 2012 Vintner's Reserve Wild Child...   \n",
       "\n",
       "                                         description   country         variety  \n",
       "0  Aromas include tropical fruit, broom, brimston...     Italy     White Blend  \n",
       "1  This is ripe and fruity, a wine that is smooth...  Portugal  Portuguese Red  \n",
       "2  Tart and snappy, the flavors of lime flesh and...        US      Pinot Gris  \n",
       "3  Pineapple rind, lemon pith and orange blossom ...        US        Riesling  \n",
       "4  Much like the regular bottling from 2012, this...        US      Pinot Noir  "
      ]
     },
     "execution_count": 93,
     "metadata": {},
     "output_type": "execute_result"
    }
   ],
   "source": [
    "wines = pd.read_csv('wine_reviews.csv')\n",
    "wines.head()"
   ]
  },
  {
   "cell_type": "markdown",
   "metadata": {},
   "source": [
    "Is a wine more likely to be \"tropical\" or \"fruity\"?"
   ]
  },
  {
   "cell_type": "code",
   "execution_count": 90,
   "metadata": {},
   "outputs": [
    {
     "name": "stdout",
     "output_type": "stream",
     "text": [
      "False    192\n",
      "True       8\n",
      "Name: description, dtype: int64\n",
      "--------------\n",
      "so, if we select the row 'True' we get the number of times that 'tropical' \n",
      "appears in the 'description' column\n",
      "'tropical' appears 8 times in the description column\n"
     ]
    }
   ],
   "source": [
    "tropical_wine = wines.description.map(lambda r: \"tropical\" in r).value_counts()\n",
    "print(tropical_wine)\n",
    "print('--------------')\n",
    "print('so, if we select the row \\'True\\' we get the number of times that \\'tropical\\' \\nappears in the \\'description\\' column')\n",
    "print('\\'tropical\\' appears {} times in the description column'.format(tropical_wine[True]))"
   ]
  },
  {
   "cell_type": "code",
   "execution_count": 91,
   "metadata": {},
   "outputs": [
    {
     "data": {
      "text/plain": [
       "tropical     8\n",
       "fruity      11\n",
       "dtype: int64"
      ]
     },
     "execution_count": 91,
     "metadata": {},
     "output_type": "execute_result"
    }
   ],
   "source": [
    "fruity_wine = wines.description.map(lambda r: \"fruity\" in r).value_counts()\n",
    "pd.Series([tropical_wine[True], fruity_wine[True]], index=['tropical', 'fruity'])"
   ]
  },
  {
   "cell_type": "markdown",
   "metadata": {},
   "source": [
    "What combination of countries and varieties are most common?"
   ]
  },
  {
   "cell_type": "code",
   "execution_count": 94,
   "metadata": {},
   "outputs": [
    {
     "data": {
      "text/plain": [
       "US - Cabernet Sauvignon           13\n",
       "Italy - Red Blend                 12\n",
       "US - Pinot Noir                   12\n",
       "US - Chardonnay                    8\n",
       "US - Riesling                      7\n",
       "France - Gamay                     7\n",
       "Germany - Riesling                 7\n",
       "Italy - Sangiovese                 6\n",
       "US - Red Blend                     6\n",
       "Italy - White Blend                6\n",
       "Italy - Nebbiolo                   5\n",
       "US - Syrah                         4\n",
       "France - Chardonnay                4\n",
       "US - Sauvignon Blanc               4\n",
       "US - Bordeaux-style Red Blend      4\n",
       "Italy - Nero d'Avola               3\n",
       "France - Gewürztraminer            3\n",
       "US - Cabernet Franc                3\n",
       "US - Merlot                        3\n",
       "US - Zinfandel                     3\n",
       "France - Pinot Gris                3\n",
       "US - Pinot Gris                    3\n",
       "France - Champagne Blend           2\n",
       "Chile - Red Blend                  2\n",
       "Chile - Merlot                     2\n",
       "Portugal - Portuguese Red          2\n",
       "US - Meritage                      2\n",
       "Chile - Cabernet Sauvignon         2\n",
       "South Africa - Chenin Blanc        2\n",
       "Chile - Chardonnay                 2\n",
       "                                  ..\n",
       "France - Riesling                  1\n",
       "Italy - Aglianico                  1\n",
       "Italy - Catarratto                 1\n",
       "New Zealand - Sauvignon Blanc      1\n",
       "Italy - Frappato                   1\n",
       "France - Petit Manseng             1\n",
       "Spain - Tempranillo Blend          1\n",
       "Italy - Barbera                    1\n",
       "Italy - Rosato                     1\n",
       "US - Chenin Blanc                  1\n",
       "Australia - Cabernet Sauvignon     1\n",
       "Portugal - Portuguese White        1\n",
       "Spain - Tempranillo-Merlot         1\n",
       "Portugal - Touriga Nacional        1\n",
       "France - White Blend               1\n",
       "Austria - Grüner Veltliner         1\n",
       "Argentina - Torrontés              1\n",
       "Italy - Monica                     1\n",
       "Italy - Vermentino                 1\n",
       "Chile - Pinot Noir                 1\n",
       "US - Albariño                      1\n",
       "Italy - Grillo                     1\n",
       "Spain - Albariño                   1\n",
       "Italy - Nerello Mascalese          1\n",
       "Australia - Rosé                   1\n",
       "US - Viognier                      1\n",
       "Spain - Graciano                   1\n",
       "France - Pinot Blanc               1\n",
       "Italy - Primitivo                  1\n",
       "US - Grenache Blanc                1\n",
       "Length: 83, dtype: int64"
      ]
     },
     "execution_count": 94,
     "metadata": {},
     "output_type": "execute_result"
    }
   ],
   "source": [
    "common=(wines.country.notnull())&(wines.variety.notnull())\n",
    "tmp=pd.DataFrame({'country':wines.country[common],\n",
    "                 'variety':wines.variety[common]})\n",
    "wType=tmp.country+' - '+tmp.variety\n",
    "wType.value_counts()"
   ]
  },
  {
   "cell_type": "code",
   "execution_count": null,
   "metadata": {},
   "outputs": [],
   "source": []
  }
 ],
 "metadata": {
  "kernelspec": {
   "display_name": "Python 3",
   "language": "python",
   "name": "python3"
  },
  "language_info": {
   "codemirror_mode": {
    "name": "ipython",
    "version": 3
   },
   "file_extension": ".py",
   "mimetype": "text/x-python",
   "name": "python",
   "nbconvert_exporter": "python",
   "pygments_lexer": "ipython3",
   "version": "3.6.5"
  }
 },
 "nbformat": 4,
 "nbformat_minor": 2
}
