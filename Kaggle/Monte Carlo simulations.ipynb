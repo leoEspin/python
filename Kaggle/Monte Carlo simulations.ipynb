{
 "cells": [
  {
   "cell_type": "markdown",
   "metadata": {},
   "source": [
    "### an interesting Monte Carlo simulation\n",
    "in the example below (from the Kaggle notebook \"Loops and List Comprehensions\") my solution overestimates the actual probability that the game will be finished. I didn't understand why. \n",
    "\n",
    "After looking at the solution what I learned is that the overestimation comes from iterating the entirety of requested roulette spins and calculating how much I would have won from that. In reality, if the cash balance is less than 1, I wouldn't have enough for another spin. **Notice that the probability is computed by counting the number of times that the player was able to complete the requested number of spins.**"
   ]
  },
  {
   "cell_type": "code",
   "execution_count": 1,
   "metadata": {},
   "outputs": [
    {
     "name": "stdout",
     "output_type": "stream",
     "text": [
      "My solution = 0.392\n",
      "Correct solution = 0.2215\n"
     ]
    }
   ],
   "source": [
    "import numpy as np\n",
    "def play_slot_machine():\n",
    "    return np.random.poisson(0.25,1) #in Kaggle this function was not shown but it had an \n",
    "                                     #expected value of winning 0.25 per play.\n",
    "def slots_survival_probability(start_balance, n_spins, n_simulations):\n",
    "    \"\"\"Return the approximate probability (as a number between 0 and 1) that we can complete the \n",
    "    given number of spins of the slot machine before running out of money, assuming we start \n",
    "    with the given balance. Estimate the probability by running the scenario the specified number of times.\n",
    "    \n",
    "    >>> slots_survival_probability(10.00, 10, 1000)\n",
    "    1.0\n",
    "    >>> slots_survival_probability(1.00, 2, 1000)\n",
    "    .25\n",
    "    \"\"\"\n",
    "    possible=0\n",
    "    for j in range(n_simulations):\n",
    "        gain=0\n",
    "        for i in range(n_spins):\n",
    "            gain=gain+play_slot_machine()\n",
    "        if (start_balance+gain-n_spins)>=0: #each play costs $1\n",
    "            possible +=1\n",
    "     \n",
    "    return possible/n_simulations\n",
    "\n",
    "def correct_slots_survival_probability(start_balance, n_spins, n_simulations):\n",
    "    # How many times did we last the given number of spins?\n",
    "    successes = 0\n",
    "    # A convention in Python is to use '_' to name variables we won't use\n",
    "    for _ in range(n_simulations):\n",
    "        balance = start_balance\n",
    "        spins_left = n_spins\n",
    "        while balance >= 1 and spins_left:\n",
    "            # subtract the cost of playing\n",
    "            balance -= 1\n",
    "            balance += play_slot_machine()\n",
    "            spins_left -= 1\n",
    "        # did we make it to the end?\n",
    "        if spins_left == 0:\n",
    "            successes += 1\n",
    "    return successes / n_simulations\n",
    "    \n",
    "print('My solution = ' + str(slots_survival_probability(1, 2, 10000)))\n",
    "print('Correct solution = ' + str(correct_slots_survival_probability(1, 2, 10000)))"
   ]
  },
  {
   "cell_type": "code",
   "execution_count": null,
   "metadata": {},
   "outputs": [],
   "source": []
  }
 ],
 "metadata": {
  "kernelspec": {
   "display_name": "Python 3",
   "language": "python",
   "name": "python3"
  },
  "language_info": {
   "codemirror_mode": {
    "name": "ipython",
    "version": 3
   },
   "file_extension": ".py",
   "mimetype": "text/x-python",
   "name": "python",
   "nbconvert_exporter": "python",
   "pygments_lexer": "ipython3",
   "version": "3.6.4"
  }
 },
 "nbformat": 4,
 "nbformat_minor": 2
}
