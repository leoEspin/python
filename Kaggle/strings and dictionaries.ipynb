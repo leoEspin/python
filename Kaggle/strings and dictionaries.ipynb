{
 "cells": [
  {
   "cell_type": "markdown",
   "metadata": {},
   "source": [
    "* Python's triple quote syntax for strings lets us include newlines literally (i.e. by just hitting 'Enter' on our keyboard, rather than using the special '\\n' sequence). They can be used anywhere we want to define a string.\n",
    "* The print() function automatically adds a newline character unless we specify a value for the keyword argument end other than the default value of '\\n': <code>print(\"hello\", end=' ')</code>\n",
    "* Strings can be thought of as sequences of characters. Almost everything we've seen that we can do to a list, we can also do to a string:"
   ]
  },
  {
   "cell_type": "code",
   "execution_count": 5,
   "metadata": {},
   "outputs": [
    {
     "name": "stdout",
     "output_type": "stream",
     "text": [
      "P\n",
      "uto\n",
      "5\n",
      "['P-', 'l-', 'u-', 't-', 'o-']\n"
     ]
    }
   ],
   "source": [
    "planet = 'Pluto'\n",
    "print(planet[0])\n",
    "print(planet[-3:])\n",
    "# length of a string\n",
    "print(len(planet))\n",
    "# looping on a string\n",
    "print([char+'-' for char in planet])"
   ]
  },
  {
   "cell_type": "markdown",
   "metadata": {},
   "source": [
    "### string methods\n",
    "* note that the method <code>str.index()</code> returns **only the first index**  where a substring is found\n",
    "* <code>str.split()</code> turns a string into a list of smaller strings, breaking on whitespace by default\n",
    "* method <code>str.join()</code>\n",
    "* method <code>str.format()</code>"
   ]
  },
  {
   "cell_type": "code",
   "execution_count": 8,
   "metadata": {},
   "outputs": [
    {
     "name": "stdout",
     "output_type": "stream",
     "text": [
      "2\n",
      "['this', 'is', 'a', 'sentence']\n",
      "01/31/1956\n"
     ]
    }
   ],
   "source": [
    "string='this is a sentence'\n",
    "# Searching for the first index of a substring\n",
    "print(string.index('is'))\n",
    "# split method\n",
    "words = string.split()\n",
    "print(words)\n",
    "# Join and splitting based on another character\n",
    "datestr = '1956-01-31'\n",
    "year, month, day = datestr.split('-') #tuple notation\n",
    "print('/'.join([month, day, year]))"
   ]
  },
  {
   "cell_type": "code",
   "execution_count": 12,
   "metadata": {},
   "outputs": [
    {
     "name": "stdout",
     "output_type": "stream",
     "text": [
      "6 divided by 3 is two\n",
      "6 divided by 3 is two\n"
     ]
    }
   ],
   "source": [
    "str1=str(6)+' divided by '+str(3)+' is two'\n",
    "print(str1)\n",
    "#we can accomplish the same with format:\n",
    "str2='{} divided by {} is two'.format(6,3)\n",
    "print(str2)"
   ]
  },
  {
   "cell_type": "markdown",
   "metadata": {},
   "source": [
    "More interesting examples of *format*:"
   ]
  },
  {
   "cell_type": "code",
   "execution_count": 16,
   "metadata": {},
   "outputs": [
    {
     "name": "stdout",
     "output_type": "stream",
     "text": [
      "Pluto weighs about 1.3e+22 kilograms (0.218% of Earth's mass). It is home to 52,910,390 Plutonians.\n",
      "Pluto's a planet.\n",
      "No, it's a dwarf planet.\n",
      "planet!\n",
      "dwarf planet!\n"
     ]
    }
   ],
   "source": [
    "pluto_mass = 1.303 * 10**22\n",
    "earth_mass = 5.9722 * 10**24\n",
    "population = 52910390\n",
    "#              2 decimal points   3 decimal points, format as percent     separate with commas\n",
    "l=\"{} weighs about {:.2} kilograms ({:.3%} of Earth's mass). It is home to {:,} Plutonians.\".format(\n",
    "    planet, pluto_mass, pluto_mass / earth_mass, population,\n",
    ")\n",
    "print(l)\n",
    "\n",
    "# Referring to format() arguments by index, starting from 0\n",
    "s = \"\"\"Pluto's a {0}.\n",
    "No, it's a {1}.\n",
    "{0}!\n",
    "{1}!\"\"\".format('planet', 'dwarf planet')\n",
    "print(s)"
   ]
  },
  {
   "cell_type": "markdown",
   "metadata": {},
   "source": [
    "### Dictionaries\n",
    "Dictionaries are a built-in Python data structure for mapping keys to values.\n",
    "\n",
    "<code>numbers = {'one':1, 'two':2, 'three':3} </code>\n",
    "\n",
    "where <code>'one'</code>, <code>'two'</code>, and <code>'three'</code> are the **keys** and 1,2,3 are the corresponding values\n",
    "\n",
    "Values are accessed via square bracket syntax similar to indexing into lists and strings."
   ]
  },
  {
   "cell_type": "code",
   "execution_count": 21,
   "metadata": {},
   "outputs": [
    {
     "name": "stdout",
     "output_type": "stream",
     "text": [
      "1\n",
      "{'one': 1, 'two': 2, 'three': 3, 'eleven': 11}\n",
      "{'one': 1, 'two': 2, 'three': 3, 'eleven': '11'}\n"
     ]
    }
   ],
   "source": [
    "numbers = {'one':1, 'two':2, 'three':3}\n",
    "print(numbers['one'])\n",
    "\n",
    "# We can use the same syntax to add another key, value pair:\n",
    "numbers['eleven'] = 11\n",
    "print(numbers)\n",
    "#Or to change the value associated with an existing key\n",
    "numbers['eleven'] = '11'\n",
    "print(numbers)"
   ]
  },
  {
   "cell_type": "markdown",
   "metadata": {},
   "source": [
    "Python has *dictionary comprehensions* with a syntax similar to the list comprehensions:"
   ]
  },
  {
   "cell_type": "code",
   "execution_count": 24,
   "metadata": {},
   "outputs": [
    {
     "name": "stdout",
     "output_type": "stream",
     "text": [
      "{'Mercury': 'M', 'Venus': 'V', 'Earth': 'E', 'Mars': 'M', 'Jupiter': 'J', 'Saturn': 'S', 'Uranus': 'U', 'Neptune': 'N'}\n"
     ]
    }
   ],
   "source": [
    "planets = ['Mercury', 'Venus', 'Earth', 'Mars', 'Jupiter', 'Saturn', 'Uranus', 'Neptune']\n",
    "planet_to_initial = {planet: planet[0] for planet in planets}\n",
    "print(planet_to_initial)"
   ]
  },
  {
   "cell_type": "markdown",
   "metadata": {},
   "source": [
    "Loops, and the operator <code>in</code> can be used with dictionaries too"
   ]
  },
  {
   "cell_type": "code",
   "execution_count": 34,
   "metadata": {},
   "outputs": [
    {
     "name": "stdout",
     "output_type": "stream",
     "text": [
      "True\n",
      "__________________________\n",
      "Mercury starts with 'M'\n",
      "Venus starts with 'V'\n",
      "Earth starts with 'E'\n",
      "Mars starts with 'M'\n",
      "Jupiter starts with 'J'\n",
      "Saturn starts with 'S'\n",
      "Uranus starts with 'U'\n",
      "Neptune starts with 'N'\n"
     ]
    }
   ],
   "source": [
    "print('Saturn' in planet_to_initial)\n",
    "print('__________________________')\n",
    "for k in planet_to_initial:\n",
    "    print(\"{} starts with '{}'\".format(k, planet_to_initial[k]))"
   ]
  },
  {
   "cell_type": "markdown",
   "metadata": {},
   "source": [
    "which can be improved with *right justification*"
   ]
  },
  {
   "cell_type": "code",
   "execution_count": 33,
   "metadata": {},
   "outputs": [
    {
     "name": "stdout",
     "output_type": "stream",
     "text": [
      "Mercury starts with 'M'\n",
      "  Venus starts with 'V'\n",
      "  Earth starts with 'E'\n",
      "   Mars starts with 'M'\n",
      "Jupiter starts with 'J'\n",
      " Saturn starts with 'S'\n",
      " Uranus starts with 'U'\n",
      "Neptune starts with 'N'\n"
     ]
    }
   ],
   "source": [
    "for k in planet_to_initial:\n",
    "    print(\"{} starts with '{}'\".format(k.rjust(7), planet_to_initial[k]))"
   ]
  },
  {
   "cell_type": "markdown",
   "metadata": {},
   "source": [
    "We can access a collection of all the keys or all the values with <code>dict.keys()</code> and <code>dict.values()</code>, respectively:"
   ]
  },
  {
   "cell_type": "code",
   "execution_count": 36,
   "metadata": {},
   "outputs": [
    {
     "data": {
      "text/plain": [
       "'E J M M N S U V'"
      ]
     },
     "execution_count": 36,
     "metadata": {},
     "output_type": "execute_result"
    }
   ],
   "source": [
    "# Get all the initials, sort them alphabetically, and put them in a space-separated string.\n",
    "' '.join(sorted(planet_to_initial.values()))"
   ]
  },
  {
   "cell_type": "code",
   "execution_count": null,
   "metadata": {},
   "outputs": [],
   "source": []
  }
 ],
 "metadata": {
  "kernelspec": {
   "display_name": "Python 3",
   "language": "python",
   "name": "python3"
  },
  "language_info": {
   "codemirror_mode": {
    "name": "ipython",
    "version": 3
   },
   "file_extension": ".py",
   "mimetype": "text/x-python",
   "name": "python",
   "nbconvert_exporter": "python",
   "pygments_lexer": "ipython3",
   "version": "3.6.4"
  }
 },
 "nbformat": 4,
 "nbformat_minor": 2
}
