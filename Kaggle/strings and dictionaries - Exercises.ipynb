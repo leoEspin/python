{
 "cells": [
  {
   "cell_type": "markdown",
   "metadata": {},
   "source": [
    "### dictionary comprehensions "
   ]
  },
  {
   "cell_type": "code",
   "execution_count": 9,
   "metadata": {},
   "outputs": [
    {
     "name": "stdout",
     "output_type": "stream",
     "text": [
      "Mercury begins with \"M\"\n",
      "  Venus begins with \"V\"\n",
      "  Earth begins with \"E\"\n",
      "   Mars begins with \"M\"\n",
      "Jupiter begins with \"J\"\n",
      " Saturn begins with \"S\"\n",
      " Uranus begins with \"U\"\n",
      "Neptune begins with \"N\"\n"
     ]
    }
   ],
   "source": [
    "planets = ['Mercury', 'Venus', 'Earth', 'Mars', 'Jupiter', 'Saturn', 'Uranus', 'Neptune']\n",
    "planet_to_initial = {planet: planet[0] for planet in planets} #creates a dictionary out of a list\n",
    "\n",
    "for planet, initial in planet_to_initial.items():\n",
    "    print(\"{} begins with \\\"{}\\\"\".format(planet.rjust(7), initial))"
   ]
  },
  {
   "cell_type": "code",
   "execution_count": 20,
   "metadata": {},
   "outputs": [
    {
     "name": "stdout",
     "output_type": "stream",
     "text": [
      "True\n"
     ]
    }
   ],
   "source": [
    "string=\"The Learn Python Challenge Casino.\"\n",
    "splitted=string.split()\n",
    "found=False\n",
    "for _ in splitted:\n",
    "    found= 'casino' == _.replace('.', '').casefold()\n",
    "\n",
    "print(found)"
   ]
  },
  {
   "cell_type": "code",
   "execution_count": 15,
   "metadata": {},
   "outputs": [
    {
     "data": {
      "text/plain": [
       "[1]"
      ]
     },
     "execution_count": 15,
     "metadata": {},
     "output_type": "execute_result"
    }
   ],
   "source": [
    "def word_search(doc_list, keyword):\n",
    "    \"\"\"\n",
    "    Takes a list of documents (each document is a string) and a keyword. \n",
    "    Returns list of the index values into the original list for all documents \n",
    "    containing the keyword.\n",
    "\n",
    "    Example:\n",
    "    doc_list = [\"The Learn Python Challenge Casino.\", \"They bought a car\", \"Casinoville\"]\n",
    "    >>> word_search(doc_list, 'casino')\n",
    "    >>> [0]\n",
    "    \"\"\"\n",
    "    def singlePhrase(string,keyword):\n",
    "        splitted=string.split()\n",
    "        found=False\n",
    "        for _ in splitted:\n",
    "            clean=_.replace('.', '')\n",
    "            clean=clean.replace(',', '')\n",
    "            if (keyword == clean.casefold()):\n",
    "                found=True\n",
    "        return found\n",
    "\n",
    "    result=[]\n",
    "    for i,doc in enumerate(doc_list):\n",
    "        if singlePhrase(doc,keyword):\n",
    "            result.append(i)\n",
    "    return result\n",
    "\n",
    "#doc_list = [\"The Learn Python Challenge Casino.\", \"They bought a car\", \"Casinoville\"]\n",
    "doc_list = [\"The Learn Python Challenge Casino.\", \"They bought a car, and a horse\", \"Casinoville\"]\n",
    "word_search(doc_list, 'car')   "
   ]
  },
  {
   "cell_type": "code",
   "execution_count": 40,
   "metadata": {},
   "outputs": [
    {
     "data": {
      "text/plain": [
       "{'casino': [0, 1], 'they': [1]}"
      ]
     },
     "execution_count": 40,
     "metadata": {},
     "output_type": "execute_result"
    }
   ],
   "source": [
    "def multi_word_search(doc_list, keywords):\n",
    "    \"\"\"\n",
    "    Takes list of documents (each document is a string) and a list of keywords.  \n",
    "    Returns a dictionary where each key is a keyword, and the value is a list of indices\n",
    "    (from doc_list) of the documents containing that keyword\n",
    "\n",
    "    >>> doc_list = [\"The Learn Python Challenge Casino.\", \"They bought a car and a casino\", \"Casinoville\"]\n",
    "    >>> keywords = ['casino', 'they']\n",
    "    >>> multi_word_search(doc_list, keywords)\n",
    "    {'casino': [0, 1], 'they': [1]}\n",
    "    \"\"\"\n",
    "    #result={}\n",
    "    #for key in keywords:\n",
    "    #    result[key]=word_search(doc_list, key)   \n",
    "    result={key:word_search(doc_list, key) for key in keywords} \n",
    "    return result\n",
    "\n",
    "doc_list = [\"The Learn Python Challenge Casino.\", \"They bought a car and a casino\", \"Casinoville\"]\n",
    "keywords = ['casino', 'they']\n",
    "multi_word_search(doc_list, keywords)"
   ]
  },
  {
   "cell_type": "code",
   "execution_count": 30,
   "metadata": {},
   "outputs": [
    {
     "data": {
      "text/plain": [
       "[1]"
      ]
     },
     "execution_count": 30,
     "metadata": {},
     "output_type": "execute_result"
    }
   ],
   "source": [
    "\n",
    "\n",
    "word_search(doc_list, 'car')"
   ]
  },
  {
   "cell_type": "code",
   "execution_count": 72,
   "metadata": {},
   "outputs": [
    {
     "name": "stdout",
     "output_type": "stream",
     "text": [
      " /\\ \n",
      "//\\\\\n",
      "\\\\//\n",
      " \\/ \n"
     ]
    }
   ],
   "source": [
    "d4 = \"\\x20/\\\\\\x20\\n//\\\\\\\\\\n\\\\\\\\//\\n\\x20\\\\/\\x20\"\n",
    "print(d4)"
   ]
  },
  {
   "cell_type": "code",
   "execution_count": 44,
   "metadata": {},
   "outputs": [
    {
     "name": "stdout",
     "output_type": "stream",
     "text": [
      "\\\n"
     ]
    }
   ],
   "source": [
    "print('\\\\')"
   ]
  },
  {
   "cell_type": "code",
   "execution_count": 65,
   "metadata": {},
   "outputs": [
    {
     "name": "stdout",
     "output_type": "stream",
     "text": [
      "/\\\n",
      "\\/\n"
     ]
    }
   ],
   "source": [
    "d2 = \"\"\"/\\\\\\n\\\\/\"\"\"\n",
    "print(d2)"
   ]
  },
  {
   "cell_type": "code",
   "execution_count": 74,
   "metadata": {},
   "outputs": [
    {
     "name": "stdout",
     "output_type": "stream",
     "text": [
      "  Ni\n"
     ]
    }
   ],
   "source": [
    "string=''\n",
    "string=string+'\\x20 Ni'\n",
    "print(string)"
   ]
  },
  {
   "cell_type": "code",
   "execution_count": 11,
   "metadata": {},
   "outputs": [
    {
     "name": "stdout",
     "output_type": "stream",
     "text": [
      "   /\\\n",
      "  //\\\\\n",
      " ///\\\\\\\n",
      "////\\\\\\\\\n",
      "\\\\\\\\////\n",
      " \\\\\\///\n",
      "  \\\\//\n",
      "   \\/\n",
      "\n"
     ]
    }
   ],
   "source": [
    "def diamond(n):\n",
    "    d=''\n",
    "    #for i in range(n):\n",
    "    for j in range(n):\n",
    "        #accounting for freaking python index shift:\n",
    "        d=d+(n-j-1)*'\\x20'+(j+1)*'/'+(j+1)*'\\\\'+'\\n'\n",
    "    for j in range(n-1,-1,-1):#bottom of diamond   \n",
    "        d=d+(n-j-1)*'\\x20'+(j+1)*'\\\\'+(j+1)*'/'+'\\n'        \n",
    "    return d    \n",
    "        \n",
    "print(diamond(4))"
   ]
  },
  {
   "cell_type": "code",
   "execution_count": 109,
   "metadata": {},
   "outputs": [
    {
     "name": "stdout",
     "output_type": "stream",
     "text": [
      "[1, 0]\n"
     ]
    }
   ],
   "source": [
    "print(list(range(1,-1,-1)))\n"
   ]
  },
  {
   "cell_type": "code",
   "execution_count": 104,
   "metadata": {},
   "outputs": [
    {
     "name": "stdout",
     "output_type": "stream",
     "text": [
      "[0]\n"
     ]
    }
   ],
   "source": [
    "def diamond(height):\n",
    "    \"\"\"Return a string resembling a diamond of specified height (measured in lines).\n",
    "    height must be an even integer.\n",
    "    \"\"\"\n",
    "    n=height//2\n",
    "    d=''\n",
    "    for j in range(n):\n",
    "        #accounting for freaking python index shift:\n",
    "        d=d+(n-j-1)*'\\x20'+(j+1)*'/'+(j+1)*'\\\\'+(n-j)*'\\x20'+'\\n'\n",
    "    for j in range(n-1,-1,-1):#bottom of diamond   \n",
    "        d=d+(n-j-1)*'\\x20'+(j+1)*'\\\\'+(j+1)*'/'+(n-j)*'\\x20'+'\\n'        \n",
    "    return d  "
   ]
  },
  {
   "cell_type": "code",
   "execution_count": 22,
   "metadata": {},
   "outputs": [
    {
     "name": "stdout",
     "output_type": "stream",
     "text": [
      "3\n"
     ]
    }
   ],
   "source": [
    "tmp=[1, 3, 1, 5, 1]\n",
    "new=list(set(tmp))\n",
    "#print(tmp.index(1))\n",
    "occurs=[i for i,h_i in enumerate(tmp) if h_i == 1]\n",
    "[tmp[j+1] for j in occurs if j<(len(tmp)-1)]\n",
    "print(len(set(tmp)))"
   ]
  },
  {
   "cell_type": "code",
   "execution_count": 23,
   "metadata": {},
   "outputs": [
    {
     "data": {
      "text/plain": [
       "{1: 0.6, 3: 0.2, 5: 0.2}"
      ]
     },
     "execution_count": 23,
     "metadata": {},
     "output_type": "execute_result"
    }
   ],
   "source": [
    "def abstract(numbers,val):\n",
    "    uniq=list(set(numbers))\n",
    "    occurs=[i for i,h_i in enumerate(numbers) if h_i == val]\n",
    "    return occurs\n",
    "\n",
    "nxt=[1, 3, 1, 5, 1]\n",
    "#print(abstract([1, 3, 1, 5, 1],1))\n",
    "{k:len(abstract(nxt,k))/len(nxt) for k in nxt}"
   ]
  },
  {
   "cell_type": "code",
   "execution_count": 27,
   "metadata": {},
   "outputs": [
    {
     "data": {
      "text/plain": [
       "{1: {3: 0.5, 5: 0.5}, 3: {1: 1.0}, 5: {1: 1.0}}"
      ]
     },
     "execution_count": 27,
     "metadata": {},
     "output_type": "execute_result"
    }
   ],
   "source": [
    "def conditional_roulette_probs(history):\n",
    "    \"\"\"\n",
    "    Return a dictionary where the keys are numbers on the roulette wheel, \n",
    "    and the values are dictionaries mapping numbers on the wheel to probabilities, \n",
    "    such that d[n1][n2] is an estimate of the probability that the next spin will \n",
    "    land on n2, given that the previous spin landed on n1.\n",
    "    Example: \n",
    "    conditional_roulette_probs([1, 3, 1, 5, 1])\n",
    "    > {1: {3: 0.5, 5: 0.5}, \n",
    "       3: {1: 1.0},\n",
    "       5: {1: 1.0}\n",
    "      }\n",
    "    \"\"\"\n",
    "    def abstract(numbers,val):\n",
    "        occurs=[i for i,h_i in enumerate(numbers) if h_i == val]\n",
    "        return occurs\n",
    "    \n",
    "    result={}\n",
    "    for num in set(history):\n",
    "        occurs=abstract(history,num)\n",
    "        nxt=[history[j+1] for j in occurs if j<(len(history)-1)]\n",
    "        result[num]={k:len(abstract(nxt,k))/len(nxt) for k in nxt}\n",
    "    return result\n",
    "\n",
    "conditional_roulette_probs([1, 3, 1, 5, 1])"
   ]
  },
  {
   "cell_type": "code",
   "execution_count": 5,
   "metadata": {},
   "outputs": [
    {
     "name": "stdout",
     "output_type": "stream",
     "text": [
      "WARNING: Encountered racer with unknown name on iteration 3/4 (racer = None)\n"
     ]
    },
    {
     "data": {
      "text/plain": [
       "{'green shell': 2, 'mushroom': 1}"
      ]
     },
     "execution_count": 5,
     "metadata": {},
     "output_type": "execute_result"
    }
   ],
   "source": [
    "def best_items(racers):\n",
    "    \"\"\"Given a list of racer dictionaries, return a dictionary mapping items to the number\n",
    "    of times those items were picked up by racers who finished in first place.\n",
    "    \"\"\"\n",
    "    winner_item_counts = {}\n",
    "    for i in range(len(racers)):\n",
    "        # The i'th racer dictionary\n",
    "        racer = racers[i]\n",
    "        # We're only interested in racers who finished in first\n",
    "        if racer['finish'] == 1:\n",
    "            for itm in racer['items']:\n",
    "                # Add one to the count for this item (adding it to the dict if necessary)\n",
    "                if itm not in winner_item_counts:\n",
    "                    winner_item_counts[itm] = 0\n",
    "                winner_item_counts[itm] += 1\n",
    "\n",
    "        # Data quality issues :/ Print a warning about racers with no name set. We'll take care of it later.\n",
    "        if racer['name'] is None:\n",
    "            print(\"WARNING: Encountered racer with unknown name on iteration {}/{} (racer = {})\".format(\n",
    "                i+1, len(racers), racer['name'])\n",
    "                 )\n",
    "    return winner_item_counts\n",
    "\n",
    "racers=[\n",
    "        {'name': 'Peach', 'items': ['green shell', 'banana', 'green shell',], 'finish': 3},\n",
    "        {'name': 'Bowser', 'items': ['green shell',], 'finish': 1},\n",
    "        # Sometimes the racer's name wasn't recorded\n",
    "        {'name': None, 'items': ['mushroom',], 'finish': 2},\n",
    "        {'name': 'Toad', 'items': ['green shell', 'mushroom'], 'finish': 1},\n",
    "    ]\n",
    "    \n",
    "best_items(racers)"
   ]
  },
  {
   "cell_type": "code",
   "execution_count": 7,
   "metadata": {},
   "outputs": [
    {
     "data": {
      "text/plain": [
       "False"
      ]
     },
     "execution_count": 7,
     "metadata": {},
     "output_type": "execute_result"
    }
   ],
   "source": [
    "def blackjack_hand_greater_than(hand_1, hand_2):\n",
    "    \"\"\"\n",
    "    Return True if hand_1 beats hand_2, and False otherwise.\n",
    "    \n",
    "    In order for hand_1 to beat hand_2 the following must be true:\n",
    "    - The total of hand_1 must not exceed 21\n",
    "    - The total of hand_1 must exceed the total of hand_2 OR hand_2's total must exceed 21\n",
    "    \n",
    "    Hands are represented as a list of cards. Each card is represented by a string.\n",
    "    \n",
    "    When adding up a hand's total, cards with numbers count for that many points. Face\n",
    "    cards ('J', 'Q', and 'K') are worth 10 points. 'A' can count for 1 or 11.\n",
    "    \n",
    "    When determining a hand's total, you should try to count aces in the way that \n",
    "    maximizes the hand's total without going over 21. e.g. the total of ['A', 'A', '9'] is 21,\n",
    "    the total of ['A', 'A', '9', '3'] is 14.\n",
    "    \n",
    "    Examples:\n",
    "    >>> blackjack_hand_greater_than(['K'], ['3', '4'])\n",
    "    True\n",
    "    >>> blackjack_hand_greater_than(['K'], ['10'])\n",
    "    False\n",
    "    >>> blackjack_hand_greater_than(['K', 'K', '2'], ['3'])\n",
    "    False\n",
    "    \"\"\"\n",
    "    def valueCard(card):\n",
    "        value=0\n",
    "        aces=False\n",
    "        if card.isnumeric():\n",
    "            value=int(card)\n",
    "        elif card !='A':\n",
    "            value=10\n",
    "        else:\n",
    "            aces = True\n",
    "        return (value,aces)\n",
    "    def valueHand(hand):\n",
    "        tot=0\n",
    "        aces=0\n",
    "        for card in hand:\n",
    "            info=valueCard(card)\n",
    "            tot=tot+info[0]\n",
    "            aces=aces+info[1] #summing booleans as integers\n",
    "        while aces >0:\n",
    "            if tot+11>21:\n",
    "                tot +=1\n",
    "                aces -=1\n",
    "            else:\n",
    "                tot +=11\n",
    "                aces -=1\n",
    "        return tot\n",
    "            \n",
    "    tot1=valueHand(hand_1)\n",
    "    tot2=valueHand(hand_2)\n",
    "    if tot1>21:\n",
    "        return False\n",
    "    elif tot2>21:\n",
    "        return True\n",
    "    elif tot1 > tot2:\n",
    "        return True\n",
    "    else:\n",
    "        return False\n",
    "\n",
    "blackjack_hand_greater_than(['K', 'K', '2'], ['3'])        \n",
    "            \n",
    "            \n",
    "            \n",
    "            "
   ]
  },
  {
   "cell_type": "code",
   "execution_count": null,
   "metadata": {},
   "outputs": [],
   "source": [
    "def random_and_superstitious(wheel):\n",
    "    \"\"\"Interact with the given wheel over 100 spins with the following strategy:\n",
    "    - if the wheel lands on 4, don't bet on the next spin\n",
    "    - otherwise, bet on a random number on the wheel (from 0 to 10)\n",
    "    \"\"\"\n",
    "    last_number = 0\n",
    "    while wheel.num_remaining_spins() > 0:\n",
    "        if last_number == 4:\n",
    "            # Unlucky! Don't bet anything.\n",
    "            guess = None\n",
    "        else:\n",
    "            guess = random.randint(0, 10)\n",
    "        last_number = wheel.spin(number_to_bet_on=guess)\n",
    "        \n"
   ]
  }
 ],
 "metadata": {
  "kernelspec": {
   "display_name": "Python 3",
   "language": "python",
   "name": "python3"
  },
  "language_info": {
   "codemirror_mode": {
    "name": "ipython",
    "version": 3
   },
   "file_extension": ".py",
   "mimetype": "text/x-python",
   "name": "python",
   "nbconvert_exporter": "python",
   "pygments_lexer": "ipython3",
   "version": "3.6.4"
  }
 },
 "nbformat": 4,
 "nbformat_minor": 2
}
